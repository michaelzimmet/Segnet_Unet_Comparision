{
 "cells": [
  {
   "cell_type": "markdown",
   "id": "b6bd52cc-d948-4322-ba2a-b739b10e7376",
   "metadata": {},
   "source": [
    "# Studienarbeit ComputerVision 2\n",
    "## Differences and Limitations of Unet and SegNet"
   ]
  },
  {
   "cell_type": "markdown",
   "id": "191df47b-5a2f-4ff0-a252-ab381b5c3bef",
   "metadata": {},
   "source": [
    "---"
   ]
  },
  {
   "cell_type": "code",
   "execution_count": 2,
   "id": "7ab76b26-1ad6-4340-b2c4-4282a398fa79",
   "metadata": {},
   "outputs": [],
   "source": [
    "# relevant imports\n",
    "import os\n",
    "from torch import nn, optim\n",
    "from torchsummary import summary\n",
    "from datasets import load_dataset\n",
    "from torchvision.transforms import transforms\n",
    "from PIL import Image\n",
    "from torch.utils.data import Dataset\n",
    "import numpy as np\n",
    "from ray.train import Checkpoint\n",
    "from monai.losses import DiceLoss\n",
    "from torch.optim.lr_scheduler import ExponentialLR\n",
    "from torch.utils.data import DataLoader\n",
    "from torchvision import datasets\n",
    "from tqdm import tqdm\n",
    "from typing import List\n",
    "from matplotlib import pyplot as plt\n",
    "import pandas as pd\n",
    "from ray.air import session\n",
    "from pathlib import Path\n",
    "import torch\n",
    "from monai.metrics import MeanIoU\n",
    "from monai.transforms import Activations, AsDiscrete"
   ]
  },
  {
   "cell_type": "markdown",
   "id": "5ec33212-8e8b-49fb-9437-051e5432f500",
   "metadata": {},
   "source": [
    "#### Modelarchitecture\n",
    "![segnet_graph.png](https://production-media.paperswithcode.com/methods/segnet_Vorazx7.png)\n"
   ]
  },
  {
   "cell_type": "code",
   "execution_count": 3,
   "id": "3cc53f0d-2c01-4073-9627-be207eeb048b",
   "metadata": {},
   "outputs": [],
   "source": [
    "class SegNet(nn.Module):\n",
    "    def __init__(self, input_size, output_size):\n",
    "        super(SegNet, self).__init__()\n",
    "\n",
    "        # Encoder Blocks\n",
    "        self.encoder_block_1 = SegNet._conv_block(input_size, 32)\n",
    "        self.max_pool_1 = nn.MaxPool2d(kernel_size=2, stride=2, return_indices=True)\n",
    "\n",
    "        self.encoder_block_2 = SegNet._conv_block(32, 64)\n",
    "        self.max_pool_2 = nn.MaxPool2d(kernel_size=2, stride=2, return_indices=True)\n",
    "\n",
    "        self.encoder_block_3 = SegNet._conv_block(64, 128)\n",
    "        self.max_pool_3 = nn.MaxPool2d(kernel_size=2, stride=2, return_indices=True)\n",
    "\n",
    "        self.encoder_block_4 = SegNet._conv_block(128, 256)\n",
    "        self.max_pool_4 = nn.MaxPool2d(kernel_size=2, stride=2, return_indices=True)\n",
    "\n",
    "        # Bottleneck\n",
    "        self.bottle_neck_block_1 = SegNet._conv_block(256, 512)\n",
    "        self.max_pool_5 = nn.MaxPool2d(kernel_size=2, stride=2, return_indices=True)\n",
    "        self.max_unpool = nn.MaxUnpool2d(kernel_size=2, stride=2)\n",
    "\n",
    "        # Decoder Blocks\n",
    "        self.decoder_block_5 = SegNet._conv_block(512, 256)\n",
    "\n",
    "        self.unpool_block_4 = nn.MaxUnpool2d(kernel_size=2, stride=2)\n",
    "        self.decoder_block_4 = SegNet._conv_block(256, 128)\n",
    "\n",
    "        self.unpool_block_3 = nn.MaxUnpool2d(kernel_size=2, stride=2)\n",
    "        self.decoder_block_3 = SegNet._conv_block(128, 64)\n",
    "\n",
    "        self.unpool_block_2 = nn.MaxUnpool2d(kernel_size=2, stride=2)\n",
    "        self.decoder_block_2 = SegNet._conv_block(64, 32)\n",
    "\n",
    "        self.unpool_block_1 = nn.MaxUnpool2d(kernel_size=2, stride=2)\n",
    "        self.decoder_block_1 = SegNet._conv_block(32, 32)\n",
    "\n",
    "        self.fc = nn.Conv2d(32, output_size, kernel_size=1)\n",
    "\n",
    "    def forward(self, x):\n",
    "        e1 = self.encoder_block_1(x)\n",
    "        e1_1, i1 = self.max_pool_1(e1)\n",
    "\n",
    "        e2 = self.encoder_block_2(e1_1)\n",
    "        e2_1, i2 = self.max_pool_2(e2)\n",
    "\n",
    "        e3 = self.encoder_block_3(e2_1)\n",
    "        e3_1, i3 = self.max_pool_3(e3)\n",
    "\n",
    "        e4 = self.encoder_block_4(e3_1)\n",
    "        e4_1, i4 = self.max_pool_4(e4)\n",
    "\n",
    "        b = self.bottle_neck_block_1(e4_1)\n",
    "        b, i5 = self.max_pool_5(b)\n",
    "        b_unpool = self.max_unpool(b, i5)\n",
    "        b = self.decoder_block_5(b_unpool)\n",
    "\n",
    "        d4 = self.unpool_block_4(b, i4)\n",
    "        d4 = self.decoder_block_4(d4)\n",
    "\n",
    "        d3 = self.unpool_block_3(d4, i3)\n",
    "        d3 = self.decoder_block_3(d3)\n",
    "\n",
    "        d2 = self.unpool_block_2(d3, i2)\n",
    "        d2 = self.decoder_block_2(d2)\n",
    "\n",
    "        d1 = self.unpool_block_1(d2, i1)\n",
    "        d1 = self.decoder_block_1(d1)\n",
    "\n",
    "        return self.fc(d1)\n",
    "\n",
    "\n",
    "    @staticmethod\n",
    "    def _conv_block(input_size, output_size):\n",
    "        return nn.Sequential(\n",
    "            nn.Conv2d(input_size, output_size, kernel_size=3, padding=1, bias=False),\n",
    "            nn.BatchNorm2d(output_size),\n",
    "            nn.ReLU(inplace=True),\n",
    "            nn.Conv2d(output_size, output_size, kernel_size=3, padding=1, bias=False),\n",
    "            nn.BatchNorm2d(output_size),\n",
    "            nn.ReLU(inplace=True))"
   ]
  },
  {
   "cell_type": "code",
   "execution_count": 36,
   "id": "8444eb7e-d2f9-4fa7-8cb7-14e4d7b3f48f",
   "metadata": {},
   "outputs": [
    {
     "name": "stdout",
     "output_type": "stream",
     "text": [
      "----------------------------------------------------------------\n",
      "        Layer (type)               Output Shape         Param #\n",
      "================================================================\n",
      "            Conv2d-1         [-1, 32, 256, 256]             864\n",
      "       BatchNorm2d-2         [-1, 32, 256, 256]              64\n",
      "              ReLU-3         [-1, 32, 256, 256]               0\n",
      "            Conv2d-4         [-1, 32, 256, 256]           9,216\n",
      "       BatchNorm2d-5         [-1, 32, 256, 256]              64\n",
      "              ReLU-6         [-1, 32, 256, 256]               0\n",
      "         MaxPool2d-7  [[-1, 32, 128, 128], [-1, 32, 128, 128]]               0\n",
      "            Conv2d-8         [-1, 64, 128, 128]          18,432\n",
      "       BatchNorm2d-9         [-1, 64, 128, 128]             128\n",
      "             ReLU-10         [-1, 64, 128, 128]               0\n",
      "           Conv2d-11         [-1, 64, 128, 128]          36,864\n",
      "      BatchNorm2d-12         [-1, 64, 128, 128]             128\n",
      "             ReLU-13         [-1, 64, 128, 128]               0\n",
      "        MaxPool2d-14  [[-1, 64, 64, 64], [-1, 64, 64, 64]]               0\n",
      "           Conv2d-15          [-1, 128, 64, 64]          73,728\n",
      "      BatchNorm2d-16          [-1, 128, 64, 64]             256\n",
      "             ReLU-17          [-1, 128, 64, 64]               0\n",
      "           Conv2d-18          [-1, 128, 64, 64]         147,456\n",
      "      BatchNorm2d-19          [-1, 128, 64, 64]             256\n",
      "             ReLU-20          [-1, 128, 64, 64]               0\n",
      "        MaxPool2d-21  [[-1, 128, 32, 32], [-1, 128, 32, 32]]               0\n",
      "           Conv2d-22          [-1, 256, 32, 32]         294,912\n",
      "      BatchNorm2d-23          [-1, 256, 32, 32]             512\n",
      "             ReLU-24          [-1, 256, 32, 32]               0\n",
      "           Conv2d-25          [-1, 256, 32, 32]         589,824\n",
      "      BatchNorm2d-26          [-1, 256, 32, 32]             512\n",
      "             ReLU-27          [-1, 256, 32, 32]               0\n",
      "        MaxPool2d-28  [[-1, 256, 16, 16], [-1, 256, 16, 16]]               0\n",
      "           Conv2d-29          [-1, 512, 16, 16]       1,179,648\n",
      "      BatchNorm2d-30          [-1, 512, 16, 16]           1,024\n",
      "             ReLU-31          [-1, 512, 16, 16]               0\n",
      "           Conv2d-32          [-1, 512, 16, 16]       2,359,296\n",
      "      BatchNorm2d-33          [-1, 512, 16, 16]           1,024\n",
      "             ReLU-34          [-1, 512, 16, 16]               0\n",
      "        MaxPool2d-35  [[-1, 512, 8, 8], [-1, 512, 8, 8]]               0\n",
      "      MaxUnpool2d-36          [-1, 512, 16, 16]               0\n",
      "           Conv2d-37          [-1, 256, 16, 16]       1,179,648\n",
      "      BatchNorm2d-38          [-1, 256, 16, 16]             512\n",
      "             ReLU-39          [-1, 256, 16, 16]               0\n",
      "           Conv2d-40          [-1, 256, 16, 16]         589,824\n",
      "      BatchNorm2d-41          [-1, 256, 16, 16]             512\n",
      "             ReLU-42          [-1, 256, 16, 16]               0\n",
      "      MaxUnpool2d-43          [-1, 256, 32, 32]               0\n",
      "           Conv2d-44          [-1, 128, 32, 32]         294,912\n",
      "      BatchNorm2d-45          [-1, 128, 32, 32]             256\n",
      "             ReLU-46          [-1, 128, 32, 32]               0\n",
      "           Conv2d-47          [-1, 128, 32, 32]         147,456\n",
      "      BatchNorm2d-48          [-1, 128, 32, 32]             256\n",
      "             ReLU-49          [-1, 128, 32, 32]               0\n",
      "      MaxUnpool2d-50          [-1, 128, 64, 64]               0\n",
      "           Conv2d-51           [-1, 64, 64, 64]          73,728\n",
      "      BatchNorm2d-52           [-1, 64, 64, 64]             128\n",
      "             ReLU-53           [-1, 64, 64, 64]               0\n",
      "           Conv2d-54           [-1, 64, 64, 64]          36,864\n",
      "      BatchNorm2d-55           [-1, 64, 64, 64]             128\n",
      "             ReLU-56           [-1, 64, 64, 64]               0\n",
      "      MaxUnpool2d-57         [-1, 64, 128, 128]               0\n",
      "           Conv2d-58         [-1, 32, 128, 128]          18,432\n",
      "      BatchNorm2d-59         [-1, 32, 128, 128]              64\n",
      "             ReLU-60         [-1, 32, 128, 128]               0\n",
      "           Conv2d-61         [-1, 32, 128, 128]           9,216\n",
      "      BatchNorm2d-62         [-1, 32, 128, 128]              64\n",
      "             ReLU-63         [-1, 32, 128, 128]               0\n",
      "      MaxUnpool2d-64         [-1, 32, 256, 256]               0\n",
      "           Conv2d-65         [-1, 32, 256, 256]           9,216\n",
      "      BatchNorm2d-66         [-1, 32, 256, 256]              64\n",
      "             ReLU-67         [-1, 32, 256, 256]               0\n",
      "           Conv2d-68         [-1, 32, 256, 256]           9,216\n",
      "      BatchNorm2d-69         [-1, 32, 256, 256]              64\n",
      "             ReLU-70         [-1, 32, 256, 256]               0\n",
      "           Conv2d-71          [-1, 1, 256, 256]              33\n",
      "================================================================\n",
      "Total params: 7,084,801\n",
      "Trainable params: 7,084,801\n",
      "Non-trainable params: 0\n",
      "----------------------------------------------------------------\n",
      "Input size (MB): 0.75\n",
      "Forward/backward pass size (MB): 2793113.50\n",
      "Params size (MB): 27.03\n",
      "Estimated Total Size (MB): 2793141.28\n",
      "----------------------------------------------------------------\n"
     ]
    }
   ],
   "source": [
    "segnet = SegNet(3, 1)\n",
    "segnet.cuda()\n",
    "summary(segnet, (3, 256, 256))"
   ]
  },
  {
   "cell_type": "markdown",
   "id": "05b15f52-370d-49b7-9a67-cc5bee169d28",
   "metadata": {},
   "source": [
    "---"
   ]
  },
  {
   "cell_type": "markdown",
   "id": "aa78f9fd-82ed-4643-b4f8-bff1806878e7",
   "metadata": {},
   "source": [
    "#### Datapreparation"
   ]
  },
  {
   "cell_type": "code",
   "execution_count": 4,
   "id": "55fb2514-f1f9-4480-8c22-8e3ed255aed3",
   "metadata": {},
   "outputs": [
    {
     "data": {
      "application/vnd.jupyter.widget-view+json": {
       "model_id": "0702a9a6184f456f8e01a374f16fc61d",
       "version_major": 2,
       "version_minor": 0
      },
      "text/plain": [
       "Resolving data files:   0%|          | 0/50 [00:00<?, ?it/s]"
      ]
     },
     "metadata": {},
     "output_type": "display_data"
    },
    {
     "data": {
      "application/vnd.jupyter.widget-view+json": {
       "model_id": "dc0c238391734e039094b94ad3e90264",
       "version_major": 2,
       "version_minor": 0
      },
      "text/plain": [
       "Resolving data files:   0%|          | 0/50 [00:00<?, ?it/s]"
      ]
     },
     "metadata": {},
     "output_type": "display_data"
    },
    {
     "data": {
      "application/vnd.jupyter.widget-view+json": {
       "model_id": "8111b4b552284ba4a79177291114bd0a",
       "version_major": 2,
       "version_minor": 0
      },
      "text/plain": [
       "Resolving data files:   0%|          | 0/50 [00:00<?, ?it/s]"
      ]
     },
     "metadata": {},
     "output_type": "display_data"
    },
    {
     "data": {
      "application/vnd.jupyter.widget-view+json": {
       "model_id": "c90b3d438f9444ecbf9b8d5fc266a07b",
       "version_major": 2,
       "version_minor": 0
      },
      "text/plain": [
       "Resolving data files:   0%|          | 0/50 [00:00<?, ?it/s]"
      ]
     },
     "metadata": {},
     "output_type": "display_data"
    },
    {
     "data": {
      "application/vnd.jupyter.widget-view+json": {
       "model_id": "9d0ebd4b2a104d9fb98326ad47f22ba1",
       "version_major": 2,
       "version_minor": 0
      },
      "text/plain": [
       "Resolving data files:   0%|          | 0/50 [00:00<?, ?it/s]"
      ]
     },
     "metadata": {},
     "output_type": "display_data"
    },
    {
     "data": {
      "application/vnd.jupyter.widget-view+json": {
       "model_id": "e9454a23b6cf4eac896d9749d1841d73",
       "version_major": 2,
       "version_minor": 0
      },
      "text/plain": [
       "Resolving data files:   0%|          | 0/50 [00:00<?, ?it/s]"
      ]
     },
     "metadata": {},
     "output_type": "display_data"
    },
    {
     "data": {
      "text/plain": [
       "DatasetDict({\n",
       "    train: Dataset({\n",
       "        features: ['image', 'label'],\n",
       "        num_rows: 2594\n",
       "    })\n",
       "    validation: Dataset({\n",
       "        features: ['image', 'label'],\n",
       "        num_rows: 100\n",
       "    })\n",
       "    test: Dataset({\n",
       "        features: ['image', 'label'],\n",
       "        num_rows: 1000\n",
       "    })\n",
       "})"
      ]
     },
     "execution_count": 4,
     "metadata": {},
     "output_type": "execute_result"
    }
   ],
   "source": [
    "isic18_dataset = load_dataset(\"surajbijjahalli/ISIC2018\")\n",
    "isic18_dataset"
   ]
  },
  {
   "cell_type": "code",
   "execution_count": 5,
   "id": "ca235cf0-fdbf-4265-a821-fb7c58e3f6e8",
   "metadata": {},
   "outputs": [],
   "source": [
    "class ISICDataset(Dataset):\n",
    "    def __init__(self, dataset, transform_image=None, transform_mask=None):\n",
    "        self.dataset = dataset\n",
    "        self.transform_image = transform_image\n",
    "        self.transform_mask = transform_mask\n",
    "\n",
    "    def __len__(self):\n",
    "        return len(self.dataset)\n",
    "\n",
    "    def __getitem__(self, idx):\n",
    "        example = self.dataset[idx]\n",
    "\n",
    "        image = example['image']\n",
    "        mask = example['label']\n",
    "        mask = mask.convert('L')\n",
    "        mask = np.array(mask)\n",
    "        mask[mask > 0] = 255\n",
    "        mask[mask == 0] = 0\n",
    "        mask = Image.fromarray(mask)\n",
    "\n",
    "        if self.transform_image:\n",
    "            image = self.transform_image(image)\n",
    "        if self.transform_mask:\n",
    "            mask = self.transform_mask(mask)\n",
    "\n",
    "        return image, mask"
   ]
  },
  {
   "cell_type": "code",
   "execution_count": 6,
   "id": "2408a562-64c6-4750-bc9b-0534aeda1e0c",
   "metadata": {},
   "outputs": [],
   "source": [
    "transform_image = transforms.Compose([\n",
    "    transforms.Resize((256, 256), interpolation=Image.BILINEAR),\n",
    "    transforms.ToTensor(),\n",
    "    transforms.Normalize([.5, .5, .5], [.5, .5, .5])])\n",
    "\n",
    "transform_mask = transforms.Compose([\n",
    "    transforms.Resize((256, 256), interpolation=Image.NEAREST),\n",
    "    transforms.ToTensor()])\n",
    "\n",
    "isic18_train_dataset = ISICDataset(isic18_dataset['train'].select(range(100)), transform_image, transform_mask)\n",
    "isic18_val_dataset = ISICDataset(isic18_dataset['validation'], transform_image, transform_mask)\n",
    "isic18_test_dataset = ISICDataset(isic18_dataset['test'], transform_image, transform_mask)"
   ]
  },
  {
   "cell_type": "markdown",
   "id": "4eabf307-9f11-4041-99c0-a433f2b16cac",
   "metadata": {},
   "source": [
    "---"
   ]
  },
  {
   "cell_type": "markdown",
   "id": "66e43d57-1110-43c9-bfeb-97714207c59e",
   "metadata": {},
   "source": [
    "#### Training"
   ]
  },
  {
   "cell_type": "code",
   "execution_count": 40,
   "id": "667017bc-d091-4eb2-b1f3-b7537eb77382",
   "metadata": {},
   "outputs": [],
   "source": [
    "def validation_loop(model: nn.Module, validation_dataloader: DataLoader, loss_fn, device) -> float:\n",
    "    \"\"\"\n",
    "    Validation loop for the CNN\n",
    "    :param model: neural network\n",
    "    :param validation_dataloader: dataloader for the validation set\n",
    "    :param loss_fn: loss function\n",
    "    :param device: device on which to perform the validation\n",
    "    :return: validation loss\n",
    "    \"\"\"\n",
    "    running_val_loss: float = 0.\n",
    "    model.eval()\n",
    "    with torch.no_grad():\n",
    "        for i, vdata in enumerate(validation_dataloader):\n",
    "            inputs, targets = vdata\n",
    "            inputs, targets = inputs.to(device), targets.to(device)\n",
    "\n",
    "            vloss = loss_fn(model(inputs), targets)\n",
    "            running_val_loss += vloss.item()\n",
    "        running_val_loss /= (i + 1)\n",
    "\n",
    "    return running_val_loss"
   ]
  },
  {
   "cell_type": "code",
   "execution_count": 41,
   "id": "ea8e017f-6315-4e31-bf0f-9000bf612b30",
   "metadata": {},
   "outputs": [],
   "source": [
    "def train_loop(model: nn.Module, train_dataloader: DataLoader, loss_fn, optimizer, device) -> float:\n",
    "    \"\"\"\n",
    "    Main minibatch train loop for the CNN\n",
    "    :param model: neural network\n",
    "    :param train_dataloader: dataloader for the train set\n",
    "    :param loss_fn: loss function\n",
    "    :param optimizer: optimizer\n",
    "    :param device: device on which to perform the training\n",
    "    :return: train loss\n",
    "    \"\"\"\n",
    "    running_tr_loss: float = 0.\n",
    "    for i, data in enumerate(train_dataloader):\n",
    "        inputs, targets = data\n",
    "        inputs, targets = inputs.to(device), targets.to(device)\n",
    "\n",
    "        yhats = model(inputs)\n",
    "        optimizer.zero_grad()\n",
    "        tloss = loss_fn(yhats, targets)\n",
    "\n",
    "        tloss.backward()\n",
    "        optimizer.step()\n",
    "\n",
    "        running_tr_loss += tloss.item()\n",
    "    running_tr_loss /= (i + 1)\n",
    "\n",
    "    return running_tr_loss"
   ]
  },
  {
   "cell_type": "code",
   "execution_count": 42,
   "id": "628a98f2-f4ab-49da-8faa-dd3d6d1086c1",
   "metadata": {},
   "outputs": [],
   "source": [
    "def train_segnet(\n",
    "        config: dict,\n",
    "        train_dataset: datasets,\n",
    "        validation_dataset: datasets,\n",
    "        epochs: int,\n",
    "        apply_scheduler: bool = True,\n",
    "        return_flag: bool = False) -> dict | None:\n",
    "    \"\"\"\n",
    "    Prepared train loop for ray parameter tuning.\n",
    "    Training components:\n",
    "        - model: CNN\n",
    "        - loss function: CrossEntropyLoss\n",
    "        - optimizer: Adam\n",
    "        - scheduler: ExponentialLR (optional)\n",
    "\n",
    "    :param config: dict of hyperparameters\n",
    "    :param train_dataset:\n",
    "    :param validation_dataset:\n",
    "    :param epochs: number of epochs to train\n",
    "    :param apply_scheduler: weather scheduler should be used or not\n",
    "    :param return_flag: weather to return the model and losses or not\n",
    "    :return: training results\n",
    "    \"\"\"\n",
    "\n",
    "    device: torch.device = torch.device('cuda:1' if torch.cuda.is_available() else 'cpu')\n",
    "    print(device)\n",
    "    model: nn.Module = SegNet(3, 1).to(device)\n",
    "\n",
    "    loss_fn = DiceLoss(sigmoid=True)\n",
    "\n",
    "    optim_params: dict = {\n",
    "        'lr': config[\"lr\"]\n",
    "    }\n",
    "    optimizer: optim.Adam = optim.Adam(model.parameters(), **optim_params)\n",
    "\n",
    "    scheduler_params: dict = {\n",
    "        'gamma': config['gamma'],\n",
    "        'verbose': False\n",
    "    }\n",
    "    scheduler: ExponentialLR = ExponentialLR(optimizer, **scheduler_params)\n",
    "\n",
    "    train_dataloader: DataLoader = DataLoader(train_dataset, batch_size=64, shuffle=True, num_workers=4)\n",
    "    validation_dataloader: DataLoader = DataLoader(validation_dataset, batch_size=64, shuffle=False, num_workers=4)\n",
    "\n",
    "    train_losses: List[float] = []\n",
    "    val_losses: List[float] = []\n",
    "\n",
    "    print('Start training...')\n",
    "    for epoch in tqdm(range(epochs)):\n",
    "        print('Start: ', epoch)\n",
    "        model.train()\n",
    "\n",
    "        # Train loop to iterate over the dataloader batches\n",
    "        running_tr_loss: float = train_loop(model, train_dataloader, loss_fn, optimizer, device)\n",
    "        if apply_scheduler:\n",
    "            scheduler.step()\n",
    "\n",
    "        # Validation loop\n",
    "        running_val_loss: float = validation_loop(model, validation_dataloader, loss_fn, device)\n",
    "\n",
    "        print(epoch, \" - \", 'tr_loss:', running_tr_loss, 'val_loss:', running_val_loss)\n",
    "        train_losses.append(running_tr_loss)\n",
    "        val_losses.append(running_val_loss)\n",
    "\n",
    "        # Save a checkpoint from the model\n",
    "        os.makedirs(\"res/model\", exist_ok=True)\n",
    "        torch.save(\n",
    "            (model.state_dict(), optimizer.state_dict()), \"res/model/checkpoint.pt\")\n",
    "        checkpoint: Checkpoint = Checkpoint.from_directory(\"res/model\")\n",
    "        session.report({\"val_loss\": running_val_loss,\n",
    "                        \"train_loss\": running_tr_loss}, checkpoint=checkpoint)\n",
    "\n",
    "    if return_flag:\n",
    "        return {\"train_losses\": train_losses,\n",
    "                \"val_losses\": val_losses,\n",
    "                \"model\": model}"
   ]
  },
  {
   "cell_type": "markdown",
   "id": "243e5f7f-1aaf-410b-92a6-b9c4a109154f",
   "metadata": {},
   "source": [
    "---"
   ]
  },
  {
   "cell_type": "markdown",
   "id": "3bf4ed1b-eb81-44b8-a03c-f72477b9cd37",
   "metadata": {},
   "source": [
    "#### Training with parameter"
   ]
  },
  {
   "cell_type": "code",
   "execution_count": 58,
   "id": "28c0f6bb-43c0-405d-8901-f99c29a034cc",
   "metadata": {
    "scrolled": true
   },
   "outputs": [
    {
     "name": "stdout",
     "output_type": "stream",
     "text": [
      "cuda:1\n",
      "Start training...\n"
     ]
    },
    {
     "name": "stderr",
     "output_type": "stream",
     "text": [
      "  0%|          | 0/50 [00:00<?, ?it/s]"
     ]
    },
    {
     "name": "stdout",
     "output_type": "stream",
     "text": [
      "Start:  0\n",
      "0  -  tr_loss: 0.6737657785415649 val_loss: 0.6985524594783783\n"
     ]
    },
    {
     "name": "stderr",
     "output_type": "stream",
     "text": [
      "  2%|▏         | 1/50 [00:10<08:53, 10.90s/it]"
     ]
    },
    {
     "name": "stdout",
     "output_type": "stream",
     "text": [
      "Start:  1\n",
      "1  -  tr_loss: 0.6523847579956055 val_loss: 0.6987696588039398\n"
     ]
    },
    {
     "name": "stderr",
     "output_type": "stream",
     "text": [
      "  4%|▍         | 2/50 [00:21<08:25, 10.53s/it]"
     ]
    },
    {
     "name": "stdout",
     "output_type": "stream",
     "text": [
      "Start:  2\n",
      "2  -  tr_loss: 0.6452270150184631 val_loss: 0.699448436498642\n"
     ]
    },
    {
     "name": "stderr",
     "output_type": "stream",
     "text": [
      "  6%|▌         | 3/50 [00:31<08:06, 10.36s/it]"
     ]
    },
    {
     "name": "stdout",
     "output_type": "stream",
     "text": [
      "Start:  3\n",
      "3  -  tr_loss: 0.6125338971614838 val_loss: 0.7014745473861694\n"
     ]
    },
    {
     "name": "stderr",
     "output_type": "stream",
     "text": [
      "  8%|▊         | 4/50 [00:41<07:55, 10.33s/it]"
     ]
    },
    {
     "name": "stdout",
     "output_type": "stream",
     "text": [
      "Start:  4\n",
      "4  -  tr_loss: 0.5460845828056335 val_loss: 0.7049151062965393\n"
     ]
    },
    {
     "name": "stderr",
     "output_type": "stream",
     "text": [
      " 10%|█         | 5/50 [00:51<07:44, 10.32s/it]"
     ]
    },
    {
     "name": "stdout",
     "output_type": "stream",
     "text": [
      "Start:  5\n",
      "5  -  tr_loss: 0.4917189031839371 val_loss: 0.7073076665401459\n"
     ]
    },
    {
     "name": "stderr",
     "output_type": "stream",
     "text": [
      " 12%|█▏        | 6/50 [01:02<07:31, 10.25s/it]"
     ]
    },
    {
     "name": "stdout",
     "output_type": "stream",
     "text": [
      "Start:  6\n",
      "6  -  tr_loss: 0.4656590670347214 val_loss: 0.702865332365036\n"
     ]
    },
    {
     "name": "stderr",
     "output_type": "stream",
     "text": [
      " 14%|█▍        | 7/50 [01:12<07:19, 10.22s/it]"
     ]
    },
    {
     "name": "stdout",
     "output_type": "stream",
     "text": [
      "Start:  7\n",
      "7  -  tr_loss: 0.4632362574338913 val_loss: 0.6789548099040985\n"
     ]
    },
    {
     "name": "stderr",
     "output_type": "stream",
     "text": [
      " 16%|█▌        | 8/50 [01:22<07:14, 10.36s/it]"
     ]
    },
    {
     "name": "stdout",
     "output_type": "stream",
     "text": [
      "Start:  8\n",
      "8  -  tr_loss: 0.43362684547901154 val_loss: 0.6405681371688843\n"
     ]
    },
    {
     "name": "stderr",
     "output_type": "stream",
     "text": [
      " 18%|█▊        | 9/50 [01:33<07:08, 10.45s/it]"
     ]
    },
    {
     "name": "stdout",
     "output_type": "stream",
     "text": [
      "Start:  9\n",
      "9  -  tr_loss: 0.4284062087535858 val_loss: 0.604096382856369\n"
     ]
    },
    {
     "name": "stderr",
     "output_type": "stream",
     "text": [
      " 20%|██        | 10/50 [01:44<07:01, 10.55s/it]"
     ]
    },
    {
     "name": "stdout",
     "output_type": "stream",
     "text": [
      "Start:  10\n",
      "10  -  tr_loss: 0.43553099036216736 val_loss: 0.5790464580059052\n"
     ]
    },
    {
     "name": "stderr",
     "output_type": "stream",
     "text": [
      " 22%|██▏       | 11/50 [01:54<06:52, 10.58s/it]"
     ]
    },
    {
     "name": "stdout",
     "output_type": "stream",
     "text": [
      "Start:  11\n",
      "11  -  tr_loss: 0.4213962256908417 val_loss: 0.5592960715293884\n"
     ]
    },
    {
     "name": "stderr",
     "output_type": "stream",
     "text": [
      " 24%|██▍       | 12/50 [02:05<06:37, 10.47s/it]"
     ]
    },
    {
     "name": "stdout",
     "output_type": "stream",
     "text": [
      "Start:  12\n",
      "12  -  tr_loss: 0.4157777726650238 val_loss: 0.5524817407131195\n"
     ]
    },
    {
     "name": "stderr",
     "output_type": "stream",
     "text": [
      " 26%|██▌       | 13/50 [02:15<06:25, 10.43s/it]"
     ]
    },
    {
     "name": "stdout",
     "output_type": "stream",
     "text": [
      "Start:  13\n",
      "13  -  tr_loss: 0.41137439012527466 val_loss: 0.5459994971752167\n"
     ]
    },
    {
     "name": "stderr",
     "output_type": "stream",
     "text": [
      " 28%|██▊       | 14/50 [02:25<06:14, 10.39s/it]"
     ]
    },
    {
     "name": "stdout",
     "output_type": "stream",
     "text": [
      "Start:  14\n",
      "14  -  tr_loss: 0.3998103141784668 val_loss: 0.5434400141239166\n"
     ]
    },
    {
     "name": "stderr",
     "output_type": "stream",
     "text": [
      " 30%|███       | 15/50 [02:36<06:02, 10.36s/it]"
     ]
    },
    {
     "name": "stdout",
     "output_type": "stream",
     "text": [
      "Start:  15\n",
      "15  -  tr_loss: 0.40680594742298126 val_loss: 0.5371181964874268\n"
     ]
    },
    {
     "name": "stderr",
     "output_type": "stream",
     "text": [
      " 32%|███▏      | 16/50 [02:46<05:50, 10.31s/it]"
     ]
    },
    {
     "name": "stdout",
     "output_type": "stream",
     "text": [
      "Start:  16\n",
      "16  -  tr_loss: 0.3922017365694046 val_loss: 0.5315939486026764\n"
     ]
    },
    {
     "name": "stderr",
     "output_type": "stream",
     "text": [
      " 34%|███▍      | 17/50 [02:56<05:40, 10.31s/it]"
     ]
    },
    {
     "name": "stdout",
     "output_type": "stream",
     "text": [
      "Start:  17\n",
      "17  -  tr_loss: 0.3870612531900406 val_loss: 0.5290020704269409\n"
     ]
    },
    {
     "name": "stderr",
     "output_type": "stream",
     "text": [
      " 36%|███▌      | 18/50 [03:06<05:28, 10.26s/it]"
     ]
    },
    {
     "name": "stdout",
     "output_type": "stream",
     "text": [
      "Start:  18\n",
      "18  -  tr_loss: 0.3941827863454819 val_loss: 0.5285901129245758\n"
     ]
    },
    {
     "name": "stderr",
     "output_type": "stream",
     "text": [
      " 38%|███▊      | 19/50 [03:16<05:18, 10.26s/it]"
     ]
    },
    {
     "name": "stdout",
     "output_type": "stream",
     "text": [
      "Start:  19\n",
      "19  -  tr_loss: 0.3960510343313217 val_loss: 0.526597797870636\n"
     ]
    },
    {
     "name": "stderr",
     "output_type": "stream",
     "text": [
      " 40%|████      | 20/50 [03:27<05:07, 10.25s/it]"
     ]
    },
    {
     "name": "stdout",
     "output_type": "stream",
     "text": [
      "Start:  20\n",
      "20  -  tr_loss: 0.39350153505802155 val_loss: 0.5217811465263367\n"
     ]
    },
    {
     "name": "stderr",
     "output_type": "stream",
     "text": [
      " 42%|████▏     | 21/50 [03:37<04:56, 10.22s/it]"
     ]
    },
    {
     "name": "stdout",
     "output_type": "stream",
     "text": [
      "Start:  21\n",
      "21  -  tr_loss: 0.3809567540884018 val_loss: 0.5206250548362732\n"
     ]
    },
    {
     "name": "stderr",
     "output_type": "stream",
     "text": [
      " 44%|████▍     | 22/50 [03:47<04:47, 10.27s/it]"
     ]
    },
    {
     "name": "stdout",
     "output_type": "stream",
     "text": [
      "Start:  22\n",
      "22  -  tr_loss: 0.3781706541776657 val_loss: 0.51741723716259\n"
     ]
    },
    {
     "name": "stderr",
     "output_type": "stream",
     "text": [
      " 46%|████▌     | 23/50 [03:57<04:37, 10.27s/it]"
     ]
    },
    {
     "name": "stdout",
     "output_type": "stream",
     "text": [
      "Start:  23\n",
      "23  -  tr_loss: 0.36981554329395294 val_loss: 0.5161983072757721\n"
     ]
    },
    {
     "name": "stderr",
     "output_type": "stream",
     "text": [
      " 48%|████▊     | 24/50 [04:08<04:27, 10.29s/it]"
     ]
    },
    {
     "name": "stdout",
     "output_type": "stream",
     "text": [
      "Start:  24\n",
      "24  -  tr_loss: 0.3719843477010727 val_loss: 0.517298549413681\n"
     ]
    },
    {
     "name": "stderr",
     "output_type": "stream",
     "text": [
      " 50%|█████     | 25/50 [04:18<04:17, 10.30s/it]"
     ]
    },
    {
     "name": "stdout",
     "output_type": "stream",
     "text": [
      "Start:  25\n",
      "25  -  tr_loss: 0.3690369725227356 val_loss: 0.5117957592010498\n"
     ]
    },
    {
     "name": "stderr",
     "output_type": "stream",
     "text": [
      " 52%|█████▏    | 26/50 [04:28<04:06, 10.28s/it]"
     ]
    },
    {
     "name": "stdout",
     "output_type": "stream",
     "text": [
      "Start:  26\n",
      "26  -  tr_loss: 0.375628337264061 val_loss: 0.5062414705753326\n"
     ]
    },
    {
     "name": "stderr",
     "output_type": "stream",
     "text": [
      " 54%|█████▍    | 27/50 [04:39<03:55, 10.25s/it]"
     ]
    },
    {
     "name": "stdout",
     "output_type": "stream",
     "text": [
      "Start:  27\n",
      "27  -  tr_loss: 0.3642526715993881 val_loss: 0.5071229040622711\n"
     ]
    },
    {
     "name": "stderr",
     "output_type": "stream",
     "text": [
      " 56%|█████▌    | 28/50 [04:49<03:45, 10.24s/it]"
     ]
    },
    {
     "name": "stdout",
     "output_type": "stream",
     "text": [
      "Start:  28\n",
      "28  -  tr_loss: 0.3628292828798294 val_loss: 0.506742462515831\n"
     ]
    },
    {
     "name": "stderr",
     "output_type": "stream",
     "text": [
      " 58%|█████▊    | 29/50 [04:59<03:34, 10.19s/it]"
     ]
    },
    {
     "name": "stdout",
     "output_type": "stream",
     "text": [
      "Start:  29\n",
      "29  -  tr_loss: 0.3708631992340088 val_loss: 0.5052918493747711\n"
     ]
    },
    {
     "name": "stderr",
     "output_type": "stream",
     "text": [
      " 60%|██████    | 30/50 [05:09<03:24, 10.21s/it]"
     ]
    },
    {
     "name": "stdout",
     "output_type": "stream",
     "text": [
      "Start:  30\n",
      "30  -  tr_loss: 0.35646088421344757 val_loss: 0.5001721978187561\n"
     ]
    },
    {
     "name": "stderr",
     "output_type": "stream",
     "text": [
      " 62%|██████▏   | 31/50 [05:19<03:14, 10.25s/it]"
     ]
    },
    {
     "name": "stdout",
     "output_type": "stream",
     "text": [
      "Start:  31\n",
      "31  -  tr_loss: 0.36257731914520264 val_loss: 0.49734723567962646\n"
     ]
    },
    {
     "name": "stderr",
     "output_type": "stream",
     "text": [
      " 64%|██████▍   | 32/50 [05:30<03:04, 10.25s/it]"
     ]
    },
    {
     "name": "stdout",
     "output_type": "stream",
     "text": [
      "Start:  32\n",
      "32  -  tr_loss: 0.3540428578853607 val_loss: 0.4972818195819855\n"
     ]
    },
    {
     "name": "stderr",
     "output_type": "stream",
     "text": [
      " 66%|██████▌   | 33/50 [05:40<02:53, 10.22s/it]"
     ]
    },
    {
     "name": "stdout",
     "output_type": "stream",
     "text": [
      "Start:  33\n",
      "33  -  tr_loss: 0.3540365844964981 val_loss: 0.49921098351478577\n"
     ]
    },
    {
     "name": "stderr",
     "output_type": "stream",
     "text": [
      " 68%|██████▊   | 34/50 [05:50<02:43, 10.24s/it]"
     ]
    },
    {
     "name": "stdout",
     "output_type": "stream",
     "text": [
      "Start:  34\n",
      "34  -  tr_loss: 0.3415848910808563 val_loss: 0.49597635865211487\n"
     ]
    },
    {
     "name": "stderr",
     "output_type": "stream",
     "text": [
      " 70%|███████   | 35/50 [06:00<02:33, 10.20s/it]"
     ]
    },
    {
     "name": "stdout",
     "output_type": "stream",
     "text": [
      "Start:  35\n",
      "35  -  tr_loss: 0.3488849103450775 val_loss: 0.49508070945739746\n"
     ]
    },
    {
     "name": "stderr",
     "output_type": "stream",
     "text": [
      " 72%|███████▏  | 36/50 [06:10<02:22, 10.21s/it]"
     ]
    },
    {
     "name": "stdout",
     "output_type": "stream",
     "text": [
      "Start:  36\n",
      "36  -  tr_loss: 0.34241609275341034 val_loss: 0.49367377161979675\n"
     ]
    },
    {
     "name": "stderr",
     "output_type": "stream",
     "text": [
      " 74%|███████▍  | 37/50 [06:21<02:12, 10.23s/it]"
     ]
    },
    {
     "name": "stdout",
     "output_type": "stream",
     "text": [
      "Start:  37\n",
      "37  -  tr_loss: 0.3487064838409424 val_loss: 0.4930383265018463\n"
     ]
    },
    {
     "name": "stderr",
     "output_type": "stream",
     "text": [
      " 76%|███████▌  | 38/50 [06:31<02:03, 10.25s/it]"
     ]
    },
    {
     "name": "stdout",
     "output_type": "stream",
     "text": [
      "Start:  38\n",
      "38  -  tr_loss: 0.34170450270175934 val_loss: 0.49541546404361725\n"
     ]
    },
    {
     "name": "stderr",
     "output_type": "stream",
     "text": [
      " 78%|███████▊  | 39/50 [06:41<01:52, 10.26s/it]"
     ]
    },
    {
     "name": "stdout",
     "output_type": "stream",
     "text": [
      "Start:  39\n",
      "39  -  tr_loss: 0.3492185026407242 val_loss: 0.4983648210763931\n"
     ]
    },
    {
     "name": "stderr",
     "output_type": "stream",
     "text": [
      " 80%|████████  | 40/50 [06:52<01:43, 10.30s/it]"
     ]
    },
    {
     "name": "stdout",
     "output_type": "stream",
     "text": [
      "Start:  40\n",
      "40  -  tr_loss: 0.34665779769420624 val_loss: 0.49768564105033875\n"
     ]
    },
    {
     "name": "stderr",
     "output_type": "stream",
     "text": [
      " 82%|████████▏ | 41/50 [07:02<01:32, 10.28s/it]"
     ]
    },
    {
     "name": "stdout",
     "output_type": "stream",
     "text": [
      "Start:  41\n",
      "41  -  tr_loss: 0.33009712398052216 val_loss: 0.4963810443878174\n"
     ]
    },
    {
     "name": "stderr",
     "output_type": "stream",
     "text": [
      " 84%|████████▍ | 42/50 [07:12<01:22, 10.28s/it]"
     ]
    },
    {
     "name": "stdout",
     "output_type": "stream",
     "text": [
      "Start:  42\n",
      "42  -  tr_loss: 0.33647167682647705 val_loss: 0.4965166002511978\n"
     ]
    },
    {
     "name": "stderr",
     "output_type": "stream",
     "text": [
      " 86%|████████▌ | 43/50 [07:22<01:11, 10.25s/it]"
     ]
    },
    {
     "name": "stdout",
     "output_type": "stream",
     "text": [
      "Start:  43\n",
      "43  -  tr_loss: 0.33884817361831665 val_loss: 0.4950658977031708\n"
     ]
    },
    {
     "name": "stderr",
     "output_type": "stream",
     "text": [
      " 88%|████████▊ | 44/50 [07:33<01:01, 10.30s/it]"
     ]
    },
    {
     "name": "stdout",
     "output_type": "stream",
     "text": [
      "Start:  44\n",
      "44  -  tr_loss: 0.34001757204532623 val_loss: 0.49629083275794983\n"
     ]
    },
    {
     "name": "stderr",
     "output_type": "stream",
     "text": [
      " 90%|█████████ | 45/50 [07:43<00:51, 10.28s/it]"
     ]
    },
    {
     "name": "stdout",
     "output_type": "stream",
     "text": [
      "Start:  45\n",
      "45  -  tr_loss: 0.33004406094551086 val_loss: 0.4944848120212555\n"
     ]
    },
    {
     "name": "stderr",
     "output_type": "stream",
     "text": [
      " 92%|█████████▏| 46/50 [07:53<00:41, 10.30s/it]"
     ]
    },
    {
     "name": "stdout",
     "output_type": "stream",
     "text": [
      "Start:  46\n",
      "46  -  tr_loss: 0.3321112245321274 val_loss: 0.4926629513502121\n"
     ]
    },
    {
     "name": "stderr",
     "output_type": "stream",
     "text": [
      " 94%|█████████▍| 47/50 [08:04<00:30, 10.25s/it]"
     ]
    },
    {
     "name": "stdout",
     "output_type": "stream",
     "text": [
      "Start:  47\n",
      "47  -  tr_loss: 0.33066390454769135 val_loss: 0.4929421544075012\n"
     ]
    },
    {
     "name": "stderr",
     "output_type": "stream",
     "text": [
      " 96%|█████████▌| 48/50 [08:14<00:20, 10.23s/it]"
     ]
    },
    {
     "name": "stdout",
     "output_type": "stream",
     "text": [
      "Start:  48\n",
      "48  -  tr_loss: 0.33570200204849243 val_loss: 0.4971515089273453\n"
     ]
    },
    {
     "name": "stderr",
     "output_type": "stream",
     "text": [
      " 98%|█████████▊| 49/50 [08:24<00:10, 10.22s/it]"
     ]
    },
    {
     "name": "stdout",
     "output_type": "stream",
     "text": [
      "Start:  49\n",
      "49  -  tr_loss: 0.33243362605571747 val_loss: 0.4969947934150696\n"
     ]
    },
    {
     "name": "stderr",
     "output_type": "stream",
     "text": [
      "100%|██████████| 50/50 [08:34<00:00, 10.30s/it]\n"
     ]
    }
   ],
   "source": [
    "config = {'lr': 0.0011075820407299578, 'gamma': 0.9596539000640568}\n",
    "\n",
    "res = train_segnet(config, isic18_train_dataset, isic18_val_dataset, 50, return_flag=True, apply_scheduler=True)"
   ]
  },
  {
   "cell_type": "code",
   "execution_count": 59,
   "id": "bf60e8ce-b2d9-426d-ab04-d52be27efb28",
   "metadata": {},
   "outputs": [],
   "source": [
    "val_losses = res['val_losses']\n",
    "tr_losses = res['train_losses']\n",
    "model = res['model']"
   ]
  },
  {
   "cell_type": "code",
   "execution_count": 60,
   "id": "8288c851-9e5b-491d-9867-f970307503cc",
   "metadata": {},
   "outputs": [
    {
     "data": {
      "image/png": "[encoded data removed]",
      "text/plain": [
       "<Figure size 640x480 with 1 Axes>"
      ]
     },
     "metadata": {},
     "output_type": "display_data"
    }
   ],
   "source": [
    "plt.plot(tr_losses)\n",
    "plt.plot(pd.Series(val_losses).rolling(10).mean(), color='g')\n",
    "plt.plot(val_losses, 'k+', alpha=0.3)\n",
    "plt.show()"
   ]
  },
  {
   "cell_type": "markdown",
   "id": "53ee403c-c0a8-40b5-94b9-dba1c1ec32b4",
   "metadata": {},
   "source": [
    "---"
   ]
  },
  {
   "cell_type": "markdown",
   "id": "0d383881-bd65-499e-9bd4-2a2cdfc76f57",
   "metadata": {},
   "source": [
    "#### Evaluation"
   ]
  },
  {
   "cell_type": "code",
   "execution_count": 61,
   "id": "7ce30622-ea40-4b68-b31d-2fa7d4676558",
   "metadata": {},
   "outputs": [],
   "source": [
    "torch.save(model, '../../res/checkpoints/segnet_isic18_500_full.pt')\n",
    "torch.save(model.state_dict(), '../../res/checkpoints/segnet_isic18_100.pt')"
   ]
  },
  {
   "cell_type": "code",
   "execution_count": 9,
   "id": "6db281e3-b8b5-4ad3-ada7-bce6954c9386",
   "metadata": {},
   "outputs": [],
   "source": [
    "def load_checkpoint(path: Path, model: torch.nn.Module) -> torch.nn.Module:\n",
    "    \"\"\"\n",
    "    Helper method to load a model from a checkpoint\n",
    "    :param path: path to checkpoint\n",
    "    :param model: model which should use the checkpoint\n",
    "    :return: loaded model\n",
    "    \"\"\"\n",
    "    device: torch.device = torch.device('cuda:1' if torch.cuda.is_available() else 'cpu')\n",
    "\n",
    "    checkpoint = torch.load(path, map_location=device, weights_only=True)\n",
    "    model.load_state_dict(checkpoint)\n",
    "    return model"
   ]
  },
  {
   "cell_type": "code",
   "execution_count": 10,
   "id": "96e918bf-c8ed-4bb1-8b70-21e8be6d472a",
   "metadata": {},
   "outputs": [],
   "source": [
    "test_dataloader = DataLoader(isic18_test_dataset, batch_size=64, shuffle=False)\n",
    "device: torch.device = torch.device('cuda:1' if torch.cuda.is_available() else 'cpu')\n",
    "net = SegNet(3, 1).to(device)\n",
    "\n",
    "net = load_checkpoint(Path('../../res/checkpoints/segnet_isic18_500.pt'), net)"
   ]
  },
  {
   "cell_type": "code",
   "execution_count": 11,
   "id": "f713e85d-0f58-4b53-95e2-a359f50440d4",
   "metadata": {},
   "outputs": [],
   "source": [
    "def evaluate_model(model: torch.nn.Module, data_loader: DataLoader, device) -> None:\n",
    "    \"\"\"\n",
    "    Evaluate the pixel accuracy for binary segmentation.\n",
    "    :param model: neural network\n",
    "    :param data_loader: torch Dataloader\n",
    "    :param device: device on which to perform the evaluation\n",
    "    :return: None\n",
    "    \"\"\"\n",
    "    total_correct_pixels = 0\n",
    "    total_pixels = 0\n",
    "\n",
    "    model.eval()\n",
    "\n",
    "    with torch.no_grad():\n",
    "        for inputs, targets in tqdm(data_loader):\n",
    "            inputs = inputs.to(device)\n",
    "\n",
    "            outputs = model(inputs)\n",
    "            preds = torch.sigmoid(outputs)\n",
    "            preds = (preds > 0.5).cpu().numpy()\n",
    "\n",
    "            targets = targets.numpy().flatten()\n",
    "            preds = preds.flatten()\n",
    "\n",
    "            correct_pixels = np.sum(preds == targets)\n",
    "            total_pixels += targets.size\n",
    "            total_correct_pixels += correct_pixels\n",
    "\n",
    "    pixel_accuracy = total_correct_pixels / total_pixels\n",
    "    print('Pixel Accuracy: ', pixel_accuracy)"
   ]
  },
  {
   "cell_type": "code",
   "execution_count": 12,
   "id": "de0d02cd-af44-4ef7-b855-4a61a01df548",
   "metadata": {},
   "outputs": [
    {
     "name": "stderr",
     "output_type": "stream",
     "text": [
      "100%|██████████| 16/16 [01:55<00:00,  7.22s/it]"
     ]
    },
    {
     "name": "stdout",
     "output_type": "stream",
     "text": [
      "Pixel Accuracy:  0.7233875122070312\n"
     ]
    },
    {
     "name": "stderr",
     "output_type": "stream",
     "text": [
      "\n"
     ]
    }
   ],
   "source": [
    "evaluate_model(net, test_dataloader, device)"
   ]
  },
  {
   "cell_type": "code",
   "execution_count": 13,
   "id": "f00649a2-5c6c-4caf-a1b0-65a99136679b",
   "metadata": {},
   "outputs": [],
   "source": [
    "def evaluate_binary_mean_iou(model, dataloader, device) -> float:\n",
    "    \"\"\"\n",
    "    Evaluate the Mean IoU for binary segmentation.\n",
    "    :param model: neural network\n",
    "    :param dataloader: Torch Dataloader\n",
    "    :param device: device on which to perform the evaluation\n",
    "    :return: mean IoU\n",
    "    \"\"\"\n",
    "    mean_iou_metric = MeanIoU(include_background=True, reduction=\"mean\")\n",
    "    activation = Activations(sigmoid=True)\n",
    "    discretize = AsDiscrete(threshold=0.5)\n",
    "\n",
    "    model.eval()\n",
    "    with torch.no_grad():\n",
    "        for inputs, targets in tqdm(dataloader):\n",
    "            inputs, targets = inputs.to(device), targets.to(device)\n",
    "\n",
    "            outputs = model(inputs)\n",
    "            preds = activation(outputs)\n",
    "            preds = discretize(preds)\n",
    "\n",
    "            mean_iou_metric(y_pred=preds, y=targets)\n",
    "\n",
    "    mean_iou = mean_iou_metric.aggregate().item()\n",
    "    print(f\"Mean IoU: {mean_iou}\")\n",
    "    return mean_iou\n"
   ]
  },
  {
   "cell_type": "code",
   "execution_count": 14,
   "id": "28054b3e-a630-4ce2-9bc7-f9f2e91e8f53",
   "metadata": {},
   "outputs": [
    {
     "name": "stderr",
     "output_type": "stream",
     "text": [
      "100%|██████████| 16/16 [01:50<00:00,  6.93s/it]"
     ]
    },
    {
     "name": "stdout",
     "output_type": "stream",
     "text": [
      "Mean IoU: 0.5121254324913025\n"
     ]
    },
    {
     "name": "stderr",
     "output_type": "stream",
     "text": [
      "\n"
     ]
    },
    {
     "data": {
      "text/plain": [
       "0.5121254324913025"
      ]
     },
     "execution_count": 14,
     "metadata": {},
     "output_type": "execute_result"
    }
   ],
   "source": [
    "evaluate_binary_mean_iou(net, test_dataloader, device)"
   ]
  }
 ],
 "metadata": {
  "kernelspec": {
   "display_name": "Python 3 (ipykernel)",
   "language": "python",
   "name": "python3"
  },
  "language_info": {
   "codemirror_mode": {
    "name": "ipython",
    "version": 3
   },
   "file_extension": ".py",
   "mimetype": "text/x-python",
   "name": "python",
   "nbconvert_exporter": "python",
   "pygments_lexer": "ipython3",
   "version": "3.11.0rc1"
  }
 },
 "nbformat": 4,
 "nbformat_minor": 5
}
