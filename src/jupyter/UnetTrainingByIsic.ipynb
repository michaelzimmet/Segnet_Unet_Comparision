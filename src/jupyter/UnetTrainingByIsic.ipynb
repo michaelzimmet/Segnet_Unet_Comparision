{
 "cells": [
  {
   "cell_type": "markdown",
   "id": "18338e13-c042-4a91-beec-be1d3143cd17",
   "metadata": {},
   "source": [
    "# Studienarbeit ComputerVision 2\n",
    "## Differences and Limitations of Unet and SegNet"
   ]
  },
  {
   "cell_type": "markdown",
   "id": "cc15572b-beff-4590-ad84-64e791fee61f",
   "metadata": {},
   "source": [
    "---"
   ]
  },
  {
   "cell_type": "code",
   "execution_count": 1,
   "id": "cc96a8bf-5a95-4bb7-8033-eb1be2df2ac8",
   "metadata": {},
   "outputs": [],
   "source": [
    "# relevant imports\n",
    "import os\n",
    "from torch import nn, optim\n",
    "from torchsummary import summary\n",
    "from datasets import load_dataset\n",
    "from torchvision.transforms import transforms\n",
    "from PIL import Image\n",
    "from torch.utils.data import Dataset\n",
    "import numpy as np\n",
    "from ray import tune\n",
    "from functools import partial\n",
    "from ray.air import session\n",
    "from ray.train import Checkpoint\n",
    "from monai.losses import DiceLoss\n",
    "from torch.optim.lr_scheduler import ExponentialLR\n",
    "from torch.utils.data import DataLoader\n",
    "from torchvision import datasets\n",
    "from tqdm import tqdm\n",
    "from typing import List\n",
    "from matplotlib import pyplot as plt\n",
    "import pandas as pd\n",
    "from pathlib import Path\n",
    "import torch\n",
    "from monai.metrics import MeanIoU\n",
    "from monai.transforms import Activations, AsDiscrete\n"
   ]
  },
  {
   "cell_type": "markdown",
   "id": "6491ebfb-7bdf-44f3-812f-881d2599ca2d",
   "metadata": {},
   "source": [
    "#### Modelarchitecture\n",
    "![unet_brain_mri.png](https://pytorch.org/assets/images/unet_brain_mri.png)"
   ]
  },
  {
   "cell_type": "code",
   "execution_count": 2,
   "id": "ee66d611-9175-4104-bbc9-eab04204a4c6",
   "metadata": {},
   "outputs": [],
   "source": [
    "class UNet(nn.Module):\n",
    "    def __init__(self, input_size, output_size):\n",
    "        super(UNet, self).__init__()\n",
    "\n",
    "        # Encoder Blocks\n",
    "        self.encoder_block_1 = UNet._conv_block(input_size, 32)\n",
    "        self.max_pool_1 = nn.MaxPool2d(kernel_size=2, stride=2)\n",
    "\n",
    "        self.encoder_block_2 = UNet._conv_block(32, 64)\n",
    "        self.max_pool_2 = nn.MaxPool2d(kernel_size=2, stride=2)\n",
    "\n",
    "        self.encoder_block_3 = UNet._conv_block(64, 128)\n",
    "        self.max_pool_3 = nn.MaxPool2d(kernel_size=2, stride=2)\n",
    "\n",
    "        self.encoder_block_4 = UNet._conv_block(128, 256)\n",
    "        self.max_pool_4 = nn.MaxPool2d(kernel_size=2, stride=2)\n",
    "\n",
    "        # Bottleneck\n",
    "        self.bottle_neck_block = UNet._conv_block(256, 512)\n",
    "\n",
    "        # Decoder Blocks\n",
    "        self.upconv_block_4 = UNet._upconv_block(512, 256)\n",
    "        self.decoder_block_4 = UNet._conv_block(512, 256)\n",
    "\n",
    "        self.upconv_block_3 = UNet._upconv_block(256, 128)\n",
    "        self.decoder_block_3 = UNet._conv_block(256, 128)\n",
    "\n",
    "        self.upconv_block_2 = UNet._upconv_block(128, 64)\n",
    "        self.decoder_block_2 = UNet._conv_block(128, 64)\n",
    "\n",
    "        self.upconv_block_1 = UNet._upconv_block(64, 32)\n",
    "        self.decoder_block_1 = UNet._conv_block(64, 32)\n",
    "\n",
    "        # Output convolution\n",
    "        self.fc = nn.Conv2d(32, output_size, kernel_size=1)\n",
    "\n",
    "    def forward(self, x):\n",
    "        e1 = self.encoder_block_1(x)\n",
    "        e2 = self.encoder_block_2(self.max_pool_1(e1))\n",
    "        e3 = self.encoder_block_3(self.max_pool_2(e2))\n",
    "        e4 = self.encoder_block_4(self.max_pool_3(e3))\n",
    "\n",
    "        b = self.bottle_neck_block(self.max_pool_4(e4))\n",
    "\n",
    "        d4 = self.upconv_block_4(b)\n",
    "        d4 = self.decoder_block_4(torch.cat((d4, e4), dim=1))\n",
    "        d3 = self.upconv_block_3(d4)\n",
    "        d3 = self.decoder_block_3(torch.cat((d3, e3), dim=1))\n",
    "        d2 = self.upconv_block_2(d3)\n",
    "        d2 = self.decoder_block_2(torch.cat((d2, e2), dim=1))\n",
    "        d1 = self.upconv_block_1(d2)\n",
    "        d1 = self.decoder_block_1(torch.cat((d1, e1), dim=1))\n",
    "\n",
    "        return self.fc(d1)\n",
    "\n",
    "    @staticmethod\n",
    "    def _conv_block(input_size, output_size):\n",
    "        return nn.Sequential(\n",
    "            nn.Conv2d(input_size, output_size, kernel_size=3, padding=1, bias=False),\n",
    "            nn.BatchNorm2d(output_size),\n",
    "            nn.ReLU(inplace=True),\n",
    "            nn.Conv2d(output_size, output_size, kernel_size=3, padding=1, bias=False),\n",
    "            nn.BatchNorm2d(output_size),\n",
    "            nn.ReLU(inplace=True))\n",
    "\n",
    "    @staticmethod\n",
    "    def _upconv_block(input_size, output_size):\n",
    "        return nn.ConvTranspose2d(input_size, output_size, kernel_size=2, stride=2)"
   ]
  },
  {
   "cell_type": "code",
   "execution_count": 3,
   "id": "ac61e8b9-c1d6-4442-ab9f-f96a5a8a05c4",
   "metadata": {},
   "outputs": [
    {
     "name": "stdout",
     "output_type": "stream",
     "text": [
      "----------------------------------------------------------------\n",
      "        Layer (type)               Output Shape         Param #\n",
      "================================================================\n",
      "            Conv2d-1         [-1, 32, 256, 256]             864\n",
      "       BatchNorm2d-2         [-1, 32, 256, 256]              64\n",
      "              ReLU-3         [-1, 32, 256, 256]               0\n",
      "            Conv2d-4         [-1, 32, 256, 256]           9,216\n",
      "       BatchNorm2d-5         [-1, 32, 256, 256]              64\n",
      "              ReLU-6         [-1, 32, 256, 256]               0\n",
      "         MaxPool2d-7         [-1, 32, 128, 128]               0\n",
      "            Conv2d-8         [-1, 64, 128, 128]          18,432\n",
      "       BatchNorm2d-9         [-1, 64, 128, 128]             128\n",
      "             ReLU-10         [-1, 64, 128, 128]               0\n",
      "           Conv2d-11         [-1, 64, 128, 128]          36,864\n",
      "      BatchNorm2d-12         [-1, 64, 128, 128]             128\n",
      "             ReLU-13         [-1, 64, 128, 128]               0\n",
      "        MaxPool2d-14           [-1, 64, 64, 64]               0\n",
      "           Conv2d-15          [-1, 128, 64, 64]          73,728\n",
      "      BatchNorm2d-16          [-1, 128, 64, 64]             256\n",
      "             ReLU-17          [-1, 128, 64, 64]               0\n",
      "           Conv2d-18          [-1, 128, 64, 64]         147,456\n",
      "      BatchNorm2d-19          [-1, 128, 64, 64]             256\n",
      "             ReLU-20          [-1, 128, 64, 64]               0\n",
      "        MaxPool2d-21          [-1, 128, 32, 32]               0\n",
      "           Conv2d-22          [-1, 256, 32, 32]         294,912\n",
      "      BatchNorm2d-23          [-1, 256, 32, 32]             512\n",
      "             ReLU-24          [-1, 256, 32, 32]               0\n",
      "           Conv2d-25          [-1, 256, 32, 32]         589,824\n",
      "      BatchNorm2d-26          [-1, 256, 32, 32]             512\n",
      "             ReLU-27          [-1, 256, 32, 32]               0\n",
      "        MaxPool2d-28          [-1, 256, 16, 16]               0\n",
      "           Conv2d-29          [-1, 512, 16, 16]       1,179,648\n",
      "      BatchNorm2d-30          [-1, 512, 16, 16]           1,024\n",
      "             ReLU-31          [-1, 512, 16, 16]               0\n",
      "           Conv2d-32          [-1, 512, 16, 16]       2,359,296\n",
      "      BatchNorm2d-33          [-1, 512, 16, 16]           1,024\n",
      "             ReLU-34          [-1, 512, 16, 16]               0\n",
      "  ConvTranspose2d-35          [-1, 256, 32, 32]         524,544\n",
      "           Conv2d-36          [-1, 256, 32, 32]       1,179,648\n",
      "      BatchNorm2d-37          [-1, 256, 32, 32]             512\n",
      "             ReLU-38          [-1, 256, 32, 32]               0\n",
      "           Conv2d-39          [-1, 256, 32, 32]         589,824\n",
      "      BatchNorm2d-40          [-1, 256, 32, 32]             512\n",
      "             ReLU-41          [-1, 256, 32, 32]               0\n",
      "  ConvTranspose2d-42          [-1, 128, 64, 64]         131,200\n",
      "           Conv2d-43          [-1, 128, 64, 64]         294,912\n",
      "      BatchNorm2d-44          [-1, 128, 64, 64]             256\n",
      "             ReLU-45          [-1, 128, 64, 64]               0\n",
      "           Conv2d-46          [-1, 128, 64, 64]         147,456\n",
      "      BatchNorm2d-47          [-1, 128, 64, 64]             256\n",
      "             ReLU-48          [-1, 128, 64, 64]               0\n",
      "  ConvTranspose2d-49         [-1, 64, 128, 128]          32,832\n",
      "           Conv2d-50         [-1, 64, 128, 128]          73,728\n",
      "      BatchNorm2d-51         [-1, 64, 128, 128]             128\n",
      "             ReLU-52         [-1, 64, 128, 128]               0\n",
      "           Conv2d-53         [-1, 64, 128, 128]          36,864\n",
      "      BatchNorm2d-54         [-1, 64, 128, 128]             128\n",
      "             ReLU-55         [-1, 64, 128, 128]               0\n",
      "  ConvTranspose2d-56         [-1, 32, 256, 256]           8,224\n",
      "           Conv2d-57         [-1, 32, 256, 256]          18,432\n",
      "      BatchNorm2d-58         [-1, 32, 256, 256]              64\n",
      "             ReLU-59         [-1, 32, 256, 256]               0\n",
      "           Conv2d-60         [-1, 32, 256, 256]           9,216\n",
      "      BatchNorm2d-61         [-1, 32, 256, 256]              64\n",
      "             ReLU-62         [-1, 32, 256, 256]               0\n",
      "           Conv2d-63          [-1, 1, 256, 256]              33\n",
      "================================================================\n",
      "Total params: 7,763,041\n",
      "Trainable params: 7,763,041\n",
      "Non-trainable params: 0\n",
      "----------------------------------------------------------------\n",
      "Input size (MB): 0.75\n",
      "Forward/backward pass size (MB): 404.00\n",
      "Params size (MB): 29.61\n",
      "Estimated Total Size (MB): 434.36\n",
      "----------------------------------------------------------------\n"
     ]
    }
   ],
   "source": [
    "# Load U-Net\n",
    "unet = UNet(3, 1)\n",
    "unet.cuda()\n",
    "summary(unet, (3, 256, 256))"
   ]
  },
  {
   "cell_type": "markdown",
   "id": "5c548b7e-b95c-45c6-b5d4-c12def25c313",
   "metadata": {},
   "source": [
    "---"
   ]
  },
  {
   "cell_type": "markdown",
   "id": "6ddc493f-c537-44df-8b23-3a6a01d902ff",
   "metadata": {},
   "source": [
    "#### Datapreparation"
   ]
  },
  {
   "cell_type": "code",
   "execution_count": 3,
   "id": "154e111b-4298-4b41-956c-df03cc6b0516",
   "metadata": {},
   "outputs": [
    {
     "data": {
      "application/vnd.jupyter.widget-view+json": {
       "model_id": "972ee885013b41ed85b303582438c2f7",
       "version_major": 2,
       "version_minor": 0
      },
      "text/plain": [
       "Resolving data files:   0%|          | 0/50 [00:00<?, ?it/s]"
      ]
     },
     "metadata": {},
     "output_type": "display_data"
    },
    {
     "data": {
      "application/vnd.jupyter.widget-view+json": {
       "model_id": "6862790eb3fb4a5da006163f297d2a60",
       "version_major": 2,
       "version_minor": 0
      },
      "text/plain": [
       "Resolving data files:   0%|          | 0/50 [00:00<?, ?it/s]"
      ]
     },
     "metadata": {},
     "output_type": "display_data"
    },
    {
     "data": {
      "application/vnd.jupyter.widget-view+json": {
       "model_id": "83be92f535b340859fbd4642dce9c495",
       "version_major": 2,
       "version_minor": 0
      },
      "text/plain": [
       "Resolving data files:   0%|          | 0/50 [00:00<?, ?it/s]"
      ]
     },
     "metadata": {},
     "output_type": "display_data"
    },
    {
     "data": {
      "application/vnd.jupyter.widget-view+json": {
       "model_id": "fa3d7585a7c94e21a22462a6e39f0910",
       "version_major": 2,
       "version_minor": 0
      },
      "text/plain": [
       "Resolving data files:   0%|          | 0/50 [00:00<?, ?it/s]"
      ]
     },
     "metadata": {},
     "output_type": "display_data"
    },
    {
     "data": {
      "application/vnd.jupyter.widget-view+json": {
       "model_id": "47321f38c1ae44abb9452b491aaa038d",
       "version_major": 2,
       "version_minor": 0
      },
      "text/plain": [
       "Resolving data files:   0%|          | 0/50 [00:00<?, ?it/s]"
      ]
     },
     "metadata": {},
     "output_type": "display_data"
    },
    {
     "data": {
      "application/vnd.jupyter.widget-view+json": {
       "model_id": "c6d4793c04b2467192644ff39de9f413",
       "version_major": 2,
       "version_minor": 0
      },
      "text/plain": [
       "Resolving data files:   0%|          | 0/50 [00:00<?, ?it/s]"
      ]
     },
     "metadata": {},
     "output_type": "display_data"
    },
    {
     "data": {
      "text/plain": [
       "DatasetDict({\n",
       "    train: Dataset({\n",
       "        features: ['image', 'label'],\n",
       "        num_rows: 2594\n",
       "    })\n",
       "    validation: Dataset({\n",
       "        features: ['image', 'label'],\n",
       "        num_rows: 100\n",
       "    })\n",
       "    test: Dataset({\n",
       "        features: ['image', 'label'],\n",
       "        num_rows: 1000\n",
       "    })\n",
       "})"
      ]
     },
     "execution_count": 3,
     "metadata": {},
     "output_type": "execute_result"
    }
   ],
   "source": [
    "isic18_dataset = load_dataset(\"surajbijjahalli/ISIC2018\")\n",
    "isic18_dataset"
   ]
  },
  {
   "cell_type": "code",
   "execution_count": 4,
   "id": "93561660-5944-4bcc-9357-7ca9dbf3e0e9",
   "metadata": {},
   "outputs": [],
   "source": [
    "class ISICDataset(Dataset):\n",
    "    def __init__(self, dataset, transform_image=None, transform_mask=None):\n",
    "        self.dataset = dataset\n",
    "        self.transform_image = transform_image\n",
    "        self.transform_mask = transform_mask\n",
    "\n",
    "    def __len__(self):\n",
    "        return len(self.dataset)\n",
    "\n",
    "    def __getitem__(self, idx):\n",
    "        example = self.dataset[idx]\n",
    "\n",
    "        image = example['image']\n",
    "        mask = example['label']\n",
    "        mask = mask.convert('L')\n",
    "        mask = np.array(mask)\n",
    "        mask[mask > 0] = 255\n",
    "        mask[mask == 0] = 0\n",
    "        mask = Image.fromarray(mask)\n",
    "\n",
    "        if self.transform_image:\n",
    "            image = self.transform_image(image)\n",
    "        if self.transform_mask:\n",
    "            mask = self.transform_mask(mask)\n",
    "\n",
    "        return image, mask"
   ]
  },
  {
   "cell_type": "code",
   "execution_count": 5,
   "id": "6ba1f437-3b0c-4570-aafa-5c0f009fd8cd",
   "metadata": {},
   "outputs": [],
   "source": [
    "transform_image = transforms.Compose([\n",
    "    transforms.Resize((256, 256), interpolation=Image.BILINEAR),\n",
    "    transforms.ToTensor(),\n",
    "    transforms.Normalize([.5, .5, .5], [.5, .5, .5])])\n",
    "\n",
    "transform_mask = transforms.Compose([\n",
    "    transforms.Resize((256, 256), interpolation=Image.NEAREST),\n",
    "    transforms.ToTensor()])\n",
    "\n",
    "isic18_train_dataset = ISICDataset(isic18_dataset['train'], transform_image, transform_mask)\n",
    "isic18_val_dataset = ISICDataset(isic18_dataset['validation'], transform_image, transform_mask)\n",
    "isic18_test_dataset = ISICDataset(isic18_dataset['test'], transform_image, transform_mask)"
   ]
  },
  {
   "cell_type": "markdown",
   "id": "1cc86325-1dcc-4ca1-b063-b0332062d4ad",
   "metadata": {},
   "source": [
    "---"
   ]
  },
  {
   "cell_type": "markdown",
   "id": "5ee32fc8-ec51-4b6d-8b12-09e16f57fefe",
   "metadata": {},
   "source": [
    "#### Training"
   ]
  },
  {
   "cell_type": "code",
   "execution_count": 7,
   "id": "13b3c0cf-008e-44b6-a2d8-9c719e78577c",
   "metadata": {},
   "outputs": [],
   "source": [
    "def validation_loop(model: nn.Module, validation_dataloader: DataLoader, loss_fn, device) -> float:\n",
    "    \"\"\"\n",
    "    Validation loop for the CNN\n",
    "    :param model: neural network\n",
    "    :param validation_dataloader: dataloader for the validation set\n",
    "    :param loss_fn: loss function\n",
    "    :param device: device on which to perform the validation\n",
    "    :return: validation loss\n",
    "    \"\"\"\n",
    "    running_val_loss: float = 0.\n",
    "    model.eval()\n",
    "    with torch.no_grad():\n",
    "        for i, vdata in enumerate(validation_dataloader):\n",
    "            inputs, targets = vdata\n",
    "            inputs, targets = inputs.to(device), targets.to(device)\n",
    "\n",
    "            vloss = loss_fn(model(inputs), targets)\n",
    "            running_val_loss += vloss.item()\n",
    "        running_val_loss /= (i + 1)\n",
    "\n",
    "    return running_val_loss\n"
   ]
  },
  {
   "cell_type": "code",
   "execution_count": 8,
   "id": "8a4ae8ab-2170-4da2-87c7-51a5e15e74bb",
   "metadata": {},
   "outputs": [],
   "source": [
    "def train_loop(model: nn.Module, train_dataloader: DataLoader, loss_fn, optimizer, device) -> float:\n",
    "    \"\"\"\n",
    "    Main minibatch train loop for the CNN\n",
    "    :param model: neural network\n",
    "    :param train_dataloader: dataloader for the train set\n",
    "    :param loss_fn: loss function\n",
    "    :param optimizer: optimizer\n",
    "    :param device: device on which to perform the training\n",
    "    :return: train loss\n",
    "    \"\"\"\n",
    "    running_tr_loss: float = 0.\n",
    "    for i, data in enumerate(train_dataloader):\n",
    "        inputs, targets = data\n",
    "        inputs, targets = inputs.to(device), targets.to(device)\n",
    "\n",
    "        yhats = model(inputs)\n",
    "        optimizer.zero_grad()\n",
    "        tloss = loss_fn(yhats, targets)\n",
    "\n",
    "        tloss.backward()\n",
    "        optimizer.step()\n",
    "\n",
    "        running_tr_loss += tloss.item()\n",
    "    running_tr_loss /= (i + 1)\n",
    "\n",
    "    return running_tr_loss\n"
   ]
  },
  {
   "cell_type": "code",
   "execution_count": 11,
   "id": "973f3307-8463-441d-a3cd-bda25cc6f84d",
   "metadata": {},
   "outputs": [],
   "source": [
    "def train_unet(\n",
    "        config: dict,\n",
    "        train_dataset: datasets,\n",
    "        validation_dataset: datasets,\n",
    "        epochs: int,\n",
    "        apply_scheduler: bool = True,\n",
    "        return_flag: bool = False) -> dict | None:\n",
    "    \"\"\"\n",
    "    Prepared train loop for ray parameter tuning.\n",
    "    Training components:\n",
    "        - model: CNN\n",
    "        - loss function: CrossEntropyLoss\n",
    "        - optimizer: Adam\n",
    "        - scheduler: ExponentialLR (optional)\n",
    "\n",
    "    :param config: dict of hyperparameters\n",
    "    :param train_dataset:\n",
    "    :param validation_dataset:\n",
    "    :param epochs: number of epochs to train\n",
    "    :param apply_scheduler: weather scheduler should be used or not\n",
    "    :param return_flag: weather to return the model and losses or not\n",
    "    :return: training results\n",
    "    \"\"\"\n",
    "\n",
    "    device: torch.device = torch.device('cuda:6' if torch.cuda.is_available() else 'cpu')\n",
    "    print(device)\n",
    "    model: nn.Module = UNet(3, 1).to(device)\n",
    "\n",
    "    loss_fn = DiceLoss(sigmoid=True)\n",
    "\n",
    "    optim_params: dict = {\n",
    "        'lr': config[\"lr\"]\n",
    "    }\n",
    "    optimizer: optim.Adam = optim.Adam(model.parameters(), **optim_params)\n",
    "\n",
    "    scheduler_params: dict = {\n",
    "        'gamma': config['gamma'],\n",
    "        'verbose': False\n",
    "    }\n",
    "    scheduler: ExponentialLR = ExponentialLR(optimizer, **scheduler_params)\n",
    "\n",
    "    train_dataloader: DataLoader = DataLoader(train_dataset, batch_size=64, shuffle=True, num_workers=4)\n",
    "    validation_dataloader: DataLoader = DataLoader(validation_dataset, batch_size=64, shuffle=False, num_workers=4)\n",
    "\n",
    "    train_losses: List[float] = []\n",
    "    val_losses: List[float] = []\n",
    "\n",
    "    print('Start training...')\n",
    "    for epoch in tqdm(range(epochs)):\n",
    "        print('Start: ', epoch)\n",
    "        model.train()\n",
    "\n",
    "        # Train loop to iterate over the dataloader batches\n",
    "        running_tr_loss: float = train_loop(model, train_dataloader, loss_fn, optimizer, device)\n",
    "        if apply_scheduler:\n",
    "            scheduler.step()\n",
    "\n",
    "        # Validation loop\n",
    "        running_val_loss: float = validation_loop(model, validation_dataloader, loss_fn, device)\n",
    "\n",
    "        print(epoch, \" - \", 'tr_loss:', running_tr_loss, 'val_loss:', running_val_loss)\n",
    "        train_losses.append(running_tr_loss)\n",
    "        val_losses.append(running_val_loss)\n",
    "\n",
    "        # Save a checkpoint from the model\n",
    "        os.makedirs(\"res/model\", exist_ok=True)\n",
    "        torch.save(\n",
    "            (model.state_dict(), optimizer.state_dict()), \"res/model/checkpoint1.pt\")\n",
    "        checkpoint: Checkpoint = Checkpoint.from_directory(\"res/model\")\n",
    "        session.report({\"val_loss\": running_val_loss,\n",
    "                        \"train_loss\": running_tr_loss}, checkpoint=checkpoint)\n",
    "\n",
    "    if return_flag:\n",
    "        return {\"train_losses\": train_losses,\n",
    "                \"val_losses\": val_losses,\n",
    "                \"model\": model}"
   ]
  },
  {
   "cell_type": "markdown",
   "id": "56603fe9-185e-4b35-9922-6686524b05ed",
   "metadata": {},
   "source": [
    "---"
   ]
  },
  {
   "cell_type": "markdown",
   "id": "c667a491-588c-418e-8e77-b2dc3def8877",
   "metadata": {},
   "source": [
    "#### Parametertuning"
   ]
  },
  {
   "cell_type": "code",
   "execution_count": null,
   "id": "afc0d7cd-6bda-450b-9c6e-9e83abf359d3",
   "metadata": {},
   "outputs": [],
   "source": [
    "EPOCHS = 20\n",
    "partial_model_train = partial(train_unet, epochs=EPOCHS)\n",
    "\n",
    "config = {\n",
    "    \"lr\": tune.loguniform(1e-4, 1e0),\n",
    "    \"gamma\": tune.uniform(0.9, 0.99999),\n",
    "}\n",
    "\n",
    "\n",
    "tuner = tune.Tuner(\n",
    "        tune.with_resources(\n",
    "            tune.with_parameters(partial_model_train,\n",
    "                                 train_dataset=isic18_train_dataset,\n",
    "                                 validation_dataset=isic18_val_dataset),\n",
    "            resources={\"GPU\": 1}),\n",
    "\n",
    "        tune_config=tune.TuneConfig(metric=\"val_loss\",\n",
    "                                    mode=\"min\",\n",
    "                                    num_samples=5),\n",
    "\n",
    "        param_space=config)"
   ]
  },
  {
   "cell_type": "code",
   "execution_count": null,
   "id": "6a8e87ea-cf6a-4ef2-a1c7-371a7c9ced60",
   "metadata": {},
   "outputs": [],
   "source": [
    "results = tuner.fit()"
   ]
  },
  {
   "cell_type": "markdown",
   "id": "0cde87a9-69ba-43e9-b035-924b43d5baef",
   "metadata": {},
   "source": [
    "---"
   ]
  },
  {
   "cell_type": "markdown",
   "id": "ccfe60a6-bb9f-4e82-94a7-f325b1133023",
   "metadata": {},
   "source": [
    "#### Training with Parameter"
   ]
  },
  {
   "cell_type": "code",
   "execution_count": null,
   "id": "0639f000-9d1a-4150-8104-5c124faffbb5",
   "metadata": {},
   "outputs": [],
   "source": [
    "best_trial = results.get_best_result(\"val_loss\", \"min\", \"last\")\n",
    "best_trial.config"
   ]
  },
  {
   "cell_type": "code",
   "execution_count": 12,
   "id": "cf1f99ea-dab7-483e-abfc-a117fad6fefe",
   "metadata": {},
   "outputs": [
    {
     "name": "stdout",
     "output_type": "stream",
     "text": [
      "cuda:6\n",
      "Start training...\n"
     ]
    },
    {
     "name": "stderr",
     "output_type": "stream",
     "text": [
      "  0%|          | 0/50 [00:00<?, ?it/s]"
     ]
    },
    {
     "name": "stdout",
     "output_type": "stream",
     "text": [
      "Start:  0\n"
     ]
    },
    {
     "name": "stderr",
     "output_type": "stream",
     "text": [
      "/home/jovyan/.local/lib/python3.11/site-packages/ray/train/_internal/session.py:652: UserWarning: `report` is meant to only be called inside a function that is executed by a Tuner or Trainer. Returning `None`.\n",
      "  warnings.warn(\n",
      "  2%|▏         | 1/50 [02:23<1:57:21, 143.70s/it]"
     ]
    },
    {
     "name": "stdout",
     "output_type": "stream",
     "text": [
      "0  -  tr_loss: 0.5715606408875163 val_loss: 0.4630175828933716\n",
      "Start:  1\n",
      "1  -  tr_loss: 0.4886630075733836 val_loss: 0.4417276084423065\n"
     ]
    },
    {
     "name": "stderr",
     "output_type": "stream",
     "text": [
      "  4%|▍         | 2/50 [04:39<1:51:14, 139.06s/it]"
     ]
    },
    {
     "name": "stdout",
     "output_type": "stream",
     "text": [
      "Start:  2\n",
      "2  -  tr_loss: 0.41741068552180033 val_loss: 0.4018860161304474\n"
     ]
    },
    {
     "name": "stderr",
     "output_type": "stream",
     "text": [
      "  6%|▌         | 3/50 [07:15<1:54:49, 146.59s/it]"
     ]
    },
    {
     "name": "stdout",
     "output_type": "stream",
     "text": [
      "Start:  3\n",
      "3  -  tr_loss: 0.3544578196071997 val_loss: 0.3274059146642685\n"
     ]
    },
    {
     "name": "stderr",
     "output_type": "stream",
     "text": [
      "  8%|▊         | 4/50 [09:49<1:54:37, 149.51s/it]"
     ]
    },
    {
     "name": "stdout",
     "output_type": "stream",
     "text": [
      "Start:  4\n",
      "4  -  tr_loss: 0.30623177675212304 val_loss: 0.27300800383090973\n"
     ]
    },
    {
     "name": "stderr",
     "output_type": "stream",
     "text": [
      " 10%|█         | 5/50 [12:22<1:53:09, 150.88s/it]"
     ]
    },
    {
     "name": "stdout",
     "output_type": "stream",
     "text": [
      "Start:  5\n",
      "5  -  tr_loss: 0.26108042677728144 val_loss: 0.3761734664440155\n"
     ]
    },
    {
     "name": "stderr",
     "output_type": "stream",
     "text": [
      " 12%|█▏        | 6/50 [14:43<1:48:08, 147.46s/it]"
     ]
    },
    {
     "name": "stdout",
     "output_type": "stream",
     "text": [
      "Start:  6\n",
      "6  -  tr_loss: 0.23891668239744698 val_loss: 0.21281910687685013\n"
     ]
    },
    {
     "name": "stderr",
     "output_type": "stream",
     "text": [
      " 14%|█▍        | 7/50 [17:37<1:52:00, 156.28s/it]"
     ]
    },
    {
     "name": "stdout",
     "output_type": "stream",
     "text": [
      "Start:  7\n",
      "7  -  tr_loss: 0.21423925386696327 val_loss: 0.18763399124145508\n"
     ]
    },
    {
     "name": "stderr",
     "output_type": "stream",
     "text": [
      " 16%|█▌        | 8/50 [20:07<1:48:03, 154.38s/it]"
     ]
    },
    {
     "name": "stdout",
     "output_type": "stream",
     "text": [
      "Start:  8\n",
      "8  -  tr_loss: 0.1975753143793199 val_loss: 0.20377017557621002\n"
     ]
    },
    {
     "name": "stderr",
     "output_type": "stream",
     "text": [
      " 18%|█▊        | 9/50 [22:28<1:42:28, 149.96s/it]"
     ]
    },
    {
     "name": "stdout",
     "output_type": "stream",
     "text": [
      "Start:  9\n",
      "9  -  tr_loss: 0.19191577921553357 val_loss: 0.19378076493740082\n"
     ]
    },
    {
     "name": "stderr",
     "output_type": "stream",
     "text": [
      " 20%|██        | 10/50 [24:50<1:38:23, 147.58s/it]"
     ]
    },
    {
     "name": "stdout",
     "output_type": "stream",
     "text": [
      "Start:  10\n",
      "10  -  tr_loss: 0.17587565503469327 val_loss: 0.17934611439704895\n"
     ]
    },
    {
     "name": "stderr",
     "output_type": "stream",
     "text": [
      " 22%|██▏       | 11/50 [27:18<1:36:01, 147.74s/it]"
     ]
    },
    {
     "name": "stdout",
     "output_type": "stream",
     "text": [
      "Start:  11\n",
      "11  -  tr_loss: 0.1675593111573196 val_loss: 0.18757011741399765\n"
     ]
    },
    {
     "name": "stderr",
     "output_type": "stream",
     "text": [
      " 24%|██▍       | 12/50 [29:47<1:33:48, 148.11s/it]"
     ]
    },
    {
     "name": "stdout",
     "output_type": "stream",
     "text": [
      "Start:  12\n",
      "12  -  tr_loss: 0.16354101714564534 val_loss: 0.15905733406543732\n"
     ]
    },
    {
     "name": "stderr",
     "output_type": "stream",
     "text": [
      " 26%|██▌       | 13/50 [32:01<1:28:44, 143.90s/it]"
     ]
    },
    {
     "name": "stdout",
     "output_type": "stream",
     "text": [
      "Start:  13\n",
      "13  -  tr_loss: 0.15896074164931367 val_loss: 0.2095867320895195\n"
     ]
    },
    {
     "name": "stderr",
     "output_type": "stream",
     "text": [
      " 28%|██▊       | 14/50 [34:22<1:25:48, 143.01s/it]"
     ]
    },
    {
     "name": "stdout",
     "output_type": "stream",
     "text": [
      "Start:  14\n",
      "14  -  tr_loss: 0.15407088616999184 val_loss: 0.15936443954706192\n"
     ]
    },
    {
     "name": "stderr",
     "output_type": "stream",
     "text": [
      " 30%|███       | 15/50 [37:06<1:27:09, 149.41s/it]"
     ]
    },
    {
     "name": "stdout",
     "output_type": "stream",
     "text": [
      "Start:  15\n",
      "15  -  tr_loss: 0.1542054162156291 val_loss: 0.17072578519582748\n"
     ]
    },
    {
     "name": "stderr",
     "output_type": "stream",
     "text": [
      " 32%|███▏      | 16/50 [39:45<1:26:10, 152.08s/it]"
     ]
    },
    {
     "name": "stdout",
     "output_type": "stream",
     "text": [
      "Start:  16\n",
      "16  -  tr_loss: 0.15284236447840202 val_loss: 0.16778647154569626\n"
     ]
    },
    {
     "name": "stderr",
     "output_type": "stream",
     "text": [
      " 34%|███▍      | 17/50 [42:15<1:23:22, 151.58s/it]"
     ]
    },
    {
     "name": "stdout",
     "output_type": "stream",
     "text": [
      "Start:  17\n",
      "17  -  tr_loss: 0.14566410496467497 val_loss: 0.16589133441448212\n"
     ]
    },
    {
     "name": "stderr",
     "output_type": "stream",
     "text": [
      " 36%|███▌      | 18/50 [44:29<1:17:58, 146.21s/it]"
     ]
    },
    {
     "name": "stdout",
     "output_type": "stream",
     "text": [
      "Start:  18\n",
      "18  -  tr_loss: 0.14372389600044344 val_loss: 0.1561160534620285\n"
     ]
    },
    {
     "name": "stderr",
     "output_type": "stream",
     "text": [
      " 38%|███▊      | 19/50 [46:43<1:13:38, 142.54s/it]"
     ]
    },
    {
     "name": "stdout",
     "output_type": "stream",
     "text": [
      "Start:  19\n",
      "19  -  tr_loss: 0.14165343162490102 val_loss: 0.15805844217538834\n"
     ]
    },
    {
     "name": "stderr",
     "output_type": "stream",
     "text": [
      " 40%|████      | 20/50 [49:20<1:13:25, 146.86s/it]"
     ]
    },
    {
     "name": "stdout",
     "output_type": "stream",
     "text": [
      "Start:  20\n",
      "20  -  tr_loss: 0.14014211624133877 val_loss: 0.17907243967056274\n"
     ]
    },
    {
     "name": "stderr",
     "output_type": "stream",
     "text": [
      " 42%|████▏     | 21/50 [51:38<1:09:41, 144.20s/it]"
     ]
    },
    {
     "name": "stdout",
     "output_type": "stream",
     "text": [
      "Start:  21\n",
      "21  -  tr_loss: 0.14022215183188275 val_loss: 0.1852896586060524\n"
     ]
    },
    {
     "name": "stderr",
     "output_type": "stream",
     "text": [
      " 44%|████▍     | 22/50 [53:57<1:06:32, 142.61s/it]"
     ]
    },
    {
     "name": "stdout",
     "output_type": "stream",
     "text": [
      "Start:  22\n",
      "22  -  tr_loss: 0.13480866446000775 val_loss: 0.16854491084814072\n"
     ]
    },
    {
     "name": "stderr",
     "output_type": "stream",
     "text": [
      " 46%|████▌     | 23/50 [56:38<1:06:42, 148.25s/it]"
     ]
    },
    {
     "name": "stdout",
     "output_type": "stream",
     "text": [
      "Start:  23\n",
      "23  -  tr_loss: 0.13015653901710744 val_loss: 0.1608055979013443\n"
     ]
    },
    {
     "name": "stderr",
     "output_type": "stream",
     "text": [
      " 48%|████▊     | 24/50 [58:55<1:02:46, 144.86s/it]"
     ]
    },
    {
     "name": "stdout",
     "output_type": "stream",
     "text": [
      "Start:  24\n",
      "24  -  tr_loss: 0.13151325667049826 val_loss: 0.16588982939720154\n"
     ]
    },
    {
     "name": "stderr",
     "output_type": "stream",
     "text": [
      " 50%|█████     | 25/50 [1:01:19<1:00:12, 144.50s/it]"
     ]
    },
    {
     "name": "stdout",
     "output_type": "stream",
     "text": [
      "Start:  25\n",
      "25  -  tr_loss: 0.1271362758991195 val_loss: 0.16047441959381104\n"
     ]
    },
    {
     "name": "stderr",
     "output_type": "stream",
     "text": [
      " 52%|█████▏    | 26/50 [1:03:36<56:56, 142.34s/it]  "
     ]
    },
    {
     "name": "stdout",
     "output_type": "stream",
     "text": [
      "Start:  26\n",
      "26  -  tr_loss: 0.12566755675688024 val_loss: 0.1575712412595749\n"
     ]
    },
    {
     "name": "stderr",
     "output_type": "stream",
     "text": [
      " 54%|█████▍    | 27/50 [1:05:57<54:23, 141.91s/it]"
     ]
    },
    {
     "name": "stdout",
     "output_type": "stream",
     "text": [
      "Start:  27\n",
      "27  -  tr_loss: 0.12285145808283876 val_loss: 0.14873886108398438\n"
     ]
    },
    {
     "name": "stderr",
     "output_type": "stream",
     "text": [
      " 56%|█████▌    | 28/50 [1:08:26<52:50, 144.10s/it]"
     ]
    },
    {
     "name": "stdout",
     "output_type": "stream",
     "text": [
      "Start:  28\n",
      "28  -  tr_loss: 0.12636212295875315 val_loss: 0.15263518691062927\n"
     ]
    },
    {
     "name": "stderr",
     "output_type": "stream",
     "text": [
      " 58%|█████▊    | 29/50 [1:10:41<49:27, 141.31s/it]"
     ]
    },
    {
     "name": "stdout",
     "output_type": "stream",
     "text": [
      "Start:  29\n",
      "29  -  tr_loss: 0.1202478932171333 val_loss: 0.1508438065648079\n"
     ]
    },
    {
     "name": "stderr",
     "output_type": "stream",
     "text": [
      " 60%|██████    | 30/50 [1:13:00<46:53, 140.66s/it]"
     ]
    },
    {
     "name": "stdout",
     "output_type": "stream",
     "text": [
      "Start:  30\n",
      "30  -  tr_loss: 0.12076821069164974 val_loss: 0.163896843791008\n"
     ]
    },
    {
     "name": "stderr",
     "output_type": "stream",
     "text": [
      " 62%|██████▏   | 31/50 [1:15:43<46:37, 147.24s/it]"
     ]
    },
    {
     "name": "stdout",
     "output_type": "stream",
     "text": [
      "Start:  31\n",
      "31  -  tr_loss: 0.12007384183930188 val_loss: 0.16191885620355606\n"
     ]
    },
    {
     "name": "stderr",
     "output_type": "stream",
     "text": [
      " 64%|██████▍   | 32/50 [1:18:25<45:30, 151.67s/it]"
     ]
    },
    {
     "name": "stdout",
     "output_type": "stream",
     "text": [
      "Start:  32\n",
      "32  -  tr_loss: 0.11941478092495988 val_loss: 0.16179994493722916\n"
     ]
    },
    {
     "name": "stderr",
     "output_type": "stream",
     "text": [
      " 66%|██████▌   | 33/50 [1:21:03<43:31, 153.59s/it]"
     ]
    },
    {
     "name": "stdout",
     "output_type": "stream",
     "text": [
      "Start:  33\n",
      "33  -  tr_loss: 0.11635422761120447 val_loss: 0.14720409363508224\n"
     ]
    },
    {
     "name": "stderr",
     "output_type": "stream",
     "text": [
      " 68%|██████▊   | 34/50 [1:23:26<40:07, 150.46s/it]"
     ]
    },
    {
     "name": "stdout",
     "output_type": "stream",
     "text": [
      "Start:  34\n",
      "34  -  tr_loss: 0.11542677861161349 val_loss: 0.14584917575120926\n"
     ]
    },
    {
     "name": "stderr",
     "output_type": "stream",
     "text": [
      " 70%|███████   | 35/50 [1:25:52<37:18, 149.24s/it]"
     ]
    },
    {
     "name": "stdout",
     "output_type": "stream",
     "text": [
      "Start:  35\n",
      "35  -  tr_loss: 0.11759322518255652 val_loss: 0.14660567790269852\n"
     ]
    },
    {
     "name": "stderr",
     "output_type": "stream",
     "text": [
      " 72%|███████▏  | 36/50 [1:28:15<34:23, 147.43s/it]"
     ]
    },
    {
     "name": "stdout",
     "output_type": "stream",
     "text": [
      "Start:  36\n",
      "36  -  tr_loss: 0.11352783296166397 val_loss: 0.14600874483585358\n"
     ]
    },
    {
     "name": "stderr",
     "output_type": "stream",
     "text": [
      " 74%|███████▍  | 37/50 [1:30:30<31:07, 143.68s/it]"
     ]
    },
    {
     "name": "stdout",
     "output_type": "stream",
     "text": [
      "Start:  37\n",
      "37  -  tr_loss: 0.11619389202536606 val_loss: 0.13754967600107193\n"
     ]
    },
    {
     "name": "stderr",
     "output_type": "stream",
     "text": [
      " 76%|███████▌  | 38/50 [1:33:36<31:14, 156.19s/it]"
     ]
    },
    {
     "name": "stdout",
     "output_type": "stream",
     "text": [
      "Start:  38\n",
      "38  -  tr_loss: 0.11210144565599721 val_loss: 0.13995040953159332\n"
     ]
    },
    {
     "name": "stderr",
     "output_type": "stream",
     "text": [
      " 78%|███████▊  | 39/50 [1:35:59<27:53, 152.17s/it]"
     ]
    },
    {
     "name": "stdout",
     "output_type": "stream",
     "text": [
      "Start:  39\n",
      "39  -  tr_loss: 0.11190304323667433 val_loss: 0.14386480301618576\n"
     ]
    },
    {
     "name": "stderr",
     "output_type": "stream",
     "text": [
      " 80%|████████  | 40/50 [1:38:34<25:30, 153.06s/it]"
     ]
    },
    {
     "name": "stdout",
     "output_type": "stream",
     "text": [
      "Start:  40\n",
      "40  -  tr_loss: 0.111363675172736 val_loss: 0.1497737467288971\n"
     ]
    },
    {
     "name": "stderr",
     "output_type": "stream",
     "text": [
      " 82%|████████▏ | 41/50 [1:40:52<22:18, 148.67s/it]"
     ]
    },
    {
     "name": "stdout",
     "output_type": "stream",
     "text": [
      "Start:  41\n",
      "41  -  tr_loss: 0.10966826139426814 val_loss: 0.14614998549222946\n"
     ]
    },
    {
     "name": "stderr",
     "output_type": "stream",
     "text": [
      " 84%|████████▍ | 42/50 [1:43:23<19:55, 149.47s/it]"
     ]
    },
    {
     "name": "stdout",
     "output_type": "stream",
     "text": [
      "Start:  42\n",
      "42  -  tr_loss: 0.10742057351077475 val_loss: 0.14449705928564072\n"
     ]
    },
    {
     "name": "stderr",
     "output_type": "stream",
     "text": [
      " 86%|████████▌ | 43/50 [1:45:55<17:29, 149.96s/it]"
     ]
    },
    {
     "name": "stdout",
     "output_type": "stream",
     "text": [
      "Start:  43\n",
      "43  -  tr_loss: 0.10915877342951007 val_loss: 0.14111565798521042\n"
     ]
    },
    {
     "name": "stderr",
     "output_type": "stream",
     "text": [
      " 88%|████████▊ | 44/50 [1:48:32<15:13, 152.22s/it]"
     ]
    },
    {
     "name": "stdout",
     "output_type": "stream",
     "text": [
      "Start:  44\n",
      "44  -  tr_loss: 0.10582764228669608 val_loss: 0.1428251415491104\n"
     ]
    },
    {
     "name": "stderr",
     "output_type": "stream",
     "text": [
      " 90%|█████████ | 45/50 [1:51:03<12:38, 151.78s/it]"
     ]
    },
    {
     "name": "stdout",
     "output_type": "stream",
     "text": [
      "Start:  45\n",
      "45  -  tr_loss: 0.10524699927830114 val_loss: 0.13645592331886292\n"
     ]
    },
    {
     "name": "stderr",
     "output_type": "stream",
     "text": [
      " 92%|█████████▏| 46/50 [1:53:18<09:47, 146.77s/it]"
     ]
    },
    {
     "name": "stdout",
     "output_type": "stream",
     "text": [
      "Start:  46\n",
      "46  -  tr_loss: 0.1083886510715252 val_loss: 0.14767494797706604\n"
     ]
    },
    {
     "name": "stderr",
     "output_type": "stream",
     "text": [
      " 94%|█████████▍| 47/50 [1:55:32<07:08, 142.89s/it]"
     ]
    },
    {
     "name": "stdout",
     "output_type": "stream",
     "text": [
      "Start:  47\n",
      "47  -  tr_loss: 0.10537549162783273 val_loss: 0.14594712108373642\n"
     ]
    },
    {
     "name": "stderr",
     "output_type": "stream",
     "text": [
      " 96%|█████████▌| 48/50 [1:58:01<04:49, 144.94s/it]"
     ]
    },
    {
     "name": "stdout",
     "output_type": "stream",
     "text": [
      "Start:  48\n",
      "48  -  tr_loss: 0.10446354583269213 val_loss: 0.13840112835168839\n"
     ]
    },
    {
     "name": "stderr",
     "output_type": "stream",
     "text": [
      " 98%|█████████▊| 49/50 [2:00:31<02:26, 146.37s/it]"
     ]
    },
    {
     "name": "stdout",
     "output_type": "stream",
     "text": [
      "Start:  49\n",
      "49  -  tr_loss: 0.10347487523061473 val_loss: 0.1393211930990219\n"
     ]
    },
    {
     "name": "stderr",
     "output_type": "stream",
     "text": [
      "100%|██████████| 50/50 [2:02:47<00:00, 147.35s/it]\n"
     ]
    }
   ],
   "source": [
    "config = {'lr': 0.0011075820407299578, 'gamma': 0.9596539000640568}\n",
    "\n",
    "res = train_unet(config, isic18_train_dataset, isic18_val_dataset, 50, return_flag=True, apply_scheduler=True)"
   ]
  },
  {
   "cell_type": "code",
   "execution_count": 13,
   "id": "05d56dd7-0dd2-4a2e-bd4e-fdb655429bb1",
   "metadata": {},
   "outputs": [],
   "source": [
    "val_losses = res['val_losses']\n",
    "tr_losses = res['train_losses']\n",
    "model = res['model']"
   ]
  },
  {
   "cell_type": "code",
   "execution_count": 14,
   "id": "ef4191c5-b3c6-4d5c-8b59-d8b4dac59302",
   "metadata": {},
   "outputs": [
    {
     "data": {
      "image/png": "[encoded data removed]",
      "text/plain": [
       "<Figure size 640x480 with 1 Axes>"
      ]
     },
     "metadata": {},
     "output_type": "display_data"
    }
   ],
   "source": [
    "plt.plot(tr_losses)\n",
    "plt.plot(pd.Series(val_losses).rolling(10).mean(), color='g')\n",
    "plt.plot(val_losses, 'k+', alpha=0.3)\n",
    "plt.show()"
   ]
  },
  {
   "cell_type": "markdown",
   "id": "0319825f-bede-42fb-8bfa-d832a9888a23",
   "metadata": {},
   "source": [
    "---"
   ]
  },
  {
   "cell_type": "markdown",
   "id": "88f6793b-ddea-4668-88e4-aa5c41b57791",
   "metadata": {},
   "source": [
    "#### Evaluation"
   ]
  },
  {
   "cell_type": "code",
   "execution_count": 18,
   "id": "f9b826c0-c753-46b0-8f1a-3bcd72b2b355",
   "metadata": {},
   "outputs": [],
   "source": [
    "torch.save(model, '../../res/checkpoints/unet_isic18_full.pt')\n",
    "torch.save(model.state_dict(), '../../res/checkpoints/unet_isic18.pt')"
   ]
  },
  {
   "cell_type": "code",
   "execution_count": 6,
   "id": "8c82e596-f612-43a1-90e6-281f01295f21",
   "metadata": {},
   "outputs": [],
   "source": [
    "def load_checkpoint(path: Path, model: torch.nn.Module) -> torch.nn.Module:\n",
    "    \"\"\"\n",
    "    Helper method to load a model from a checkpoint\n",
    "    :param path: path to checkpoint\n",
    "    :param model: model which should use the checkpoint\n",
    "    :return: loaded model\n",
    "    \"\"\"\n",
    "    device: torch.device = torch.device('cuda:0' if torch.cuda.is_available() else 'cpu')\n",
    "\n",
    "    checkpoint = torch.load(path, map_location=device, weights_only=True)\n",
    "    model.load_state_dict(checkpoint)\n",
    "    return model"
   ]
  },
  {
   "cell_type": "code",
   "execution_count": 7,
   "id": "e74a5d2a-d317-405c-8d2b-24579ad695b0",
   "metadata": {},
   "outputs": [],
   "source": [
    "test_dataloader = DataLoader(isic18_test_dataset, batch_size=64, shuffle=False)\n",
    "device: torch.device = torch.device('cuda:0' if torch.cuda.is_available() else 'cpu')\n",
    "net = UNet(3, 1).to(device)\n",
    "\n",
    "net = load_checkpoint(Path('../../res/checkpoints/unet_isic18.pt'), net)"
   ]
  },
  {
   "cell_type": "code",
   "execution_count": 11,
   "id": "5f4804d4-8051-49be-b622-8b5be9973d54",
   "metadata": {},
   "outputs": [],
   "source": [
    "def evaluate_model(model: torch.nn.Module, data_loader: DataLoader, device) -> None:\n",
    "    \"\"\"\n",
    "    Evaluate the pixel accuracy for binary segmentation.\n",
    "    :param model: neural network\n",
    "    :param data_loader: torch Dataloader\n",
    "    :param device: device on which to perform the evaluation\n",
    "    :return: None\n",
    "    \"\"\"\n",
    "    total_correct_pixels = 0\n",
    "    total_pixels = 0\n",
    "\n",
    "    model.eval()\n",
    "\n",
    "    with torch.no_grad():\n",
    "        for inputs, targets in tqdm(data_loader):\n",
    "            inputs = inputs.to(device)\n",
    "\n",
    "            outputs = model(inputs)\n",
    "            preds = torch.sigmoid(outputs)\n",
    "            preds = (preds > 0.5).cpu().numpy()\n",
    "\n",
    "            targets = targets.numpy().flatten()\n",
    "            preds = preds.flatten()\n",
    "\n",
    "            correct_pixels = np.sum(preds == targets)\n",
    "            total_pixels += targets.size\n",
    "            total_correct_pixels += correct_pixels\n",
    "\n",
    "    pixel_accuracy = total_correct_pixels / total_pixels\n",
    "    print('Pixel Accuracy: ', pixel_accuracy)"
   ]
  },
  {
   "cell_type": "code",
   "execution_count": 12,
   "id": "c3000892-81c6-4dac-b7fa-c7ae105b59d7",
   "metadata": {},
   "outputs": [
    {
     "name": "stderr",
     "output_type": "stream",
     "text": [
      "100%|██████████| 16/16 [02:52<00:00, 10.79s/it]"
     ]
    },
    {
     "name": "stdout",
     "output_type": "stream",
     "text": [
      "Pixel Accuracy:  0.911911636352539\n"
     ]
    },
    {
     "name": "stderr",
     "output_type": "stream",
     "text": [
      "\n"
     ]
    }
   ],
   "source": [
    "evaluate_model(net, test_dataloader, device)"
   ]
  },
  {
   "cell_type": "code",
   "execution_count": 16,
   "id": "4f1f6ac0-a675-48ea-9d50-c523ced1875e",
   "metadata": {},
   "outputs": [],
   "source": [
    "def evaluate_binary_mean_iou(model, dataloader, device) -> float:\n",
    "    \"\"\"\n",
    "    Evaluate the Mean IoU for binary segmentation.\n",
    "    :param model: neural network\n",
    "    :param dataloader: Torch Dataloader\n",
    "    :param device: device on which to perform the evaluation\n",
    "    :return: mean IoU\n",
    "    \"\"\"\n",
    "    mean_iou_metric = MeanIoU(include_background=True, reduction=\"mean\")\n",
    "    activation = Activations(sigmoid=True)\n",
    "    discretize = AsDiscrete(threshold=0.5)\n",
    "\n",
    "    model.eval()\n",
    "    with torch.no_grad():\n",
    "        for inputs, targets in tqdm(dataloader):\n",
    "            inputs, targets = inputs.to(device), targets.to(device)\n",
    "\n",
    "            outputs = model(inputs)\n",
    "            preds = activation(outputs)\n",
    "            preds = discretize(preds)\n",
    "\n",
    "            mean_iou_metric(y_pred=preds, y=targets)\n",
    "\n",
    "    mean_iou = mean_iou_metric.aggregate().item()\n",
    "    print(f\"Mean IoU: {mean_iou}\")\n",
    "    return mean_iou\n"
   ]
  },
  {
   "cell_type": "code",
   "execution_count": 17,
   "id": "65b43dcd-4da3-4237-86db-b4d947679abf",
   "metadata": {},
   "outputs": [
    {
     "name": "stderr",
     "output_type": "stream",
     "text": [
      "100%|██████████| 16/16 [02:44<00:00, 10.30s/it]"
     ]
    },
    {
     "name": "stdout",
     "output_type": "stream",
     "text": [
      "Mean IoU: 0.7671493887901306\n"
     ]
    },
    {
     "name": "stderr",
     "output_type": "stream",
     "text": [
      "\n"
     ]
    },
    {
     "data": {
      "text/plain": [
       "0.7671493887901306"
      ]
     },
     "execution_count": 17,
     "metadata": {},
     "output_type": "execute_result"
    }
   ],
   "source": [
    "evaluate_binary_mean_iou(net, test_dataloader, device)"
   ]
  }
 ],
 "metadata": {
  "kernelspec": {
   "display_name": "Python 3 (ipykernel)",
   "language": "python",
   "name": "python3"
  },
  "language_info": {
   "codemirror_mode": {
    "name": "ipython",
    "version": 3
   },
   "file_extension": ".py",
   "mimetype": "text/x-python",
   "name": "python",
   "nbconvert_exporter": "python",
   "pygments_lexer": "ipython3",
   "version": "3.11.0rc1"
  }
 },
 "nbformat": 4,
 "nbformat_minor": 5
}
