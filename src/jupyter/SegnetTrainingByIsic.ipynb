{
 "cells": [
  {
   "cell_type": "markdown",
   "id": "b6bd52cc-d948-4322-ba2a-b739b10e7376",
   "metadata": {},
   "source": [
    "# Studienarbeit ComputerVision 2\n",
    "## Differences and Limitations of Unet and SegNet"
   ]
  },
  {
   "cell_type": "markdown",
   "id": "191df47b-5a2f-4ff0-a252-ab381b5c3bef",
   "metadata": {},
   "source": [
    "---"
   ]
  },
  {
   "cell_type": "code",
   "execution_count": 1,
   "id": "7ab76b26-1ad6-4340-b2c4-4282a398fa79",
   "metadata": {},
   "outputs": [],
   "source": [
    "# relevant imports\n",
    "import os\n",
    "from torch import nn, optim\n",
    "from torchsummary import summary\n",
    "from datasets import load_dataset\n",
    "from torchvision.transforms import transforms\n",
    "from PIL import Image\n",
    "from torch.utils.data import Dataset\n",
    "import numpy as np\n",
    "from ray.train import Checkpoint\n",
    "from monai.losses import DiceLoss\n",
    "from torch.optim.lr_scheduler import ExponentialLR\n",
    "from torch.utils.data import DataLoader\n",
    "from torchvision import datasets\n",
    "from tqdm import tqdm\n",
    "from typing import List\n",
    "from matplotlib import pyplot as plt\n",
    "import pandas as pd\n",
    "from ray.air import session\n",
    "from pathlib import Path\n",
    "import torch\n",
    "from monai.metrics import MeanIoU\n",
    "from monai.transforms import Activations, AsDiscrete"
   ]
  },
  {
   "cell_type": "markdown",
   "id": "5ec33212-8e8b-49fb-9437-051e5432f500",
   "metadata": {},
   "source": [
    "#### Modelarchitecture\n",
    "![segnet_graph.png](https://production-media.paperswithcode.com/methods/segnet_Vorazx7.png)\n"
   ]
  },
  {
   "cell_type": "code",
   "execution_count": 2,
   "id": "3cc53f0d-2c01-4073-9627-be207eeb048b",
   "metadata": {},
   "outputs": [],
   "source": [
    "class SegNet(nn.Module):\n",
    "    def __init__(self, input_size, output_size):\n",
    "        super(SegNet, self).__init__()\n",
    "\n",
    "        # Encoder Blocks\n",
    "        self.encoder_block_1 = SegNet._conv_block(input_size, 32)\n",
    "        self.max_pool_1 = nn.MaxPool2d(kernel_size=2, stride=2, return_indices=True)\n",
    "\n",
    "        self.encoder_block_2 = SegNet._conv_block(32, 64)\n",
    "        self.max_pool_2 = nn.MaxPool2d(kernel_size=2, stride=2, return_indices=True)\n",
    "\n",
    "        self.encoder_block_3 = SegNet._conv_block(64, 128)\n",
    "        self.max_pool_3 = nn.MaxPool2d(kernel_size=2, stride=2, return_indices=True)\n",
    "\n",
    "        self.encoder_block_4 = SegNet._conv_block(128, 256)\n",
    "        self.max_pool_4 = nn.MaxPool2d(kernel_size=2, stride=2, return_indices=True)\n",
    "\n",
    "        # Bottleneck\n",
    "        self.bottle_neck_block_1 = SegNet._conv_block(256, 512)\n",
    "        self.max_pool_5 = nn.MaxPool2d(kernel_size=2, stride=2, return_indices=True)\n",
    "        self.max_unpool = nn.MaxUnpool2d(kernel_size=2, stride=2)\n",
    "\n",
    "        # Decoder Blocks\n",
    "        self.decoder_block_5 = SegNet._conv_block(512, 256)\n",
    "\n",
    "        self.unpool_block_4 = nn.MaxUnpool2d(kernel_size=2, stride=2)\n",
    "        self.decoder_block_4 = SegNet._conv_block(256, 128)\n",
    "\n",
    "        self.unpool_block_3 = nn.MaxUnpool2d(kernel_size=2, stride=2)\n",
    "        self.decoder_block_3 = SegNet._conv_block(128, 64)\n",
    "\n",
    "        self.unpool_block_2 = nn.MaxUnpool2d(kernel_size=2, stride=2)\n",
    "        self.decoder_block_2 = SegNet._conv_block(64, 32)\n",
    "\n",
    "        self.unpool_block_1 = nn.MaxUnpool2d(kernel_size=2, stride=2)\n",
    "        self.decoder_block_1 = SegNet._conv_block(32, 32)\n",
    "\n",
    "        self.fc = nn.Conv2d(32, output_size, kernel_size=1)\n",
    "\n",
    "    def forward(self, x):\n",
    "        e1 = self.encoder_block_1(x)\n",
    "        e1_1, i1 = self.max_pool_1(e1)\n",
    "\n",
    "        e2 = self.encoder_block_2(e1_1)\n",
    "        e2_1, i2 = self.max_pool_2(e2)\n",
    "\n",
    "        e3 = self.encoder_block_3(e2_1)\n",
    "        e3_1, i3 = self.max_pool_3(e3)\n",
    "\n",
    "        e4 = self.encoder_block_4(e3_1)\n",
    "        e4_1, i4 = self.max_pool_4(e4)\n",
    "\n",
    "        b = self.bottle_neck_block_1(e4_1)\n",
    "        b, i5 = self.max_pool_5(b)\n",
    "        b_unpool = self.max_unpool(b, i5)\n",
    "        b = self.decoder_block_5(b_unpool)\n",
    "\n",
    "        d4 = self.unpool_block_4(b, i4)\n",
    "        d4 = self.decoder_block_4(d4)\n",
    "\n",
    "        d3 = self.unpool_block_3(d4, i3)\n",
    "        d3 = self.decoder_block_3(d3)\n",
    "\n",
    "        d2 = self.unpool_block_2(d3, i2)\n",
    "        d2 = self.decoder_block_2(d2)\n",
    "\n",
    "        d1 = self.unpool_block_1(d2, i1)\n",
    "        d1 = self.decoder_block_1(d1)\n",
    "\n",
    "        return self.fc(d1)\n",
    "\n",
    "\n",
    "    @staticmethod\n",
    "    def _conv_block(input_size, output_size):\n",
    "        return nn.Sequential(\n",
    "            nn.Conv2d(input_size, output_size, kernel_size=3, padding=1, bias=False),\n",
    "            nn.BatchNorm2d(output_size),\n",
    "            nn.ReLU(inplace=True),\n",
    "            nn.Conv2d(output_size, output_size, kernel_size=3, padding=1, bias=False),\n",
    "            nn.BatchNorm2d(output_size),\n",
    "            nn.ReLU(inplace=True))"
   ]
  },
  {
   "cell_type": "code",
   "execution_count": 3,
   "id": "8444eb7e-d2f9-4fa7-8cb7-14e4d7b3f48f",
   "metadata": {},
   "outputs": [
    {
     "name": "stdout",
     "output_type": "stream",
     "text": [
      "----------------------------------------------------------------\n",
      "        Layer (type)               Output Shape         Param #\n",
      "================================================================\n",
      "            Conv2d-1         [-1, 32, 256, 256]             864\n",
      "       BatchNorm2d-2         [-1, 32, 256, 256]              64\n",
      "              ReLU-3         [-1, 32, 256, 256]               0\n",
      "            Conv2d-4         [-1, 32, 256, 256]           9,216\n",
      "       BatchNorm2d-5         [-1, 32, 256, 256]              64\n",
      "              ReLU-6         [-1, 32, 256, 256]               0\n",
      "         MaxPool2d-7  [[-1, 32, 128, 128], [-1, 32, 128, 128]]               0\n",
      "            Conv2d-8         [-1, 64, 128, 128]          18,432\n",
      "       BatchNorm2d-9         [-1, 64, 128, 128]             128\n",
      "             ReLU-10         [-1, 64, 128, 128]               0\n",
      "           Conv2d-11         [-1, 64, 128, 128]          36,864\n",
      "      BatchNorm2d-12         [-1, 64, 128, 128]             128\n",
      "             ReLU-13         [-1, 64, 128, 128]               0\n",
      "        MaxPool2d-14  [[-1, 64, 64, 64], [-1, 64, 64, 64]]               0\n",
      "           Conv2d-15          [-1, 128, 64, 64]          73,728\n",
      "      BatchNorm2d-16          [-1, 128, 64, 64]             256\n",
      "             ReLU-17          [-1, 128, 64, 64]               0\n",
      "           Conv2d-18          [-1, 128, 64, 64]         147,456\n",
      "      BatchNorm2d-19          [-1, 128, 64, 64]             256\n",
      "             ReLU-20          [-1, 128, 64, 64]               0\n",
      "        MaxPool2d-21  [[-1, 128, 32, 32], [-1, 128, 32, 32]]               0\n",
      "           Conv2d-22          [-1, 256, 32, 32]         294,912\n",
      "      BatchNorm2d-23          [-1, 256, 32, 32]             512\n",
      "             ReLU-24          [-1, 256, 32, 32]               0\n",
      "           Conv2d-25          [-1, 256, 32, 32]         589,824\n",
      "      BatchNorm2d-26          [-1, 256, 32, 32]             512\n",
      "             ReLU-27          [-1, 256, 32, 32]               0\n",
      "        MaxPool2d-28  [[-1, 256, 16, 16], [-1, 256, 16, 16]]               0\n",
      "           Conv2d-29          [-1, 512, 16, 16]       1,179,648\n",
      "      BatchNorm2d-30          [-1, 512, 16, 16]           1,024\n",
      "             ReLU-31          [-1, 512, 16, 16]               0\n",
      "           Conv2d-32          [-1, 512, 16, 16]       2,359,296\n",
      "      BatchNorm2d-33          [-1, 512, 16, 16]           1,024\n",
      "             ReLU-34          [-1, 512, 16, 16]               0\n",
      "        MaxPool2d-35  [[-1, 512, 8, 8], [-1, 512, 8, 8]]               0\n",
      "      MaxUnpool2d-36          [-1, 512, 16, 16]               0\n",
      "           Conv2d-37          [-1, 256, 16, 16]       1,179,648\n",
      "      BatchNorm2d-38          [-1, 256, 16, 16]             512\n",
      "             ReLU-39          [-1, 256, 16, 16]               0\n",
      "           Conv2d-40          [-1, 256, 16, 16]         589,824\n",
      "      BatchNorm2d-41          [-1, 256, 16, 16]             512\n",
      "             ReLU-42          [-1, 256, 16, 16]               0\n",
      "      MaxUnpool2d-43          [-1, 256, 32, 32]               0\n",
      "           Conv2d-44          [-1, 128, 32, 32]         294,912\n",
      "      BatchNorm2d-45          [-1, 128, 32, 32]             256\n",
      "             ReLU-46          [-1, 128, 32, 32]               0\n",
      "           Conv2d-47          [-1, 128, 32, 32]         147,456\n",
      "      BatchNorm2d-48          [-1, 128, 32, 32]             256\n",
      "             ReLU-49          [-1, 128, 32, 32]               0\n",
      "      MaxUnpool2d-50          [-1, 128, 64, 64]               0\n",
      "           Conv2d-51           [-1, 64, 64, 64]          73,728\n",
      "      BatchNorm2d-52           [-1, 64, 64, 64]             128\n",
      "             ReLU-53           [-1, 64, 64, 64]               0\n",
      "           Conv2d-54           [-1, 64, 64, 64]          36,864\n",
      "      BatchNorm2d-55           [-1, 64, 64, 64]             128\n",
      "             ReLU-56           [-1, 64, 64, 64]               0\n",
      "      MaxUnpool2d-57         [-1, 64, 128, 128]               0\n",
      "           Conv2d-58         [-1, 32, 128, 128]          18,432\n",
      "      BatchNorm2d-59         [-1, 32, 128, 128]              64\n",
      "             ReLU-60         [-1, 32, 128, 128]               0\n",
      "           Conv2d-61         [-1, 32, 128, 128]           9,216\n",
      "      BatchNorm2d-62         [-1, 32, 128, 128]              64\n",
      "             ReLU-63         [-1, 32, 128, 128]               0\n",
      "      MaxUnpool2d-64         [-1, 32, 256, 256]               0\n",
      "           Conv2d-65         [-1, 32, 256, 256]           9,216\n",
      "      BatchNorm2d-66         [-1, 32, 256, 256]              64\n",
      "             ReLU-67         [-1, 32, 256, 256]               0\n",
      "           Conv2d-68         [-1, 32, 256, 256]           9,216\n",
      "      BatchNorm2d-69         [-1, 32, 256, 256]              64\n",
      "             ReLU-70         [-1, 32, 256, 256]               0\n",
      "           Conv2d-71          [-1, 1, 256, 256]              33\n",
      "================================================================\n",
      "Total params: 7,084,801\n",
      "Trainable params: 7,084,801\n",
      "Non-trainable params: 0\n",
      "----------------------------------------------------------------\n",
      "Input size (MB): 0.75\n",
      "Forward/backward pass size (MB): 2793113.50\n",
      "Params size (MB): 27.03\n",
      "Estimated Total Size (MB): 2793141.28\n",
      "----------------------------------------------------------------\n"
     ]
    }
   ],
   "source": [
    "segnet = SegNet(3, 1)\n",
    "segnet.cuda()\n",
    "summary(segnet, (3, 256, 256))"
   ]
  },
  {
   "cell_type": "markdown",
   "id": "05b15f52-370d-49b7-9a67-cc5bee169d28",
   "metadata": {},
   "source": [
    "---"
   ]
  },
  {
   "cell_type": "markdown",
   "id": "aa78f9fd-82ed-4643-b4f8-bff1806878e7",
   "metadata": {},
   "source": [
    "#### Datapreparation"
   ]
  },
  {
   "cell_type": "code",
   "execution_count": 3,
   "id": "55fb2514-f1f9-4480-8c22-8e3ed255aed3",
   "metadata": {},
   "outputs": [
    {
     "data": {
      "application/vnd.jupyter.widget-view+json": {
       "model_id": "32413eb647864ccc9673f73f2abc0485",
       "version_major": 2,
       "version_minor": 0
      },
      "text/plain": [
       "Resolving data files:   0%|          | 0/50 [00:00<?, ?it/s]"
      ]
     },
     "metadata": {},
     "output_type": "display_data"
    },
    {
     "data": {
      "application/vnd.jupyter.widget-view+json": {
       "model_id": "f90be8cb3a614062a12f1dd7084f4fae",
       "version_major": 2,
       "version_minor": 0
      },
      "text/plain": [
       "Resolving data files:   0%|          | 0/50 [00:00<?, ?it/s]"
      ]
     },
     "metadata": {},
     "output_type": "display_data"
    },
    {
     "data": {
      "application/vnd.jupyter.widget-view+json": {
       "model_id": "4297b80e874049418db4f2eecc2aeb0c",
       "version_major": 2,
       "version_minor": 0
      },
      "text/plain": [
       "Resolving data files:   0%|          | 0/50 [00:00<?, ?it/s]"
      ]
     },
     "metadata": {},
     "output_type": "display_data"
    },
    {
     "data": {
      "application/vnd.jupyter.widget-view+json": {
       "model_id": "515acb621bd64e0892afad078cc066c5",
       "version_major": 2,
       "version_minor": 0
      },
      "text/plain": [
       "Resolving data files:   0%|          | 0/50 [00:00<?, ?it/s]"
      ]
     },
     "metadata": {},
     "output_type": "display_data"
    },
    {
     "data": {
      "application/vnd.jupyter.widget-view+json": {
       "model_id": "f78bc135e2824745aa5fbf26c85ba3a4",
       "version_major": 2,
       "version_minor": 0
      },
      "text/plain": [
       "Resolving data files:   0%|          | 0/50 [00:00<?, ?it/s]"
      ]
     },
     "metadata": {},
     "output_type": "display_data"
    },
    {
     "data": {
      "application/vnd.jupyter.widget-view+json": {
       "model_id": "705e97992f0d4396ab555e40f0b45e3a",
       "version_major": 2,
       "version_minor": 0
      },
      "text/plain": [
       "Resolving data files:   0%|          | 0/50 [00:00<?, ?it/s]"
      ]
     },
     "metadata": {},
     "output_type": "display_data"
    },
    {
     "data": {
      "text/plain": [
       "DatasetDict({\n",
       "    train: Dataset({\n",
       "        features: ['image', 'label'],\n",
       "        num_rows: 2594\n",
       "    })\n",
       "    validation: Dataset({\n",
       "        features: ['image', 'label'],\n",
       "        num_rows: 100\n",
       "    })\n",
       "    test: Dataset({\n",
       "        features: ['image', 'label'],\n",
       "        num_rows: 1000\n",
       "    })\n",
       "})"
      ]
     },
     "execution_count": 3,
     "metadata": {},
     "output_type": "execute_result"
    }
   ],
   "source": [
    "isic18_dataset = load_dataset(\"surajbijjahalli/ISIC2018\")\n",
    "isic18_dataset"
   ]
  },
  {
   "cell_type": "code",
   "execution_count": 4,
   "id": "ca235cf0-fdbf-4265-a821-fb7c58e3f6e8",
   "metadata": {},
   "outputs": [],
   "source": [
    "class ISICDataset(Dataset):\n",
    "    def __init__(self, dataset, transform_image=None, transform_mask=None):\n",
    "        self.dataset = dataset\n",
    "        self.transform_image = transform_image\n",
    "        self.transform_mask = transform_mask\n",
    "\n",
    "    def __len__(self):\n",
    "        return len(self.dataset)\n",
    "\n",
    "    def __getitem__(self, idx):\n",
    "        example = self.dataset[idx]\n",
    "\n",
    "        image = example['image']\n",
    "        mask = example['label']\n",
    "        mask = mask.convert('L')\n",
    "        mask = np.array(mask)\n",
    "        mask[mask > 0] = 255\n",
    "        mask[mask == 0] = 0\n",
    "        mask = Image.fromarray(mask)\n",
    "\n",
    "        if self.transform_image:\n",
    "            image = self.transform_image(image)\n",
    "        if self.transform_mask:\n",
    "            mask = self.transform_mask(mask)\n",
    "\n",
    "        return image, mask"
   ]
  },
  {
   "cell_type": "code",
   "execution_count": 5,
   "id": "2408a562-64c6-4750-bc9b-0534aeda1e0c",
   "metadata": {},
   "outputs": [],
   "source": [
    "transform_image = transforms.Compose([\n",
    "    transforms.Resize((256, 256), interpolation=Image.BILINEAR),\n",
    "    transforms.ToTensor(),\n",
    "    transforms.Normalize([.5, .5, .5], [.5, .5, .5])])\n",
    "\n",
    "transform_mask = transforms.Compose([\n",
    "    transforms.Resize((256, 256), interpolation=Image.NEAREST),\n",
    "    transforms.ToTensor()])\n",
    "\n",
    "isic18_train_dataset = ISICDataset(isic18_dataset['train'], transform_image, transform_mask)\n",
    "isic18_val_dataset = ISICDataset(isic18_dataset['validation'], transform_image, transform_mask)\n",
    "isic18_test_dataset = ISICDataset(isic18_dataset['test'], transform_image, transform_mask)"
   ]
  },
  {
   "cell_type": "markdown",
   "id": "4eabf307-9f11-4041-99c0-a433f2b16cac",
   "metadata": {},
   "source": [
    "---"
   ]
  },
  {
   "cell_type": "markdown",
   "id": "66e43d57-1110-43c9-bfeb-97714207c59e",
   "metadata": {},
   "source": [
    "#### Training"
   ]
  },
  {
   "cell_type": "code",
   "execution_count": 7,
   "id": "667017bc-d091-4eb2-b1f3-b7537eb77382",
   "metadata": {},
   "outputs": [],
   "source": [
    "def validation_loop(model: nn.Module, validation_dataloader: DataLoader, loss_fn, device) -> float:\n",
    "    \"\"\"\n",
    "    Validation loop for the CNN\n",
    "    :param model: neural network\n",
    "    :param validation_dataloader: dataloader for the validation set\n",
    "    :param loss_fn: loss function\n",
    "    :param device: device on which to perform the validation\n",
    "    :return: validation loss\n",
    "    \"\"\"\n",
    "    running_val_loss: float = 0.\n",
    "    model.eval()\n",
    "    with torch.no_grad():\n",
    "        for i, vdata in enumerate(validation_dataloader):\n",
    "            inputs, targets = vdata\n",
    "            inputs, targets = inputs.to(device), targets.to(device)\n",
    "\n",
    "            vloss = loss_fn(model(inputs), targets)\n",
    "            running_val_loss += vloss.item()\n",
    "        running_val_loss /= (i + 1)\n",
    "\n",
    "    return running_val_loss"
   ]
  },
  {
   "cell_type": "code",
   "execution_count": 8,
   "id": "ea8e017f-6315-4e31-bf0f-9000bf612b30",
   "metadata": {},
   "outputs": [],
   "source": [
    "def train_loop(model: nn.Module, train_dataloader: DataLoader, loss_fn, optimizer, device) -> float:\n",
    "    \"\"\"\n",
    "    Main minibatch train loop for the CNN\n",
    "    :param model: neural network\n",
    "    :param train_dataloader: dataloader for the train set\n",
    "    :param loss_fn: loss function\n",
    "    :param optimizer: optimizer\n",
    "    :param device: device on which to perform the training\n",
    "    :return: train loss\n",
    "    \"\"\"\n",
    "    running_tr_loss: float = 0.\n",
    "    for i, data in enumerate(train_dataloader):\n",
    "        inputs, targets = data\n",
    "        inputs, targets = inputs.to(device), targets.to(device)\n",
    "\n",
    "        yhats = model(inputs)\n",
    "        optimizer.zero_grad()\n",
    "        tloss = loss_fn(yhats, targets)\n",
    "\n",
    "        tloss.backward()\n",
    "        optimizer.step()\n",
    "\n",
    "        running_tr_loss += tloss.item()\n",
    "    running_tr_loss /= (i + 1)\n",
    "\n",
    "    return running_tr_loss"
   ]
  },
  {
   "cell_type": "code",
   "execution_count": 10,
   "id": "628a98f2-f4ab-49da-8faa-dd3d6d1086c1",
   "metadata": {},
   "outputs": [],
   "source": [
    "def train_segnet(\n",
    "        config: dict,\n",
    "        train_dataset: datasets,\n",
    "        validation_dataset: datasets,\n",
    "        epochs: int,\n",
    "        apply_scheduler: bool = True,\n",
    "        return_flag: bool = False) -> dict | None:\n",
    "    \"\"\"\n",
    "    Prepared train loop for ray parameter tuning.\n",
    "    Training components:\n",
    "        - model: CNN\n",
    "        - loss function: CrossEntropyLoss\n",
    "        - optimizer: Adam\n",
    "        - scheduler: ExponentialLR (optional)\n",
    "\n",
    "    :param config: dict of hyperparameters\n",
    "    :param train_dataset:\n",
    "    :param validation_dataset:\n",
    "    :param epochs: number of epochs to train\n",
    "    :param apply_scheduler: weather scheduler should be used or not\n",
    "    :param return_flag: weather to return the model and losses or not\n",
    "    :return: training results\n",
    "    \"\"\"\n",
    "\n",
    "    device: torch.device = torch.device('cuda:1' if torch.cuda.is_available() else 'cpu')\n",
    "    print(device)\n",
    "    model: nn.Module = SegNet(3, 1).to(device)\n",
    "\n",
    "    loss_fn = DiceLoss(sigmoid=True)\n",
    "\n",
    "    optim_params: dict = {\n",
    "        'lr': config[\"lr\"]\n",
    "    }\n",
    "    optimizer: optim.Adam = optim.Adam(model.parameters(), **optim_params)\n",
    "\n",
    "    scheduler_params: dict = {\n",
    "        'gamma': config['gamma'],\n",
    "        'verbose': False\n",
    "    }\n",
    "    scheduler: ExponentialLR = ExponentialLR(optimizer, **scheduler_params)\n",
    "\n",
    "    train_dataloader: DataLoader = DataLoader(train_dataset, batch_size=64, shuffle=True, num_workers=4)\n",
    "    validation_dataloader: DataLoader = DataLoader(validation_dataset, batch_size=64, shuffle=False, num_workers=4)\n",
    "\n",
    "    train_losses: List[float] = []\n",
    "    val_losses: List[float] = []\n",
    "\n",
    "    print('Start training...')\n",
    "    for epoch in tqdm(range(epochs)):\n",
    "        print('Start: ', epoch)\n",
    "        model.train()\n",
    "\n",
    "        # Train loop to iterate over the dataloader batches\n",
    "        running_tr_loss: float = train_loop(model, train_dataloader, loss_fn, optimizer, device)\n",
    "        if apply_scheduler:\n",
    "            scheduler.step()\n",
    "\n",
    "        # Validation loop\n",
    "        running_val_loss: float = validation_loop(model, validation_dataloader, loss_fn, device)\n",
    "\n",
    "        print(epoch, \" - \", 'tr_loss:', running_tr_loss, 'val_loss:', running_val_loss)\n",
    "        train_losses.append(running_tr_loss)\n",
    "        val_losses.append(running_val_loss)\n",
    "\n",
    "        # Save a checkpoint from the model\n",
    "        os.makedirs(\"res/model\", exist_ok=True)\n",
    "        torch.save(\n",
    "            (model.state_dict(), optimizer.state_dict()), \"res/model/checkpoint.pt\")\n",
    "        checkpoint: Checkpoint = Checkpoint.from_directory(\"res/model\")\n",
    "        session.report({\"val_loss\": running_val_loss,\n",
    "                        \"train_loss\": running_tr_loss}, checkpoint=checkpoint)\n",
    "\n",
    "    if return_flag:\n",
    "        return {\"train_losses\": train_losses,\n",
    "                \"val_losses\": val_losses,\n",
    "                \"model\": model}"
   ]
  },
  {
   "cell_type": "markdown",
   "id": "243e5f7f-1aaf-410b-92a6-b9c4a109154f",
   "metadata": {},
   "source": [
    "---"
   ]
  },
  {
   "cell_type": "markdown",
   "id": "3bf4ed1b-eb81-44b8-a03c-f72477b9cd37",
   "metadata": {},
   "source": [
    "#### Training with parameter"
   ]
  },
  {
   "cell_type": "code",
   "execution_count": 11,
   "id": "28c0f6bb-43c0-405d-8901-f99c29a034cc",
   "metadata": {
    "scrolled": true
   },
   "outputs": [
    {
     "name": "stdout",
     "output_type": "stream",
     "text": [
      "cuda:1\n"
     ]
    },
    {
     "name": "stderr",
     "output_type": "stream",
     "text": [
      "/home/jovyan/.local/lib/python3.11/site-packages/torch/optim/lr_scheduler.py:62: UserWarning: The verbose parameter is deprecated. Please use get_last_lr() to access the learning rate.\n",
      "  warnings.warn(\n"
     ]
    },
    {
     "name": "stdout",
     "output_type": "stream",
     "text": [
      "Start training...\n"
     ]
    },
    {
     "name": "stderr",
     "output_type": "stream",
     "text": [
      "  0%|          | 0/50 [00:00<?, ?it/s]"
     ]
    },
    {
     "name": "stdout",
     "output_type": "stream",
     "text": [
      "Start:  0\n"
     ]
    },
    {
     "name": "stderr",
     "output_type": "stream",
     "text": [
      "/home/jovyan/.local/lib/python3.11/site-packages/ray/train/_internal/session.py:652: UserWarning: `report` is meant to only be called inside a function that is executed by a Tuner or Trainer. Returning `None`.\n",
      "  warnings.warn(\n",
      "  2%|▏         | 1/50 [02:18<1:53:24, 138.88s/it]"
     ]
    },
    {
     "name": "stdout",
     "output_type": "stream",
     "text": [
      "0  -  tr_loss: 0.5703063054782588 val_loss: 0.44001592695713043\n",
      "Start:  1\n",
      "1  -  tr_loss: 0.4575370150368388 val_loss: 0.4440404325723648\n"
     ]
    },
    {
     "name": "stderr",
     "output_type": "stream",
     "text": [
      "  4%|▍         | 2/50 [04:48<1:56:11, 145.24s/it]"
     ]
    },
    {
     "name": "stdout",
     "output_type": "stream",
     "text": [
      "Start:  2\n",
      "2  -  tr_loss: 0.37724038231663587 val_loss: 0.43178193271160126\n"
     ]
    },
    {
     "name": "stderr",
     "output_type": "stream",
     "text": [
      "  6%|▌         | 3/50 [07:12<1:53:28, 144.87s/it]"
     ]
    },
    {
     "name": "stdout",
     "output_type": "stream",
     "text": [
      "Start:  3\n",
      "3  -  tr_loss: 0.3207658820035981 val_loss: 0.29853230714797974\n"
     ]
    },
    {
     "name": "stderr",
     "output_type": "stream",
     "text": [
      "  8%|▊         | 4/50 [09:34<1:49:57, 143.43s/it]"
     ]
    },
    {
     "name": "stdout",
     "output_type": "stream",
     "text": [
      "Start:  4\n",
      "4  -  tr_loss: 0.2679170144767296 val_loss: 0.23473630845546722\n"
     ]
    },
    {
     "name": "stderr",
     "output_type": "stream",
     "text": [
      " 10%|█         | 5/50 [11:56<1:47:21, 143.14s/it]"
     ]
    },
    {
     "name": "stdout",
     "output_type": "stream",
     "text": [
      "Start:  5\n",
      "5  -  tr_loss: 0.22833247773531007 val_loss: 0.2837586849927902\n"
     ]
    },
    {
     "name": "stderr",
     "output_type": "stream",
     "text": [
      " 12%|█▏        | 6/50 [14:22<1:45:30, 143.88s/it]"
     ]
    },
    {
     "name": "stdout",
     "output_type": "stream",
     "text": [
      "Start:  6\n",
      "6  -  tr_loss: 0.20844196110236934 val_loss: 0.1931348443031311\n"
     ]
    },
    {
     "name": "stderr",
     "output_type": "stream",
     "text": [
      " 14%|█▍        | 7/50 [16:42<1:42:23, 142.87s/it]"
     ]
    },
    {
     "name": "stdout",
     "output_type": "stream",
     "text": [
      "Start:  7\n",
      "7  -  tr_loss: 0.1934820540794512 val_loss: 0.20949213951826096\n"
     ]
    },
    {
     "name": "stderr",
     "output_type": "stream",
     "text": [
      " 16%|█▌        | 8/50 [19:05<1:39:57, 142.80s/it]"
     ]
    },
    {
     "name": "stdout",
     "output_type": "stream",
     "text": [
      "Start:  8\n",
      "8  -  tr_loss: 0.18376935364269628 val_loss: 0.17874283343553543\n"
     ]
    },
    {
     "name": "stderr",
     "output_type": "stream",
     "text": [
      " 18%|█▊        | 9/50 [21:20<1:35:51, 140.29s/it]"
     ]
    },
    {
     "name": "stdout",
     "output_type": "stream",
     "text": [
      "Start:  9\n",
      "9  -  tr_loss: 0.16930969822697522 val_loss: 0.19473837316036224\n"
     ]
    },
    {
     "name": "stderr",
     "output_type": "stream",
     "text": [
      " 20%|██        | 10/50 [23:51<1:35:49, 143.73s/it]"
     ]
    },
    {
     "name": "stdout",
     "output_type": "stream",
     "text": [
      "Start:  10\n",
      "10  -  tr_loss: 0.1598866311151807 val_loss: 0.17598292976617813\n"
     ]
    },
    {
     "name": "stderr",
     "output_type": "stream",
     "text": [
      " 22%|██▏       | 11/50 [26:31<1:36:40, 148.72s/it]"
     ]
    },
    {
     "name": "stdout",
     "output_type": "stream",
     "text": [
      "Start:  11\n",
      "11  -  tr_loss: 0.1560004942300843 val_loss: 0.1664091944694519\n"
     ]
    },
    {
     "name": "stderr",
     "output_type": "stream",
     "text": [
      " 24%|██▍       | 12/50 [29:13<1:36:44, 152.76s/it]"
     ]
    },
    {
     "name": "stdout",
     "output_type": "stream",
     "text": [
      "Start:  12\n",
      "12  -  tr_loss: 0.15079773780776234 val_loss: 0.17874276638031006\n"
     ]
    },
    {
     "name": "stderr",
     "output_type": "stream",
     "text": [
      " 26%|██▌       | 13/50 [31:44<1:33:46, 152.06s/it]"
     ]
    },
    {
     "name": "stdout",
     "output_type": "stream",
     "text": [
      "Start:  13\n",
      "13  -  tr_loss: 0.1491745534103091 val_loss: 0.16074209660291672\n"
     ]
    },
    {
     "name": "stderr",
     "output_type": "stream",
     "text": [
      " 28%|██▊       | 14/50 [34:20<1:32:04, 153.45s/it]"
     ]
    },
    {
     "name": "stdout",
     "output_type": "stream",
     "text": [
      "Start:  14\n",
      "14  -  tr_loss: 0.14293806018625818 val_loss: 0.16193556040525436\n"
     ]
    },
    {
     "name": "stderr",
     "output_type": "stream",
     "text": [
      " 30%|███       | 15/50 [36:38<1:26:38, 148.54s/it]"
     ]
    },
    {
     "name": "stdout",
     "output_type": "stream",
     "text": [
      "Start:  15\n"
     ]
    },
    {
     "name": "stderr",
     "output_type": "stream",
     "text": [
      " 32%|███▏      | 16/50 [39:06<1:24:04, 148.38s/it]"
     ]
    },
    {
     "name": "stdout",
     "output_type": "stream",
     "text": [
      "15  -  tr_loss: 0.14632142353348615 val_loss: 0.15491712093353271\n",
      "Start:  16\n",
      "16  -  tr_loss: 0.1411176547408104 val_loss: 0.15111027657985687\n"
     ]
    },
    {
     "name": "stderr",
     "output_type": "stream",
     "text": [
      " 34%|███▍      | 17/50 [41:26<1:20:16, 145.96s/it]"
     ]
    },
    {
     "name": "stdout",
     "output_type": "stream",
     "text": [
      "Start:  17\n",
      "17  -  tr_loss: 0.13394212613745435 val_loss: 0.1580248400568962\n"
     ]
    },
    {
     "name": "stderr",
     "output_type": "stream",
     "text": [
      " 36%|███▌      | 18/50 [43:49<1:17:18, 144.94s/it]"
     ]
    },
    {
     "name": "stdout",
     "output_type": "stream",
     "text": [
      "Start:  18\n",
      "18  -  tr_loss: 0.13406489971207408 val_loss: 0.14964031428098679\n"
     ]
    },
    {
     "name": "stderr",
     "output_type": "stream",
     "text": [
      " 38%|███▊      | 19/50 [46:02<1:13:08, 141.56s/it]"
     ]
    },
    {
     "name": "stdout",
     "output_type": "stream",
     "text": [
      "Start:  19\n",
      "19  -  tr_loss: 0.13160399293027272 val_loss: 0.1636941060423851\n"
     ]
    },
    {
     "name": "stderr",
     "output_type": "stream",
     "text": [
      " 40%|████      | 20/50 [48:39<1:13:07, 146.24s/it]"
     ]
    },
    {
     "name": "stdout",
     "output_type": "stream",
     "text": [
      "Start:  20\n",
      "20  -  tr_loss: 0.13050610499411094 val_loss: 0.1457522064447403\n"
     ]
    },
    {
     "name": "stderr",
     "output_type": "stream",
     "text": [
      " 42%|████▏     | 21/50 [51:21<1:12:56, 150.92s/it]"
     ]
    },
    {
     "name": "stdout",
     "output_type": "stream",
     "text": [
      "Start:  21\n",
      "21  -  tr_loss: 0.12869355391438414 val_loss: 0.14686663448810577\n"
     ]
    },
    {
     "name": "stderr",
     "output_type": "stream",
     "text": [
      " 44%|████▍     | 22/50 [53:43<1:09:11, 148.28s/it]"
     ]
    },
    {
     "name": "stdout",
     "output_type": "stream",
     "text": [
      "Start:  22\n",
      "22  -  tr_loss: 0.1241945653426938 val_loss: 0.14967315644025803\n"
     ]
    },
    {
     "name": "stderr",
     "output_type": "stream",
     "text": [
      " 46%|████▌     | 23/50 [56:00<1:05:05, 144.66s/it]"
     ]
    },
    {
     "name": "stdout",
     "output_type": "stream",
     "text": [
      "Start:  23\n",
      "23  -  tr_loss: 0.12044738632876699 val_loss: 0.15159405767917633\n"
     ]
    },
    {
     "name": "stderr",
     "output_type": "stream",
     "text": [
      " 48%|████▊     | 24/50 [58:12<1:01:04, 140.93s/it]"
     ]
    },
    {
     "name": "stdout",
     "output_type": "stream",
     "text": [
      "Start:  24\n",
      "24  -  tr_loss: 0.11697331652408693 val_loss: 0.13619783520698547\n"
     ]
    },
    {
     "name": "stderr",
     "output_type": "stream",
     "text": [
      " 50%|█████     | 25/50 [1:00:53<1:01:13, 146.94s/it]"
     ]
    },
    {
     "name": "stdout",
     "output_type": "stream",
     "text": [
      "Start:  25\n",
      "25  -  tr_loss: 0.11419936124144531 val_loss: 0.14906954020261765\n"
     ]
    },
    {
     "name": "stderr",
     "output_type": "stream",
     "text": [
      " 52%|█████▏    | 26/50 [1:03:46<1:01:53, 154.72s/it]"
     ]
    },
    {
     "name": "stdout",
     "output_type": "stream",
     "text": [
      "Start:  26\n",
      "26  -  tr_loss: 0.11391324640774145 val_loss: 0.14684009552001953\n"
     ]
    },
    {
     "name": "stderr",
     "output_type": "stream",
     "text": [
      " 54%|█████▍    | 27/50 [1:05:59<56:54, 148.46s/it]  "
     ]
    },
    {
     "name": "stdout",
     "output_type": "stream",
     "text": [
      "Start:  27\n",
      "27  -  tr_loss: 0.11455966822984742 val_loss: 0.13923052698373795\n"
     ]
    },
    {
     "name": "stderr",
     "output_type": "stream",
     "text": [
      " 56%|█████▌    | 28/50 [1:08:17<53:14, 145.19s/it]"
     ]
    },
    {
     "name": "stdout",
     "output_type": "stream",
     "text": [
      "Start:  28\n",
      "28  -  tr_loss: 0.10689212854315595 val_loss: 0.14206691831350327\n"
     ]
    },
    {
     "name": "stderr",
     "output_type": "stream",
     "text": [
      " 58%|█████▊    | 29/50 [1:10:41<50:39, 144.73s/it]"
     ]
    },
    {
     "name": "stdout",
     "output_type": "stream",
     "text": [
      "Start:  29\n",
      "29  -  tr_loss: 0.10777041497753888 val_loss: 0.1418241709470749\n"
     ]
    },
    {
     "name": "stderr",
     "output_type": "stream",
     "text": [
      " 60%|██████    | 30/50 [1:13:01<47:45, 143.27s/it]"
     ]
    },
    {
     "name": "stdout",
     "output_type": "stream",
     "text": [
      "Start:  30\n",
      "30  -  tr_loss: 0.10624807945838789 val_loss: 0.14240141957998276\n"
     ]
    },
    {
     "name": "stderr",
     "output_type": "stream",
     "text": [
      " 62%|██████▏   | 31/50 [1:15:21<45:05, 142.38s/it]"
     ]
    },
    {
     "name": "stdout",
     "output_type": "stream",
     "text": [
      "Start:  31\n",
      "31  -  tr_loss: 0.10454165299491185 val_loss: 0.14086058735847473\n"
     ]
    },
    {
     "name": "stderr",
     "output_type": "stream",
     "text": [
      " 64%|██████▍   | 32/50 [1:17:40<42:22, 141.28s/it]"
     ]
    },
    {
     "name": "stdout",
     "output_type": "stream",
     "text": [
      "Start:  32\n",
      "32  -  tr_loss: 0.10407892923529555 val_loss: 0.1490333378314972\n"
     ]
    },
    {
     "name": "stderr",
     "output_type": "stream",
     "text": [
      " 66%|██████▌   | 33/50 [1:19:55<39:33, 139.62s/it]"
     ]
    },
    {
     "name": "stdout",
     "output_type": "stream",
     "text": [
      "Start:  33\n",
      "33  -  tr_loss: 0.09940999146641755 val_loss: 0.1382712498307228\n"
     ]
    },
    {
     "name": "stderr",
     "output_type": "stream",
     "text": [
      " 68%|██████▊   | 34/50 [1:22:23<37:54, 142.13s/it]"
     ]
    },
    {
     "name": "stdout",
     "output_type": "stream",
     "text": [
      "Start:  34\n",
      "34  -  tr_loss: 0.09945426317976742 val_loss: 0.13385694473981857\n"
     ]
    },
    {
     "name": "stderr",
     "output_type": "stream",
     "text": [
      " 70%|███████   | 35/50 [1:24:53<36:07, 144.50s/it]"
     ]
    },
    {
     "name": "stdout",
     "output_type": "stream",
     "text": [
      "Start:  35\n",
      "35  -  tr_loss: 0.09784254958716834 val_loss: 0.1412922441959381\n"
     ]
    },
    {
     "name": "stderr",
     "output_type": "stream",
     "text": [
      " 72%|███████▏  | 36/50 [1:27:15<33:33, 143.80s/it]"
     ]
    },
    {
     "name": "stdout",
     "output_type": "stream",
     "text": [
      "Start:  36\n",
      "36  -  tr_loss: 0.09666014462709427 val_loss: 0.14412381500005722\n"
     ]
    },
    {
     "name": "stderr",
     "output_type": "stream",
     "text": [
      " 74%|███████▍  | 37/50 [1:29:31<30:38, 141.41s/it]"
     ]
    },
    {
     "name": "stdout",
     "output_type": "stream",
     "text": [
      "Start:  37\n",
      "37  -  tr_loss: 0.09370466121813147 val_loss: 0.14100245386362076\n"
     ]
    },
    {
     "name": "stderr",
     "output_type": "stream",
     "text": [
      " 76%|███████▌  | 38/50 [1:31:53<28:17, 141.43s/it]"
     ]
    },
    {
     "name": "stdout",
     "output_type": "stream",
     "text": [
      "Start:  38\n",
      "38  -  tr_loss: 0.09277751678373755 val_loss: 0.13266298919916153\n"
     ]
    },
    {
     "name": "stderr",
     "output_type": "stream",
     "text": [
      " 78%|███████▊  | 39/50 [1:34:15<25:57, 141.56s/it]"
     ]
    },
    {
     "name": "stdout",
     "output_type": "stream",
     "text": [
      "Start:  39\n",
      "39  -  tr_loss: 0.0922134683989897 val_loss: 0.14247935265302658\n"
     ]
    },
    {
     "name": "stderr",
     "output_type": "stream",
     "text": [
      " 80%|████████  | 40/50 [1:36:28<23:12, 139.21s/it]"
     ]
    },
    {
     "name": "stdout",
     "output_type": "stream",
     "text": [
      "Start:  40\n",
      "40  -  tr_loss: 0.090138439725085 val_loss: 0.13684289902448654\n"
     ]
    },
    {
     "name": "stderr",
     "output_type": "stream",
     "text": [
      " 82%|████████▏ | 41/50 [1:38:47<20:51, 139.04s/it]"
     ]
    },
    {
     "name": "stdout",
     "output_type": "stream",
     "text": [
      "Start:  41\n",
      "41  -  tr_loss: 0.08675445489040236 val_loss: 0.14961974322795868\n"
     ]
    },
    {
     "name": "stderr",
     "output_type": "stream",
     "text": [
      " 84%|████████▍ | 42/50 [1:41:09<18:39, 139.89s/it]"
     ]
    },
    {
     "name": "stdout",
     "output_type": "stream",
     "text": [
      "Start:  42\n",
      "42  -  tr_loss: 0.09311962636505686 val_loss: 0.13883060216903687\n"
     ]
    },
    {
     "name": "stderr",
     "output_type": "stream",
     "text": [
      " 86%|████████▌ | 43/50 [1:43:33<16:28, 141.24s/it]"
     ]
    },
    {
     "name": "stdout",
     "output_type": "stream",
     "text": [
      "Start:  43\n",
      "43  -  tr_loss: 0.08749626140768935 val_loss: 0.14492063969373703\n"
     ]
    },
    {
     "name": "stderr",
     "output_type": "stream",
     "text": [
      " 88%|████████▊ | 44/50 [1:46:03<14:23, 143.84s/it]"
     ]
    },
    {
     "name": "stdout",
     "output_type": "stream",
     "text": [
      "Start:  44\n",
      "44  -  tr_loss: 0.08536588745873148 val_loss: 0.14243730157613754\n"
     ]
    },
    {
     "name": "stderr",
     "output_type": "stream",
     "text": [
      " 90%|█████████ | 45/50 [1:48:37<12:13, 146.75s/it]"
     ]
    },
    {
     "name": "stdout",
     "output_type": "stream",
     "text": [
      "Start:  45\n",
      "45  -  tr_loss: 0.08132289858852945 val_loss: 0.13159330934286118\n"
     ]
    },
    {
     "name": "stderr",
     "output_type": "stream",
     "text": [
      " 92%|█████████▏| 46/50 [1:50:58<09:40, 145.17s/it]"
     ]
    },
    {
     "name": "stdout",
     "output_type": "stream",
     "text": [
      "Start:  46\n",
      "46  -  tr_loss: 0.0790290871589649 val_loss: 0.14448846876621246\n"
     ]
    },
    {
     "name": "stderr",
     "output_type": "stream",
     "text": [
      " 94%|█████████▍| 47/50 [1:53:24<07:16, 145.46s/it]"
     ]
    },
    {
     "name": "stdout",
     "output_type": "stream",
     "text": [
      "Start:  47\n",
      "47  -  tr_loss: 0.07903326847931234 val_loss: 0.13683921843767166\n"
     ]
    },
    {
     "name": "stderr",
     "output_type": "stream",
     "text": [
      " 96%|█████████▌| 48/50 [1:55:45<04:48, 144.05s/it]"
     ]
    },
    {
     "name": "stdout",
     "output_type": "stream",
     "text": [
      "Start:  48\n",
      "48  -  tr_loss: 0.07747405812871165 val_loss: 0.14211881905794144\n"
     ]
    },
    {
     "name": "stderr",
     "output_type": "stream",
     "text": [
      " 98%|█████████▊| 49/50 [1:58:34<02:31, 151.59s/it]"
     ]
    },
    {
     "name": "stdout",
     "output_type": "stream",
     "text": [
      "Start:  49\n",
      "49  -  tr_loss: 0.07653737658771073 val_loss: 0.13851062953472137\n"
     ]
    },
    {
     "name": "stderr",
     "output_type": "stream",
     "text": [
      "100%|██████████| 50/50 [2:00:58<00:00, 145.16s/it]\n"
     ]
    }
   ],
   "source": [
    "config = {'lr': 0.0011075820407299578, 'gamma': 0.9596539000640568}\n",
    "\n",
    "res = train_segnet(config, isic18_train_dataset, isic18_val_dataset, 50, return_flag=True, apply_scheduler=True)"
   ]
  },
  {
   "cell_type": "code",
   "execution_count": 12,
   "id": "bf60e8ce-b2d9-426d-ab04-d52be27efb28",
   "metadata": {},
   "outputs": [],
   "source": [
    "val_losses = res['val_losses']\n",
    "tr_losses = res['train_losses']\n",
    "model = res['model']"
   ]
  },
  {
   "cell_type": "code",
   "execution_count": 13,
   "id": "8288c851-9e5b-491d-9867-f970307503cc",
   "metadata": {},
   "outputs": [
    {
     "data": {
      "image/png": "[encoded data removed]",
      "text/plain": [
       "<Figure size 640x480 with 1 Axes>"
      ]
     },
     "metadata": {},
     "output_type": "display_data"
    }
   ],
   "source": [
    "plt.plot(tr_losses)\n",
    "plt.plot(pd.Series(val_losses).rolling(10).mean(), color='g')\n",
    "plt.plot(val_losses, 'k+', alpha=0.3)\n",
    "plt.show()"
   ]
  },
  {
   "cell_type": "markdown",
   "id": "53ee403c-c0a8-40b5-94b9-dba1c1ec32b4",
   "metadata": {},
   "source": [
    "---"
   ]
  },
  {
   "cell_type": "markdown",
   "id": "0d383881-bd65-499e-9bd4-2a2cdfc76f57",
   "metadata": {},
   "source": [
    "#### Evaluation"
   ]
  },
  {
   "cell_type": "code",
   "execution_count": 15,
   "id": "7ce30622-ea40-4b68-b31d-2fa7d4676558",
   "metadata": {},
   "outputs": [],
   "source": [
    "torch.save(model, '../../res/checkpoints/segnet_isic18_full.pt')\n",
    "torch.save(model.state_dict(), '../../res/checkpoints/segnet_isic18.pt')"
   ]
  },
  {
   "cell_type": "code",
   "execution_count": 8,
   "id": "6db281e3-b8b5-4ad3-ada7-bce6954c9386",
   "metadata": {},
   "outputs": [],
   "source": [
    "def load_checkpoint(path: Path, model: torch.nn.Module) -> torch.nn.Module:\n",
    "    \"\"\"\n",
    "    Helper method to load a model from a checkpoint\n",
    "    :param path: path to checkpoint\n",
    "    :param model: model which should use the checkpoint\n",
    "    :return: loaded model\n",
    "    \"\"\"\n",
    "    device: torch.device = torch.device('cuda:0' if torch.cuda.is_available() else 'cpu')\n",
    "\n",
    "    checkpoint = torch.load(path, map_location=device, weights_only=True)\n",
    "    model.load_state_dict(checkpoint)\n",
    "    return model"
   ]
  },
  {
   "cell_type": "code",
   "execution_count": 9,
   "id": "96e918bf-c8ed-4bb1-8b70-21e8be6d472a",
   "metadata": {},
   "outputs": [],
   "source": [
    "test_dataloader = DataLoader(isic18_test_dataset, batch_size=64, shuffle=False)\n",
    "device: torch.device = torch.device('cuda:0' if torch.cuda.is_available() else 'cpu')\n",
    "net = SegNet(3, 1).to(device)\n",
    "\n",
    "net = load_checkpoint(Path('../../res/checkpoints/segnet_isic18.pt'), net)"
   ]
  },
  {
   "cell_type": "code",
   "execution_count": 9,
   "id": "f713e85d-0f58-4b53-95e2-a359f50440d4",
   "metadata": {},
   "outputs": [],
   "source": [
    "def evaluate_model(model: torch.nn.Module, data_loader: DataLoader, device) -> None:\n",
    "    \"\"\"\n",
    "    Evaluate the pixel accuracy for binary segmentation.\n",
    "    :param model: neural network\n",
    "    :param data_loader: torch Dataloader\n",
    "    :param device: device on which to perform the evaluation\n",
    "    :return: None\n",
    "    \"\"\"\n",
    "    total_correct_pixels = 0\n",
    "    total_pixels = 0\n",
    "\n",
    "    model.eval()\n",
    "\n",
    "    with torch.no_grad():\n",
    "        for inputs, targets in tqdm(data_loader):\n",
    "            inputs = inputs.to(device)\n",
    "\n",
    "            outputs = model(inputs)\n",
    "            preds = torch.sigmoid(outputs)\n",
    "            preds = (preds > 0.5).cpu().numpy()\n",
    "\n",
    "            targets = targets.numpy().flatten()\n",
    "            preds = preds.flatten()\n",
    "\n",
    "            correct_pixels = np.sum(preds == targets)\n",
    "            total_pixels += targets.size\n",
    "            total_correct_pixels += correct_pixels\n",
    "\n",
    "    pixel_accuracy = total_correct_pixels / total_pixels\n",
    "    print('Pixel Accuracy: ', pixel_accuracy)"
   ]
  },
  {
   "cell_type": "code",
   "execution_count": 10,
   "id": "de0d02cd-af44-4ef7-b855-4a61a01df548",
   "metadata": {},
   "outputs": [
    {
     "name": "stderr",
     "output_type": "stream",
     "text": [
      "100%|██████████| 16/16 [03:07<00:00, 11.72s/it]"
     ]
    },
    {
     "name": "stdout",
     "output_type": "stream",
     "text": [
      "Pixel Accuracy:  0.9131194610595703\n"
     ]
    },
    {
     "name": "stderr",
     "output_type": "stream",
     "text": [
      "\n"
     ]
    }
   ],
   "source": [
    "evaluate_model(net, test_dataloader, device)"
   ]
  },
  {
   "cell_type": "code",
   "execution_count": 11,
   "id": "cda4cb61-5ce0-492c-9bf8-88ddf6e6bf72",
   "metadata": {},
   "outputs": [],
   "source": [
    "def evaluate_binary_mean_iou(model, dataloader, device) -> float:\n",
    "    \"\"\"\n",
    "    Evaluate the Mean IoU for binary segmentation.\n",
    "    :param model: neural network\n",
    "    :param dataloader: Torch Dataloader\n",
    "    :param device: device on which to perform the evaluation\n",
    "    :return: mean IoU\n",
    "    \"\"\"\n",
    "    mean_iou_metric = MeanIoU(include_background=True, reduction=\"mean\")\n",
    "    activation = Activations(sigmoid=True)\n",
    "    discretize = AsDiscrete(threshold=0.5)\n",
    "\n",
    "    model.eval()\n",
    "    with torch.no_grad():\n",
    "        for inputs, targets in tqdm(dataloader):\n",
    "            inputs, targets = inputs.to(device), targets.to(device)\n",
    "\n",
    "            outputs = model(inputs)\n",
    "            preds = activation(outputs)\n",
    "            preds = discretize(preds)\n",
    "\n",
    "            mean_iou_metric(y_pred=preds, y=targets)\n",
    "\n",
    "    mean_iou = mean_iou_metric.aggregate().item()\n",
    "    print(f\"Mean IoU: {mean_iou}\")\n",
    "    return mean_iou\n"
   ]
  },
  {
   "cell_type": "code",
   "execution_count": 12,
   "id": "8e8334c6-d25b-4c0e-aae9-00e77c787712",
   "metadata": {},
   "outputs": [
    {
     "name": "stderr",
     "output_type": "stream",
     "text": [
      "100%|██████████| 16/16 [02:51<00:00, 10.72s/it]"
     ]
    },
    {
     "name": "stdout",
     "output_type": "stream",
     "text": [
      "Mean IoU: 0.7625640630722046\n"
     ]
    },
    {
     "name": "stderr",
     "output_type": "stream",
     "text": [
      "\n"
     ]
    },
    {
     "data": {
      "text/plain": [
       "0.7625640630722046"
      ]
     },
     "execution_count": 12,
     "metadata": {},
     "output_type": "execute_result"
    }
   ],
   "source": [
    "evaluate_binary_mean_iou(net, test_dataloader, device)"
   ]
  }
 ],
 "metadata": {
  "kernelspec": {
   "display_name": "Python 3 (ipykernel)",
   "language": "python",
   "name": "python3"
  },
  "language_info": {
   "codemirror_mode": {
    "name": "ipython",
    "version": 3
   },
   "file_extension": ".py",
   "mimetype": "text/x-python",
   "name": "python",
   "nbconvert_exporter": "python",
   "pygments_lexer": "ipython3",
   "version": "3.11.0rc1"
  }
 },
 "nbformat": 4,
 "nbformat_minor": 5
}
