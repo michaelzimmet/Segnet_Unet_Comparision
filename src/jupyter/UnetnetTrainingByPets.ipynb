{
 "cells": [
  {
   "cell_type": "markdown",
   "id": "b6bd52cc-d948-4322-ba2a-b739b10e7376",
   "metadata": {},
   "source": [
    "# Studienarbeit ComputerVision 2\n",
    "## Differences and Limitations of Unet and SegNet"
   ]
  },
  {
   "cell_type": "markdown",
   "id": "191df47b-5a2f-4ff0-a252-ab381b5c3bef",
   "metadata": {},
   "source": [
    "---"
   ]
  },
  {
   "cell_type": "code",
   "execution_count": 1,
   "id": "7ab76b26-1ad6-4340-b2c4-4282a398fa79",
   "metadata": {},
   "outputs": [],
   "source": [
    "# relevant imports\n",
    "from torch import nn, optim\n",
    "from torchsummary import summary\n",
    "from torchvision.transforms import transforms\n",
    "from PIL import Image\n",
    "from ray.train import Checkpoint\n",
    "from torch.optim.lr_scheduler import OneCycleLR\n",
    "from tqdm import tqdm\n",
    "from typing import List\n",
    "from matplotlib import pyplot as plt\n",
    "import pandas as pd\n",
    "from ray.air import session\n",
    "from pathlib import Path\n",
    "from torch.utils.data import random_split\n",
    "from torchvision.datasets import OxfordIIITPet\n",
    "import torchvision.transforms.functional as F\n",
    "import torch\n",
    "import torchmetrics as TM\n",
    "from monai.networks.nets import UNet\n",
    "from torch.utils.data import DataLoader\n",
    "import os\n"
   ]
  },
  {
   "cell_type": "markdown",
   "id": "5ec33212-8e8b-49fb-9437-051e5432f500",
   "metadata": {},
   "source": [
    "#### Modelarchitecture\n",
    "![unet_brain_mri.png](https://pytorch.org/assets/images/unet_brain_mri.png)"
   ]
  },
  {
   "cell_type": "code",
   "execution_count": 2,
   "id": "3cc53f0d-2c01-4073-9627-be207eeb048b",
   "metadata": {},
   "outputs": [],
   "source": [
    "class UNet(nn.Module):\n",
    "    def __init__(self, input_size, output_size):\n",
    "        super(UNet, self).__init__()\n",
    "\n",
    "        # Encoder Blocks\n",
    "        self.encoder_block_1 = UNet._conv_block(input_size, 32)\n",
    "        self.max_pool_1 = nn.MaxPool2d(kernel_size=2, stride=2)\n",
    "\n",
    "        self.encoder_block_2 = UNet._conv_block(32, 64)\n",
    "        self.max_pool_2 = nn.MaxPool2d(kernel_size=2, stride=2)\n",
    "\n",
    "        self.encoder_block_3 = UNet._conv_block(64, 128)\n",
    "        self.max_pool_3 = nn.MaxPool2d(kernel_size=2, stride=2)\n",
    "\n",
    "        self.encoder_block_4 = UNet._conv_block(128, 256)\n",
    "        self.max_pool_4 = nn.MaxPool2d(kernel_size=2, stride=2)\n",
    "\n",
    "        # Bottleneck\n",
    "        self.bottle_neck_block = UNet._conv_block(256, 512)\n",
    "\n",
    "        # Decoder Blocks\n",
    "        self.upconv_block_4 = UNet._upconv_block(512, 256)\n",
    "        self.decoder_block_4 = UNet._conv_block(512, 256)\n",
    "\n",
    "        self.upconv_block_3 = UNet._upconv_block(256, 128)\n",
    "        self.decoder_block_3 = UNet._conv_block(256, 128)\n",
    "\n",
    "        self.upconv_block_2 = UNet._upconv_block(128, 64)\n",
    "        self.decoder_block_2 = UNet._conv_block(128, 64)\n",
    "\n",
    "        self.upconv_block_1 = UNet._upconv_block(64, 32)\n",
    "        self.decoder_block_1 = UNet._conv_block(64, 32)\n",
    "\n",
    "        # Output convolution\n",
    "        self.fc = nn.Conv2d(32, output_size, kernel_size=1)\n",
    "\n",
    "    def forward(self, x):\n",
    "        e1 = self.encoder_block_1(x)\n",
    "        e2 = self.encoder_block_2(self.max_pool_1(e1))\n",
    "        e3 = self.encoder_block_3(self.max_pool_2(e2))\n",
    "        e4 = self.encoder_block_4(self.max_pool_3(e3))\n",
    "\n",
    "        b = self.bottle_neck_block(self.max_pool_4(e4))\n",
    "\n",
    "        d4 = self.upconv_block_4(b)\n",
    "        d4 = self.decoder_block_4(torch.cat((d4, e4), dim=1))\n",
    "        d3 = self.upconv_block_3(d4)\n",
    "        d3 = self.decoder_block_3(torch.cat((d3, e3), dim=1))\n",
    "        d2 = self.upconv_block_2(d3)\n",
    "        d2 = self.decoder_block_2(torch.cat((d2, e2), dim=1))\n",
    "        d1 = self.upconv_block_1(d2)\n",
    "        d1 = self.decoder_block_1(torch.cat((d1, e1), dim=1))\n",
    "\n",
    "        return self.fc(d1)\n",
    "\n",
    "    @staticmethod\n",
    "    def _conv_block(input_size, output_size):\n",
    "        return nn.Sequential(\n",
    "            nn.Conv2d(input_size, output_size, kernel_size=3, padding=1, bias=False),\n",
    "            nn.BatchNorm2d(output_size),\n",
    "            nn.ReLU(inplace=True),\n",
    "            nn.Conv2d(output_size, output_size, kernel_size=3, padding=1, bias=False),\n",
    "            nn.BatchNorm2d(output_size),\n",
    "            nn.ReLU(inplace=True))\n",
    "\n",
    "    @staticmethod\n",
    "    def _upconv_block(input_size, output_size):\n",
    "        return nn.ConvTranspose2d(input_size, output_size, kernel_size=2, stride=2)"
   ]
  },
  {
   "cell_type": "code",
   "execution_count": 3,
   "id": "8444eb7e-d2f9-4fa7-8cb7-14e4d7b3f48f",
   "metadata": {},
   "outputs": [
    {
     "name": "stdout",
     "output_type": "stream",
     "text": [
      "----------------------------------------------------------------\n",
      "        Layer (type)               Output Shape         Param #\n",
      "================================================================\n",
      "            Conv2d-1         [-1, 32, 256, 256]             864\n",
      "       BatchNorm2d-2         [-1, 32, 256, 256]              64\n",
      "              ReLU-3         [-1, 32, 256, 256]               0\n",
      "            Conv2d-4         [-1, 32, 256, 256]           9,216\n",
      "       BatchNorm2d-5         [-1, 32, 256, 256]              64\n",
      "              ReLU-6         [-1, 32, 256, 256]               0\n",
      "         MaxPool2d-7         [-1, 32, 128, 128]               0\n",
      "            Conv2d-8         [-1, 64, 128, 128]          18,432\n",
      "       BatchNorm2d-9         [-1, 64, 128, 128]             128\n",
      "             ReLU-10         [-1, 64, 128, 128]               0\n",
      "           Conv2d-11         [-1, 64, 128, 128]          36,864\n",
      "      BatchNorm2d-12         [-1, 64, 128, 128]             128\n",
      "             ReLU-13         [-1, 64, 128, 128]               0\n",
      "        MaxPool2d-14           [-1, 64, 64, 64]               0\n",
      "           Conv2d-15          [-1, 128, 64, 64]          73,728\n",
      "      BatchNorm2d-16          [-1, 128, 64, 64]             256\n",
      "             ReLU-17          [-1, 128, 64, 64]               0\n",
      "           Conv2d-18          [-1, 128, 64, 64]         147,456\n",
      "      BatchNorm2d-19          [-1, 128, 64, 64]             256\n",
      "             ReLU-20          [-1, 128, 64, 64]               0\n",
      "        MaxPool2d-21          [-1, 128, 32, 32]               0\n",
      "           Conv2d-22          [-1, 256, 32, 32]         294,912\n",
      "      BatchNorm2d-23          [-1, 256, 32, 32]             512\n",
      "             ReLU-24          [-1, 256, 32, 32]               0\n",
      "           Conv2d-25          [-1, 256, 32, 32]         589,824\n",
      "      BatchNorm2d-26          [-1, 256, 32, 32]             512\n",
      "             ReLU-27          [-1, 256, 32, 32]               0\n",
      "        MaxPool2d-28          [-1, 256, 16, 16]               0\n",
      "           Conv2d-29          [-1, 512, 16, 16]       1,179,648\n",
      "      BatchNorm2d-30          [-1, 512, 16, 16]           1,024\n",
      "             ReLU-31          [-1, 512, 16, 16]               0\n",
      "           Conv2d-32          [-1, 512, 16, 16]       2,359,296\n",
      "      BatchNorm2d-33          [-1, 512, 16, 16]           1,024\n",
      "             ReLU-34          [-1, 512, 16, 16]               0\n",
      "  ConvTranspose2d-35          [-1, 256, 32, 32]         524,544\n",
      "           Conv2d-36          [-1, 256, 32, 32]       1,179,648\n",
      "      BatchNorm2d-37          [-1, 256, 32, 32]             512\n",
      "             ReLU-38          [-1, 256, 32, 32]               0\n",
      "           Conv2d-39          [-1, 256, 32, 32]         589,824\n",
      "      BatchNorm2d-40          [-1, 256, 32, 32]             512\n",
      "             ReLU-41          [-1, 256, 32, 32]               0\n",
      "  ConvTranspose2d-42          [-1, 128, 64, 64]         131,200\n",
      "           Conv2d-43          [-1, 128, 64, 64]         294,912\n",
      "      BatchNorm2d-44          [-1, 128, 64, 64]             256\n",
      "             ReLU-45          [-1, 128, 64, 64]               0\n",
      "           Conv2d-46          [-1, 128, 64, 64]         147,456\n",
      "      BatchNorm2d-47          [-1, 128, 64, 64]             256\n",
      "             ReLU-48          [-1, 128, 64, 64]               0\n",
      "  ConvTranspose2d-49         [-1, 64, 128, 128]          32,832\n",
      "           Conv2d-50         [-1, 64, 128, 128]          73,728\n",
      "      BatchNorm2d-51         [-1, 64, 128, 128]             128\n",
      "             ReLU-52         [-1, 64, 128, 128]               0\n",
      "           Conv2d-53         [-1, 64, 128, 128]          36,864\n",
      "      BatchNorm2d-54         [-1, 64, 128, 128]             128\n",
      "             ReLU-55         [-1, 64, 128, 128]               0\n",
      "  ConvTranspose2d-56         [-1, 32, 256, 256]           8,224\n",
      "           Conv2d-57         [-1, 32, 256, 256]          18,432\n",
      "      BatchNorm2d-58         [-1, 32, 256, 256]              64\n",
      "             ReLU-59         [-1, 32, 256, 256]               0\n",
      "           Conv2d-60         [-1, 32, 256, 256]           9,216\n",
      "      BatchNorm2d-61         [-1, 32, 256, 256]              64\n",
      "             ReLU-62         [-1, 32, 256, 256]               0\n",
      "           Conv2d-63          [-1, 1, 256, 256]              33\n",
      "================================================================\n",
      "Total params: 7,763,041\n",
      "Trainable params: 7,763,041\n",
      "Non-trainable params: 0\n",
      "----------------------------------------------------------------\n",
      "Input size (MB): 0.75\n",
      "Forward/backward pass size (MB): 404.00\n",
      "Params size (MB): 29.61\n",
      "Estimated Total Size (MB): 434.36\n",
      "----------------------------------------------------------------\n"
     ]
    }
   ],
   "source": [
    "unet = UNet(3, 1)\n",
    "unet.cuda()\n",
    "summary(unet, (3, 256, 256))"
   ]
  },
  {
   "cell_type": "markdown",
   "id": "05b15f52-370d-49b7-9a67-cc5bee169d28",
   "metadata": {},
   "source": [
    "---"
   ]
  },
  {
   "cell_type": "markdown",
   "id": "aa78f9fd-82ed-4643-b4f8-bff1806878e7",
   "metadata": {},
   "source": [
    "#### Datapreparation"
   ]
  },
  {
   "cell_type": "code",
   "execution_count": 5,
   "id": "125ee591-1274-47e2-a764-06a241474253",
   "metadata": {},
   "outputs": [],
   "source": [
    "transform_image = transforms.Compose([\n",
    "    transforms.Resize((256, 256), interpolation=Image.BILINEAR),\n",
    "    transforms.ToTensor(),\n",
    "    transforms.Normalize([.5, .5, .5], [.5, .5, .5]),\n",
    "])\n",
    "\n",
    "transform_mask = transforms.Compose([\n",
    "    transforms.Resize((256, 256), interpolation=Image.NEAREST),\n",
    "    transforms.PILToTensor(),\n",
    "    transforms.Lambda(lambda mask: mask - 1),\n",
    "])\n",
    "\n",
    "class SynchronizedOxfordIIITPet(OxfordIIITPet):\n",
    "    def __init__(self, **kwargs):\n",
    "        super().__init__(**kwargs)\n",
    "        \n",
    "    def __getitem__(self, index):\n",
    "        image, mask = super().__getitem__(index)\n",
    "\n",
    "        if torch.rand(1) < .5:\n",
    "            i, j, h, w = transforms.RandomResizedCrop.get_params(image, (.8, 1.0), (3.0 / 4.0, 4.0 / 3.0))\n",
    "            image, mask = F.resized_crop(image, i, j, h, w, (256, 256)), F.resized_crop(mask, i, j, h, w, (256, 256), Image.NEAREST)\n",
    "        if torch.rand(1) < .5:\n",
    "            image, mask = F.hflip(image), F.hflip(mask)\n",
    "        if torch.rand(1) < .5:\n",
    "            image, mask = F.vflip(image), F.vflip(mask)\n",
    "\n",
    "        return image, mask"
   ]
  },
  {
   "cell_type": "code",
   "execution_count": 6,
   "id": "ca235cf0-fdbf-4265-a821-fb7c58e3f6e8",
   "metadata": {},
   "outputs": [],
   "source": [
    "dataset = SynchronizedOxfordIIITPet(\n",
    "    root=\"~/res\",\n",
    "    split=\"trainval\",\n",
    "    target_types=[\"segmentation\"],\n",
    "    download=True,\n",
    "    transform=transform_image,\n",
    "    target_transform=transform_mask\n",
    ")\n",
    "\n",
    "train_size = int(0.8 * len(dataset))\n",
    "val_size = len(dataset) - train_size\n",
    "\n",
    "torch.manual_seed(42)\n",
    "train_dataset, val_dataset = random_split(dataset, [train_size, val_size])\n",
    "\n",
    "test_dataset = OxfordIIITPet(\n",
    "    root=\"~/res\",\n",
    "    split=\"test\",\n",
    "    target_types=[\"segmentation\"],\n",
    "    download=True,\n",
    "    transform=transform_image,\n",
    "    target_transform=transform_mask\n",
    ")"
   ]
  },
  {
   "cell_type": "code",
   "execution_count": 8,
   "id": "34731bb0-54ed-44c7-9fa6-babe3bd69502",
   "metadata": {},
   "outputs": [
    {
     "name": "stderr",
     "output_type": "stream",
     "text": [
      "Clipping input data to the valid range for imshow with RGB data ([0..1] for floats or [0..255] for integers). Got range [-0.8595948..1.0].\n"
     ]
    },
    {
     "data": {
      "image/png": "[encoded data removed]",
      "text/plain": [
       "<Figure size 640x480 with 1 Axes>"
      ]
     },
     "metadata": {},
     "output_type": "display_data"
    },
    {
     "data": {
      "text/plain": [
       "<matplotlib.image.AxesImage at 0x7f6c13684e10>"
      ]
     },
     "execution_count": 8,
     "metadata": {},
     "output_type": "execute_result"
    },
    {
     "data": {
      "image/png": "[encoded data removed]",
      "text/plain": [
       "<Figure size 640x480 with 1 Axes>"
      ]
     },
     "metadata": {},
     "output_type": "display_data"
    }
   ],
   "source": [
    "i, m = train_dataset[1]\n",
    "plt.imshow(i.permute(1,2,0))\n",
    "plt.show()\n",
    "plt.imshow(m[0])"
   ]
  },
  {
   "cell_type": "code",
   "execution_count": 52,
   "id": "5d6f5cd2-5fdc-4d2b-9440-e64ababe5f2e",
   "metadata": {},
   "outputs": [
    {
     "data": {
      "text/plain": [
       "['Abyssinian',\n",
       " 'American Bulldog',\n",
       " 'American Pit Bull Terrier',\n",
       " 'Basset Hound',\n",
       " 'Beagle',\n",
       " 'Bengal',\n",
       " 'Birman',\n",
       " 'Bombay',\n",
       " 'Boxer',\n",
       " 'British Shorthair',\n",
       " 'Chihuahua',\n",
       " 'Egyptian Mau',\n",
       " 'English Cocker Spaniel',\n",
       " 'English Setter',\n",
       " 'German Shorthaired',\n",
       " 'Great Pyrenees',\n",
       " 'Havanese',\n",
       " 'Japanese Chin',\n",
       " 'Keeshond',\n",
       " 'Leonberger',\n",
       " 'Maine Coon',\n",
       " 'Miniature Pinscher',\n",
       " 'Newfoundland',\n",
       " 'Persian',\n",
       " 'Pomeranian',\n",
       " 'Pug',\n",
       " 'Ragdoll',\n",
       " 'Russian Blue',\n",
       " 'Saint Bernard',\n",
       " 'Samoyed',\n",
       " 'Scottish Terrier',\n",
       " 'Shiba Inu',\n",
       " 'Siamese',\n",
       " 'Sphynx',\n",
       " 'Staffordshire Bull Terrier',\n",
       " 'Wheaten Terrier',\n",
       " 'Yorkshire Terrier']"
      ]
     },
     "execution_count": 52,
     "metadata": {},
     "output_type": "execute_result"
    }
   ],
   "source": [
    "dataset.classes"
   ]
  },
  {
   "cell_type": "markdown",
   "id": "4eabf307-9f11-4041-99c0-a433f2b16cac",
   "metadata": {},
   "source": [
    "---"
   ]
  },
  {
   "cell_type": "markdown",
   "id": "66e43d57-1110-43c9-bfeb-97714207c59e",
   "metadata": {},
   "source": [
    "#### Training"
   ]
  },
  {
   "cell_type": "code",
   "execution_count": 10,
   "id": "667017bc-d091-4eb2-b1f3-b7537eb77382",
   "metadata": {},
   "outputs": [],
   "source": [
    "def validation_loop(model: nn.Module, validation_dataloader: DataLoader, loss_fn, device) -> float:\n",
    "    \"\"\"\n",
    "    Validation loop for the CNN\n",
    "    :param model: neural network\n",
    "    :param validation_dataloader: dataloader for the validation set\n",
    "    :param loss_fn: loss function\n",
    "    :param device: device on which to perform the validation\n",
    "    :return: validation loss\n",
    "    \"\"\"\n",
    "    running_val_loss: float = 0.\n",
    "    model.eval()\n",
    "    with torch.no_grad():\n",
    "        for i, vdata in enumerate(validation_dataloader):\n",
    "            inputs, targets = vdata\n",
    "            inputs, targets = inputs.to(device), targets.squeeze(1).long().to(device)\n",
    "\n",
    "            vloss = loss_fn(model(inputs), targets)\n",
    "            running_val_loss += vloss.item()\n",
    "        running_val_loss /= (i + 1)\n",
    "\n",
    "    return running_val_loss"
   ]
  },
  {
   "cell_type": "code",
   "execution_count": 11,
   "id": "ea8e017f-6315-4e31-bf0f-9000bf612b30",
   "metadata": {},
   "outputs": [],
   "source": [
    "def train_loop(model: nn.Module, train_dataloader: DataLoader, loss_fn, optimizer, device) -> float:\n",
    "    \"\"\"\n",
    "    Main minibatch train loop for the CNN\n",
    "    :param model: neural network\n",
    "    :param train_dataloader: dataloader for the train set\n",
    "    :param loss_fn: loss function\n",
    "    :param optimizer: optimizer\n",
    "    :param device: device on which to perform the training\n",
    "    :return: train loss\n",
    "    \"\"\"\n",
    "    running_tr_loss: float = 0.\n",
    "    for i, data in enumerate(train_dataloader):\n",
    "        inputs, targets = data\n",
    "        inputs, targets = inputs.to(device), targets.squeeze(1).long().to(device)\n",
    "\n",
    "        yhats = model(inputs)\n",
    "        optimizer.zero_grad()\n",
    "        tloss = loss_fn(yhats, targets)\n",
    "\n",
    "        tloss.backward()\n",
    "        optimizer.step()\n",
    "\n",
    "        running_tr_loss += tloss.item()\n",
    "    running_tr_loss /= (i + 1)\n",
    "\n",
    "    return running_tr_loss"
   ]
  },
  {
   "cell_type": "code",
   "execution_count": 12,
   "id": "628a98f2-f4ab-49da-8faa-dd3d6d1086c1",
   "metadata": {},
   "outputs": [],
   "source": [
    "def train_unet(\n",
    "        config: dict,\n",
    "        train_dataset,\n",
    "        validation_dataset,\n",
    "        epochs: int,\n",
    "        apply_scheduler: bool = True,\n",
    "        return_flag: bool = False) -> dict | None:\n",
    "    \"\"\"\n",
    "    Prepared train loop for ray parameter tuning.\n",
    "    Training components:\n",
    "        - model: CNN\n",
    "        - loss function: CrossEntropyLoss\n",
    "        - optimizer: Adam\n",
    "        - scheduler: ExponentialLR (optional)\n",
    "\n",
    "    :param config: dict of hyperparameters\n",
    "    :param train_dataset:\n",
    "    :param validation_dataset:\n",
    "    :param epochs: number of epochs to train\n",
    "    :param apply_scheduler: weather scheduler should be used or not\n",
    "    :param return_flag: weather to return the model and losses or not\n",
    "    :return: training results\n",
    "    \"\"\"\n",
    "\n",
    "    device: torch.device = torch.device('cuda:5' if torch.cuda.is_available() else 'cpu')\n",
    "    print(device)\n",
    "    model: nn.Module = UNet(3, 3).to(device)\n",
    "\n",
    "    loss_fn = nn.CrossEntropyLoss()\n",
    "\n",
    "    optim_params: dict = {\n",
    "        'lr': config[\"lr\"],\n",
    "    }\n",
    "    optimizer: optim.Adam = optim.Adam(model.parameters(), **optim_params)\n",
    "\n",
    "        \n",
    "    train_dataloader: DataLoader = DataLoader(train_dataset, batch_size=64, shuffle=True, num_workers=4)\n",
    "    validation_dataloader: DataLoader = DataLoader(validation_dataset, batch_size=64, shuffle=False, num_workers=4)\n",
    "    \n",
    "    scheduler = OneCycleLR(optimizer, max_lr=0.1, steps_per_epoch=len(train_dataloader), epochs=epochs, pct_start=0.3)\n",
    "\n",
    "    train_losses: List[float] = []\n",
    "    val_losses: List[float] = []\n",
    "\n",
    "    print('Start training...')\n",
    "    for epoch in tqdm(range(epochs)):\n",
    "        print('Start: ', epoch)\n",
    "        model.train()\n",
    "\n",
    "        # Train loop to iterate over the dataloader batches\n",
    "        running_tr_loss: float = train_loop(model, train_dataloader, loss_fn, optimizer, device)\n",
    "        if apply_scheduler:\n",
    "            scheduler.step()\n",
    "\n",
    "        # Validation loop\n",
    "        running_val_loss: float = validation_loop(model, validation_dataloader, loss_fn, device)\n",
    "\n",
    "        print(epoch, \" - \", 'tr_loss:', running_tr_loss, 'val_loss:', running_val_loss)\n",
    "        train_losses.append(running_tr_loss)\n",
    "        val_losses.append(running_val_loss)\n",
    "\n",
    "        # Save a checkpoint from the model\n",
    "        os.makedirs(\"res/model\", exist_ok=True)\n",
    "        torch.save(\n",
    "            (model.state_dict(), optimizer.state_dict()), \"res/model/checkpoint.pt\")\n",
    "        checkpoint: Checkpoint = Checkpoint.from_directory(\"res/model\")\n",
    "        session.report({\"val_loss\": running_val_loss,\n",
    "                        \"train_loss\": running_tr_loss}, checkpoint=checkpoint)\n",
    "\n",
    "    if return_flag:\n",
    "        return {\"train_losses\": train_losses,\n",
    "                \"val_losses\": val_losses,\n",
    "                \"model\": model}"
   ]
  },
  {
   "cell_type": "markdown",
   "id": "243e5f7f-1aaf-410b-92a6-b9c4a109154f",
   "metadata": {},
   "source": [
    "---"
   ]
  },
  {
   "cell_type": "markdown",
   "id": "3bf4ed1b-eb81-44b8-a03c-f72477b9cd37",
   "metadata": {},
   "source": [
    "#### Training with parameter"
   ]
  },
  {
   "cell_type": "code",
   "execution_count": 14,
   "id": "3492bacb-749a-44b1-be87-f434939cd06a",
   "metadata": {
    "scrolled": true
   },
   "outputs": [
    {
     "name": "stdout",
     "output_type": "stream",
     "text": [
      "cuda:5\n",
      "Start training...\n"
     ]
    },
    {
     "name": "stderr",
     "output_type": "stream",
     "text": [
      "  0%|          | 0/100 [00:00<?, ?it/s]"
     ]
    },
    {
     "name": "stdout",
     "output_type": "stream",
     "text": [
      "Start:  0\n",
      "0  -  tr_loss: 0.8441806383754896 val_loss: 1.0446461935838063\n"
     ]
    },
    {
     "name": "stderr",
     "output_type": "stream",
     "text": [
      "/home/jovyan/.local/lib/python3.11/site-packages/ray/train/_internal/session.py:652: UserWarning: `report` is meant to only be called inside a function that is executed by a Tuner or Trainer. Returning `None`.\n",
      "  warnings.warn(\n",
      "  1%|          | 1/100 [00:17<28:11, 17.09s/it]"
     ]
    },
    {
     "name": "stdout",
     "output_type": "stream",
     "text": [
      "Start:  1\n",
      "1  -  tr_loss: 0.6960952346739562 val_loss: 0.7235976755619049\n"
     ]
    },
    {
     "name": "stderr",
     "output_type": "stream",
     "text": [
      "  2%|▏         | 2/100 [00:33<27:30, 16.84s/it]"
     ]
    },
    {
     "name": "stdout",
     "output_type": "stream",
     "text": [
      "Start:  2\n",
      "2  -  tr_loss: 0.6576841136683589 val_loss: 0.6808247019847234\n"
     ]
    },
    {
     "name": "stderr",
     "output_type": "stream",
     "text": [
      "  3%|▎         | 3/100 [00:49<26:42, 16.52s/it]"
     ]
    },
    {
     "name": "stdout",
     "output_type": "stream",
     "text": [
      "Start:  3\n",
      "3  -  tr_loss: 0.6176951696043429 val_loss: 0.6154109140237173\n"
     ]
    },
    {
     "name": "stderr",
     "output_type": "stream",
     "text": [
      "  4%|▍         | 4/100 [01:06<26:21, 16.48s/it]"
     ]
    },
    {
     "name": "stdout",
     "output_type": "stream",
     "text": [
      "Start:  4\n",
      "4  -  tr_loss: 0.6037866512070531 val_loss: 0.6877199361721674\n"
     ]
    },
    {
     "name": "stderr",
     "output_type": "stream",
     "text": [
      "  5%|▌         | 5/100 [01:22<26:04, 16.47s/it]"
     ]
    },
    {
     "name": "stdout",
     "output_type": "stream",
     "text": [
      "Start:  5\n",
      "5  -  tr_loss: 0.5914160997971244 val_loss: 0.5893415162960688\n"
     ]
    },
    {
     "name": "stderr",
     "output_type": "stream",
     "text": [
      "  6%|▌         | 6/100 [01:39<25:52, 16.52s/it]"
     ]
    },
    {
     "name": "stdout",
     "output_type": "stream",
     "text": [
      "Start:  6\n",
      "6  -  tr_loss: 0.5808878774228303 val_loss: 0.574328343073527\n"
     ]
    },
    {
     "name": "stderr",
     "output_type": "stream",
     "text": [
      "  7%|▋         | 7/100 [01:55<25:35, 16.51s/it]"
     ]
    },
    {
     "name": "stdout",
     "output_type": "stream",
     "text": [
      "Start:  7\n",
      "7  -  tr_loss: 0.563363346716632 val_loss: 0.5746681094169617\n"
     ]
    },
    {
     "name": "stderr",
     "output_type": "stream",
     "text": [
      "  8%|▊         | 8/100 [02:12<25:24, 16.57s/it]"
     ]
    },
    {
     "name": "stdout",
     "output_type": "stream",
     "text": [
      "Start:  8\n",
      "8  -  tr_loss: 0.558280973330788 val_loss: 0.5486616392930349\n"
     ]
    },
    {
     "name": "stderr",
     "output_type": "stream",
     "text": [
      "  9%|▉         | 9/100 [02:29<25:17, 16.68s/it]"
     ]
    },
    {
     "name": "stdout",
     "output_type": "stream",
     "text": [
      "Start:  9\n",
      "9  -  tr_loss: 0.5403478404749995 val_loss: 0.5636532952388128\n"
     ]
    },
    {
     "name": "stderr",
     "output_type": "stream",
     "text": [
      " 10%|█         | 10/100 [02:45<24:43, 16.48s/it]"
     ]
    },
    {
     "name": "stdout",
     "output_type": "stream",
     "text": [
      "Start:  10\n",
      "10  -  tr_loss: 0.5138157489507095 val_loss: 0.5024595657984415\n"
     ]
    },
    {
     "name": "stderr",
     "output_type": "stream",
     "text": [
      " 11%|█         | 11/100 [03:01<24:15, 16.35s/it]"
     ]
    },
    {
     "name": "stdout",
     "output_type": "stream",
     "text": [
      "Start:  11\n",
      "11  -  tr_loss: 0.504581146914026 val_loss: 0.5489525745312372\n"
     ]
    },
    {
     "name": "stderr",
     "output_type": "stream",
     "text": [
      " 12%|█▏        | 12/100 [03:17<23:54, 16.30s/it]"
     ]
    },
    {
     "name": "stdout",
     "output_type": "stream",
     "text": [
      "Start:  12\n",
      "12  -  tr_loss: 0.5035998335351115 val_loss: 0.48648853600025177\n"
     ]
    },
    {
     "name": "stderr",
     "output_type": "stream",
     "text": [
      " 13%|█▎        | 13/100 [03:34<23:53, 16.47s/it]"
     ]
    },
    {
     "name": "stdout",
     "output_type": "stream",
     "text": [
      "Start:  13\n",
      "13  -  tr_loss: 0.4895971514608549 val_loss: 0.47190608580907184\n"
     ]
    },
    {
     "name": "stderr",
     "output_type": "stream",
     "text": [
      " 14%|█▍        | 14/100 [03:50<23:18, 16.26s/it]"
     ]
    },
    {
     "name": "stdout",
     "output_type": "stream",
     "text": [
      "Start:  14\n",
      "14  -  tr_loss: 0.46829798234545666 val_loss: 0.4776075482368469\n"
     ]
    },
    {
     "name": "stderr",
     "output_type": "stream",
     "text": [
      " 15%|█▌        | 15/100 [04:06<23:04, 16.29s/it]"
     ]
    },
    {
     "name": "stdout",
     "output_type": "stream",
     "text": [
      "Start:  15\n",
      "15  -  tr_loss: 0.46544547379016876 val_loss: 0.49103734145561856\n"
     ]
    },
    {
     "name": "stderr",
     "output_type": "stream",
     "text": [
      " 16%|█▌        | 16/100 [04:22<22:45, 16.25s/it]"
     ]
    },
    {
     "name": "stdout",
     "output_type": "stream",
     "text": [
      "Start:  16\n",
      "16  -  tr_loss: 0.4585960636968198 val_loss: 0.4709976017475128\n"
     ]
    },
    {
     "name": "stderr",
     "output_type": "stream",
     "text": [
      " 17%|█▋        | 17/100 [04:39<22:29, 16.25s/it]"
     ]
    },
    {
     "name": "stdout",
     "output_type": "stream",
     "text": [
      "Start:  17\n",
      "17  -  tr_loss: 0.4269418917272402 val_loss: 0.41771772255500156\n"
     ]
    },
    {
     "name": "stderr",
     "output_type": "stream",
     "text": [
      " 18%|█▊        | 18/100 [04:55<22:23, 16.38s/it]"
     ]
    },
    {
     "name": "stdout",
     "output_type": "stream",
     "text": [
      "Start:  18\n",
      "18  -  tr_loss: 0.40737324758716253 val_loss: 0.4107912952701251\n"
     ]
    },
    {
     "name": "stderr",
     "output_type": "stream",
     "text": [
      " 19%|█▉        | 19/100 [05:12<22:08, 16.40s/it]"
     ]
    },
    {
     "name": "stdout",
     "output_type": "stream",
     "text": [
      "Start:  19\n",
      "19  -  tr_loss: 0.3954573014508123 val_loss: 0.38755836834510166\n"
     ]
    },
    {
     "name": "stderr",
     "output_type": "stream",
     "text": [
      " 20%|██        | 20/100 [05:28<21:48, 16.36s/it]"
     ]
    },
    {
     "name": "stdout",
     "output_type": "stream",
     "text": [
      "Start:  20\n",
      "20  -  tr_loss: 0.3841873672993287 val_loss: 0.3956934834520022\n"
     ]
    },
    {
     "name": "stderr",
     "output_type": "stream",
     "text": [
      " 21%|██        | 21/100 [05:45<21:37, 16.42s/it]"
     ]
    },
    {
     "name": "stdout",
     "output_type": "stream",
     "text": [
      "Start:  21\n",
      "21  -  tr_loss: 0.38045538573161414 val_loss: 0.37528925637404126\n"
     ]
    },
    {
     "name": "stderr",
     "output_type": "stream",
     "text": [
      " 22%|██▏       | 22/100 [06:01<21:15, 16.35s/it]"
     ]
    },
    {
     "name": "stdout",
     "output_type": "stream",
     "text": [
      "Start:  22\n",
      "22  -  tr_loss: 0.3646423732456954 val_loss: 0.3873092706004779\n"
     ]
    },
    {
     "name": "stderr",
     "output_type": "stream",
     "text": [
      " 23%|██▎       | 23/100 [06:17<20:46, 16.19s/it]"
     ]
    },
    {
     "name": "stdout",
     "output_type": "stream",
     "text": [
      "Start:  23\n",
      "23  -  tr_loss: 0.3741331398487091 val_loss: 0.38873062034447986\n"
     ]
    },
    {
     "name": "stderr",
     "output_type": "stream",
     "text": [
      " 24%|██▍       | 24/100 [06:33<20:43, 16.36s/it]"
     ]
    },
    {
     "name": "stdout",
     "output_type": "stream",
     "text": [
      "Start:  24\n",
      "24  -  tr_loss: 0.36642597486143524 val_loss: 0.3622247849901517\n"
     ]
    },
    {
     "name": "stderr",
     "output_type": "stream",
     "text": [
      " 25%|██▌       | 25/100 [06:50<20:24, 16.32s/it]"
     ]
    },
    {
     "name": "stdout",
     "output_type": "stream",
     "text": [
      "Start:  25\n",
      "25  -  tr_loss: 0.3465492958607881 val_loss: 0.3458929980794589\n"
     ]
    },
    {
     "name": "stderr",
     "output_type": "stream",
     "text": [
      " 26%|██▌       | 26/100 [07:06<20:03, 16.26s/it]"
     ]
    },
    {
     "name": "stdout",
     "output_type": "stream",
     "text": [
      "Start:  26\n",
      "26  -  tr_loss: 0.34174102544784546 val_loss: 0.4025123516718547\n"
     ]
    },
    {
     "name": "stderr",
     "output_type": "stream",
     "text": [
      " 27%|██▋       | 27/100 [07:22<19:54, 16.36s/it]"
     ]
    },
    {
     "name": "stdout",
     "output_type": "stream",
     "text": [
      "Start:  27\n",
      "27  -  tr_loss: 0.34327107408772345 val_loss: 0.3456125532587369\n"
     ]
    },
    {
     "name": "stderr",
     "output_type": "stream",
     "text": [
      " 28%|██▊       | 28/100 [07:38<19:32, 16.29s/it]"
     ]
    },
    {
     "name": "stdout",
     "output_type": "stream",
     "text": [
      "Start:  28\n",
      "28  -  tr_loss: 0.3350651225318079 val_loss: 0.33705034852027893\n"
     ]
    },
    {
     "name": "stderr",
     "output_type": "stream",
     "text": [
      " 29%|██▉       | 29/100 [07:55<19:12, 16.23s/it]"
     ]
    },
    {
     "name": "stdout",
     "output_type": "stream",
     "text": [
      "Start:  29\n",
      "29  -  tr_loss: 0.32369169204131415 val_loss: 0.33557357142368954\n"
     ]
    },
    {
     "name": "stderr",
     "output_type": "stream",
     "text": [
      " 30%|███       | 30/100 [08:11<19:04, 16.35s/it]"
     ]
    },
    {
     "name": "stdout",
     "output_type": "stream",
     "text": [
      "Start:  30\n",
      "30  -  tr_loss: 0.3319009950627451 val_loss: 0.35906488200028736\n"
     ]
    },
    {
     "name": "stderr",
     "output_type": "stream",
     "text": [
      " 31%|███       | 31/100 [08:28<18:57, 16.48s/it]"
     ]
    },
    {
     "name": "stdout",
     "output_type": "stream",
     "text": [
      "Start:  31\n",
      "31  -  tr_loss: 0.33055387502131256 val_loss: 0.33419397721687955\n"
     ]
    },
    {
     "name": "stderr",
     "output_type": "stream",
     "text": [
      " 32%|███▏      | 32/100 [08:47<19:28, 17.18s/it]"
     ]
    },
    {
     "name": "stdout",
     "output_type": "stream",
     "text": [
      "Start:  32\n",
      "32  -  tr_loss: 0.32052174923212634 val_loss: 0.325528251628081\n"
     ]
    },
    {
     "name": "stderr",
     "output_type": "stream",
     "text": [
      " 33%|███▎      | 33/100 [09:03<19:01, 17.04s/it]"
     ]
    },
    {
     "name": "stdout",
     "output_type": "stream",
     "text": [
      "Start:  33\n",
      "33  -  tr_loss: 0.32181958400684857 val_loss: 0.34263598918914795\n"
     ]
    },
    {
     "name": "stderr",
     "output_type": "stream",
     "text": [
      " 34%|███▍      | 34/100 [09:20<18:38, 16.94s/it]"
     ]
    },
    {
     "name": "stdout",
     "output_type": "stream",
     "text": [
      "Start:  34\n",
      "34  -  tr_loss: 0.3160840305297271 val_loss: 0.3386206477880478\n"
     ]
    },
    {
     "name": "stderr",
     "output_type": "stream",
     "text": [
      " 35%|███▌      | 35/100 [09:37<18:10, 16.78s/it]"
     ]
    },
    {
     "name": "stdout",
     "output_type": "stream",
     "text": [
      "Start:  35\n",
      "35  -  tr_loss: 0.31059513014295825 val_loss: 0.316503348449866\n"
     ]
    },
    {
     "name": "stderr",
     "output_type": "stream",
     "text": [
      " 36%|███▌      | 36/100 [09:54<17:56, 16.82s/it]"
     ]
    },
    {
     "name": "stdout",
     "output_type": "stream",
     "text": [
      "Start:  36\n",
      "36  -  tr_loss: 0.3062660052724507 val_loss: 0.31955674787362415\n"
     ]
    },
    {
     "name": "stderr",
     "output_type": "stream",
     "text": [
      " 37%|███▋      | 37/100 [10:11<17:46, 16.93s/it]"
     ]
    },
    {
     "name": "stdout",
     "output_type": "stream",
     "text": [
      "Start:  37\n",
      "37  -  tr_loss: 0.3037011804788009 val_loss: 0.3297690177957217\n"
     ]
    },
    {
     "name": "stderr",
     "output_type": "stream",
     "text": [
      " 38%|███▊      | 38/100 [10:28<17:36, 17.03s/it]"
     ]
    },
    {
     "name": "stdout",
     "output_type": "stream",
     "text": [
      "Start:  38\n",
      "38  -  tr_loss: 0.29980455533317896 val_loss: 0.3130267883340518\n"
     ]
    },
    {
     "name": "stderr",
     "output_type": "stream",
     "text": [
      " 39%|███▉      | 39/100 [10:45<17:16, 16.98s/it]"
     ]
    },
    {
     "name": "stdout",
     "output_type": "stream",
     "text": [
      "Start:  39\n",
      "39  -  tr_loss: 0.2985091922075852 val_loss: 0.32552623997131985\n"
     ]
    },
    {
     "name": "stderr",
     "output_type": "stream",
     "text": [
      " 40%|████      | 40/100 [11:02<16:54, 16.91s/it]"
     ]
    },
    {
     "name": "stdout",
     "output_type": "stream",
     "text": [
      "Start:  40\n",
      "40  -  tr_loss: 0.29546983540058136 val_loss: 0.3307886893550555\n"
     ]
    },
    {
     "name": "stderr",
     "output_type": "stream",
     "text": [
      " 41%|████      | 41/100 [11:18<16:34, 16.85s/it]"
     ]
    },
    {
     "name": "stdout",
     "output_type": "stream",
     "text": [
      "Start:  41\n",
      "41  -  tr_loss: 0.2973363104721774 val_loss: 0.30313990265130997\n"
     ]
    },
    {
     "name": "stderr",
     "output_type": "stream",
     "text": [
      " 42%|████▏     | 42/100 [11:34<16:05, 16.64s/it]"
     ]
    },
    {
     "name": "stdout",
     "output_type": "stream",
     "text": [
      "Start:  42\n",
      "42  -  tr_loss: 0.2858542751358903 val_loss: 0.3083699072400729\n"
     ]
    },
    {
     "name": "stderr",
     "output_type": "stream",
     "text": [
      " 43%|████▎     | 43/100 [11:51<15:42, 16.54s/it]"
     ]
    },
    {
     "name": "stdout",
     "output_type": "stream",
     "text": [
      "Start:  43\n",
      "43  -  tr_loss: 0.28976844996213913 val_loss: 0.341571606695652\n"
     ]
    },
    {
     "name": "stderr",
     "output_type": "stream",
     "text": [
      " 44%|████▍     | 44/100 [12:08<15:33, 16.67s/it]"
     ]
    },
    {
     "name": "stdout",
     "output_type": "stream",
     "text": [
      "Start:  44\n",
      "44  -  tr_loss: 0.28798237928877707 val_loss: 0.31376367807388306\n"
     ]
    },
    {
     "name": "stderr",
     "output_type": "stream",
     "text": [
      " 45%|████▌     | 45/100 [12:24<15:13, 16.61s/it]"
     ]
    },
    {
     "name": "stdout",
     "output_type": "stream",
     "text": [
      "Start:  45\n",
      "45  -  tr_loss: 0.28780413969703345 val_loss: 0.2965987945596377\n"
     ]
    },
    {
     "name": "stderr",
     "output_type": "stream",
     "text": [
      " 46%|████▌     | 46/100 [12:41<14:58, 16.64s/it]"
     ]
    },
    {
     "name": "stdout",
     "output_type": "stream",
     "text": [
      "Start:  46\n",
      "46  -  tr_loss: 0.27470347447239835 val_loss: 0.29540104418992996\n"
     ]
    },
    {
     "name": "stderr",
     "output_type": "stream",
     "text": [
      " 47%|████▋     | 47/100 [12:57<14:38, 16.57s/it]"
     ]
    },
    {
     "name": "stdout",
     "output_type": "stream",
     "text": [
      "Start:  47\n",
      "47  -  tr_loss: 0.2730302211383115 val_loss: 0.29676703612009686\n"
     ]
    },
    {
     "name": "stderr",
     "output_type": "stream",
     "text": [
      " 48%|████▊     | 48/100 [13:14<14:20, 16.55s/it]"
     ]
    },
    {
     "name": "stdout",
     "output_type": "stream",
     "text": [
      "Start:  48\n",
      "48  -  tr_loss: 0.2661237904559011 val_loss: 0.2865915236373742\n"
     ]
    },
    {
     "name": "stderr",
     "output_type": "stream",
     "text": [
      " 49%|████▉     | 49/100 [13:30<14:04, 16.56s/it]"
     ]
    },
    {
     "name": "stdout",
     "output_type": "stream",
     "text": [
      "Start:  49\n",
      "49  -  tr_loss: 0.26570819804201956 val_loss: 0.29417992879947025\n"
     ]
    },
    {
     "name": "stderr",
     "output_type": "stream",
     "text": [
      " 50%|█████     | 50/100 [13:47<13:48, 16.57s/it]"
     ]
    },
    {
     "name": "stdout",
     "output_type": "stream",
     "text": [
      "Start:  50\n",
      "50  -  tr_loss: 0.2652169336443362 val_loss: 0.3011465643843015\n"
     ]
    },
    {
     "name": "stderr",
     "output_type": "stream",
     "text": [
      " 51%|█████     | 51/100 [14:04<13:37, 16.68s/it]"
     ]
    },
    {
     "name": "stdout",
     "output_type": "stream",
     "text": [
      "Start:  51\n",
      "51  -  tr_loss: 0.2603185740501984 val_loss: 0.29403967907031375\n"
     ]
    },
    {
     "name": "stderr",
     "output_type": "stream",
     "text": [
      " 52%|█████▏    | 52/100 [14:21<13:19, 16.65s/it]"
     ]
    },
    {
     "name": "stdout",
     "output_type": "stream",
     "text": [
      "Start:  52\n",
      "52  -  tr_loss: 0.2564990102596905 val_loss: 0.2966843644777934\n"
     ]
    },
    {
     "name": "stderr",
     "output_type": "stream",
     "text": [
      " 53%|█████▎    | 53/100 [14:37<13:03, 16.66s/it]"
     ]
    },
    {
     "name": "stdout",
     "output_type": "stream",
     "text": [
      "Start:  53\n",
      "53  -  tr_loss: 0.25386457048032596 val_loss: 0.28651004781325656\n"
     ]
    },
    {
     "name": "stderr",
     "output_type": "stream",
     "text": [
      " 54%|█████▍    | 54/100 [14:54<12:42, 16.57s/it]"
     ]
    },
    {
     "name": "stdout",
     "output_type": "stream",
     "text": [
      "Start:  54\n",
      "54  -  tr_loss: 0.2591356878047404 val_loss: 0.3090412380794684\n"
     ]
    },
    {
     "name": "stderr",
     "output_type": "stream",
     "text": [
      " 55%|█████▌    | 55/100 [15:10<12:22, 16.49s/it]"
     ]
    },
    {
     "name": "stdout",
     "output_type": "stream",
     "text": [
      "Start:  55\n",
      "55  -  tr_loss: 0.2527123349516288 val_loss: 0.27999626100063324\n"
     ]
    },
    {
     "name": "stderr",
     "output_type": "stream",
     "text": [
      " 56%|█████▌    | 56/100 [15:27<12:10, 16.61s/it]"
     ]
    },
    {
     "name": "stdout",
     "output_type": "stream",
     "text": [
      "Start:  56\n",
      "56  -  tr_loss: 0.2512587389868239 val_loss: 0.3194446886579196\n"
     ]
    },
    {
     "name": "stderr",
     "output_type": "stream",
     "text": [
      " 57%|█████▋    | 57/100 [15:44<11:56, 16.66s/it]"
     ]
    },
    {
     "name": "stdout",
     "output_type": "stream",
     "text": [
      "Start:  57\n",
      "57  -  tr_loss: 0.2485527230993561 val_loss: 0.2880653217434883\n"
     ]
    },
    {
     "name": "stderr",
     "output_type": "stream",
     "text": [
      " 58%|█████▊    | 58/100 [16:00<11:43, 16.75s/it]"
     ]
    },
    {
     "name": "stdout",
     "output_type": "stream",
     "text": [
      "Start:  58\n",
      "58  -  tr_loss: 0.24218365614828857 val_loss: 0.2934937812387943\n"
     ]
    },
    {
     "name": "stderr",
     "output_type": "stream",
     "text": [
      " 59%|█████▉    | 59/100 [16:17<11:27, 16.76s/it]"
     ]
    },
    {
     "name": "stdout",
     "output_type": "stream",
     "text": [
      "Start:  59\n",
      "59  -  tr_loss: 0.2471699312977169 val_loss: 0.3062177648146947\n"
     ]
    },
    {
     "name": "stderr",
     "output_type": "stream",
     "text": [
      " 60%|██████    | 60/100 [16:33<11:01, 16.54s/it]"
     ]
    },
    {
     "name": "stdout",
     "output_type": "stream",
     "text": [
      "Start:  60\n",
      "60  -  tr_loss: 0.24244973581770193 val_loss: 0.29257379844784737\n"
     ]
    },
    {
     "name": "stderr",
     "output_type": "stream",
     "text": [
      " 61%|██████    | 61/100 [16:51<10:53, 16.75s/it]"
     ]
    },
    {
     "name": "stdout",
     "output_type": "stream",
     "text": [
      "Start:  61\n",
      "61  -  tr_loss: 0.23650700339804526 val_loss: 0.2904694117605686\n"
     ]
    },
    {
     "name": "stderr",
     "output_type": "stream",
     "text": [
      " 62%|██████▏   | 62/100 [17:07<10:38, 16.81s/it]"
     ]
    },
    {
     "name": "stdout",
     "output_type": "stream",
     "text": [
      "Start:  62\n",
      "62  -  tr_loss: 0.23889020441666894 val_loss: 0.28246982395648956\n"
     ]
    },
    {
     "name": "stderr",
     "output_type": "stream",
     "text": [
      " 63%|██████▎   | 63/100 [17:24<10:15, 16.63s/it]"
     ]
    },
    {
     "name": "stdout",
     "output_type": "stream",
     "text": [
      "Start:  63\n",
      "63  -  tr_loss: 0.23380650288384894 val_loss: 0.29375432183345157\n"
     ]
    },
    {
     "name": "stderr",
     "output_type": "stream",
     "text": [
      " 64%|██████▍   | 64/100 [17:40<09:55, 16.54s/it]"
     ]
    },
    {
     "name": "stdout",
     "output_type": "stream",
     "text": [
      "Start:  64\n",
      "64  -  tr_loss: 0.23234081721824149 val_loss: 0.2770738589266936\n"
     ]
    },
    {
     "name": "stderr",
     "output_type": "stream",
     "text": [
      " 65%|██████▌   | 65/100 [17:56<09:38, 16.52s/it]"
     ]
    },
    {
     "name": "stdout",
     "output_type": "stream",
     "text": [
      "Start:  65\n",
      "65  -  tr_loss: 0.23252966902826144 val_loss: 0.2992084709306558\n"
     ]
    },
    {
     "name": "stderr",
     "output_type": "stream",
     "text": [
      " 66%|██████▌   | 66/100 [18:13<09:21, 16.50s/it]"
     ]
    },
    {
     "name": "stdout",
     "output_type": "stream",
     "text": [
      "Start:  66\n",
      "66  -  tr_loss: 0.23021202145711236 val_loss: 0.3210299387574196\n"
     ]
    },
    {
     "name": "stderr",
     "output_type": "stream",
     "text": [
      " 67%|██████▋   | 67/100 [18:30<09:05, 16.53s/it]"
     ]
    },
    {
     "name": "stdout",
     "output_type": "stream",
     "text": [
      "Start:  67\n",
      "67  -  tr_loss: 0.22630870374648468 val_loss: 0.27188679079214734\n"
     ]
    },
    {
     "name": "stderr",
     "output_type": "stream",
     "text": [
      " 68%|██████▊   | 68/100 [18:46<08:49, 16.56s/it]"
     ]
    },
    {
     "name": "stdout",
     "output_type": "stream",
     "text": [
      "Start:  68\n",
      "68  -  tr_loss: 0.2264946501540101 val_loss: 0.28724049404263496\n"
     ]
    },
    {
     "name": "stderr",
     "output_type": "stream",
     "text": [
      " 69%|██████▉   | 69/100 [19:02<08:30, 16.48s/it]"
     ]
    },
    {
     "name": "stdout",
     "output_type": "stream",
     "text": [
      "Start:  69\n",
      "69  -  tr_loss: 0.22138626419979593 val_loss: 0.2809105229874452\n"
     ]
    },
    {
     "name": "stderr",
     "output_type": "stream",
     "text": [
      " 70%|███████   | 70/100 [19:19<08:13, 16.44s/it]"
     ]
    },
    {
     "name": "stdout",
     "output_type": "stream",
     "text": [
      "Start:  70\n",
      "70  -  tr_loss: 0.2217813908405926 val_loss: 0.2664707563817501\n"
     ]
    },
    {
     "name": "stderr",
     "output_type": "stream",
     "text": [
      " 71%|███████   | 71/100 [19:35<07:53, 16.31s/it]"
     ]
    },
    {
     "name": "stdout",
     "output_type": "stream",
     "text": [
      "Start:  71\n",
      "71  -  tr_loss: 0.21729978919029236 val_loss: 0.28321833287676174\n"
     ]
    },
    {
     "name": "stderr",
     "output_type": "stream",
     "text": [
      " 72%|███████▏  | 72/100 [19:52<07:40, 16.45s/it]"
     ]
    },
    {
     "name": "stdout",
     "output_type": "stream",
     "text": [
      "Start:  72\n",
      "72  -  tr_loss: 0.2149530198910962 val_loss: 0.28428365911046666\n"
     ]
    },
    {
     "name": "stderr",
     "output_type": "stream",
     "text": [
      " 73%|███████▎  | 73/100 [20:08<07:25, 16.50s/it]"
     ]
    },
    {
     "name": "stdout",
     "output_type": "stream",
     "text": [
      "Start:  73\n",
      "73  -  tr_loss: 0.2167913087684175 val_loss: 0.2759857699275017\n"
     ]
    },
    {
     "name": "stderr",
     "output_type": "stream",
     "text": [
      " 74%|███████▍  | 74/100 [20:25<07:10, 16.55s/it]"
     ]
    },
    {
     "name": "stdout",
     "output_type": "stream",
     "text": [
      "Start:  74\n",
      "74  -  tr_loss: 0.20928459808878278 val_loss: 0.2746834419667721\n"
     ]
    },
    {
     "name": "stderr",
     "output_type": "stream",
     "text": [
      " 75%|███████▌  | 75/100 [20:41<06:52, 16.50s/it]"
     ]
    },
    {
     "name": "stdout",
     "output_type": "stream",
     "text": [
      "Start:  75\n",
      "75  -  tr_loss: 0.2066895187548969 val_loss: 0.2744450395305951\n"
     ]
    },
    {
     "name": "stderr",
     "output_type": "stream",
     "text": [
      " 76%|███████▌  | 76/100 [20:58<06:37, 16.55s/it]"
     ]
    },
    {
     "name": "stdout",
     "output_type": "stream",
     "text": [
      "Start:  76\n",
      "76  -  tr_loss: 0.206831819013409 val_loss: 0.28338845695058507\n"
     ]
    },
    {
     "name": "stderr",
     "output_type": "stream",
     "text": [
      " 77%|███████▋  | 77/100 [21:15<06:23, 16.67s/it]"
     ]
    },
    {
     "name": "stdout",
     "output_type": "stream",
     "text": [
      "Start:  77\n",
      "77  -  tr_loss: 0.20719842645137207 val_loss: 0.281678032130003\n"
     ]
    },
    {
     "name": "stderr",
     "output_type": "stream",
     "text": [
      " 78%|███████▊  | 78/100 [21:32<06:06, 16.67s/it]"
     ]
    },
    {
     "name": "stdout",
     "output_type": "stream",
     "text": [
      "Start:  78\n",
      "78  -  tr_loss: 0.20859016834393793 val_loss: 0.26825269187490147\n"
     ]
    },
    {
     "name": "stderr",
     "output_type": "stream",
     "text": [
      " 79%|███████▉  | 79/100 [21:48<05:50, 16.71s/it]"
     ]
    },
    {
     "name": "stdout",
     "output_type": "stream",
     "text": [
      "Start:  79\n",
      "79  -  tr_loss: 0.2005837886877682 val_loss: 0.277109923462073\n"
     ]
    },
    {
     "name": "stderr",
     "output_type": "stream",
     "text": [
      " 80%|████████  | 80/100 [22:05<05:31, 16.56s/it]"
     ]
    },
    {
     "name": "stdout",
     "output_type": "stream",
     "text": [
      "Start:  80\n",
      "80  -  tr_loss: 0.20030723771323328 val_loss: 0.3012225975592931\n"
     ]
    },
    {
     "name": "stderr",
     "output_type": "stream",
     "text": [
      " 81%|████████  | 81/100 [22:21<05:15, 16.58s/it]"
     ]
    },
    {
     "name": "stdout",
     "output_type": "stream",
     "text": [
      "Start:  81\n",
      "81  -  tr_loss: 0.2045970322645229 val_loss: 0.2993002024789651\n"
     ]
    },
    {
     "name": "stderr",
     "output_type": "stream",
     "text": [
      " 82%|████████▏ | 82/100 [22:37<04:55, 16.42s/it]"
     ]
    },
    {
     "name": "stdout",
     "output_type": "stream",
     "text": [
      "Start:  82\n",
      "82  -  tr_loss: 0.19220791465562323 val_loss: 0.2903055474162102\n"
     ]
    },
    {
     "name": "stderr",
     "output_type": "stream",
     "text": [
      " 83%|████████▎ | 83/100 [22:54<04:39, 16.47s/it]"
     ]
    },
    {
     "name": "stdout",
     "output_type": "stream",
     "text": [
      "Start:  83\n",
      "83  -  tr_loss: 0.19222899655932965 val_loss: 0.2844737283885479\n"
     ]
    },
    {
     "name": "stderr",
     "output_type": "stream",
     "text": [
      " 84%|████████▍ | 84/100 [23:11<04:28, 16.79s/it]"
     ]
    },
    {
     "name": "stdout",
     "output_type": "stream",
     "text": [
      "Start:  84\n",
      "84  -  tr_loss: 0.19982153274442838 val_loss: 0.28399290641148883\n"
     ]
    },
    {
     "name": "stderr",
     "output_type": "stream",
     "text": [
      " 85%|████████▌ | 85/100 [23:29<04:14, 16.94s/it]"
     ]
    },
    {
     "name": "stdout",
     "output_type": "stream",
     "text": [
      "Start:  85\n",
      "85  -  tr_loss: 0.19285016021002893 val_loss: 0.2799961653848489\n"
     ]
    },
    {
     "name": "stderr",
     "output_type": "stream",
     "text": [
      " 86%|████████▌ | 86/100 [23:45<03:54, 16.78s/it]"
     ]
    },
    {
     "name": "stdout",
     "output_type": "stream",
     "text": [
      "Start:  86\n",
      "86  -  tr_loss: 0.19423402910647186 val_loss: 0.3068309351801872\n"
     ]
    },
    {
     "name": "stderr",
     "output_type": "stream",
     "text": [
      " 87%|████████▋ | 87/100 [24:02<03:37, 16.76s/it]"
     ]
    },
    {
     "name": "stdout",
     "output_type": "stream",
     "text": [
      "Start:  87\n",
      "87  -  tr_loss: 0.18975259622801904 val_loss: 0.27657900253931683\n"
     ]
    },
    {
     "name": "stderr",
     "output_type": "stream",
     "text": [
      " 88%|████████▊ | 88/100 [24:19<03:21, 16.78s/it]"
     ]
    },
    {
     "name": "stdout",
     "output_type": "stream",
     "text": [
      "Start:  88\n",
      "88  -  tr_loss: 0.1874505877494812 val_loss: 0.27545153597990674\n"
     ]
    },
    {
     "name": "stderr",
     "output_type": "stream",
     "text": [
      " 89%|████████▉ | 89/100 [24:35<03:04, 16.75s/it]"
     ]
    },
    {
     "name": "stdout",
     "output_type": "stream",
     "text": [
      "Start:  89\n",
      "89  -  tr_loss: 0.18537068852911825 val_loss: 0.28181928644577664\n"
     ]
    },
    {
     "name": "stderr",
     "output_type": "stream",
     "text": [
      " 90%|█████████ | 90/100 [24:52<02:48, 16.80s/it]"
     ]
    },
    {
     "name": "stdout",
     "output_type": "stream",
     "text": [
      "Start:  90\n",
      "90  -  tr_loss: 0.1801942411972129 val_loss: 0.27947262053688365\n"
     ]
    },
    {
     "name": "stderr",
     "output_type": "stream",
     "text": [
      " 91%|█████████ | 91/100 [25:09<02:30, 16.72s/it]"
     ]
    },
    {
     "name": "stdout",
     "output_type": "stream",
     "text": [
      "Start:  91\n",
      "91  -  tr_loss: 0.1798067261343417 val_loss: 0.27858089034756023\n"
     ]
    },
    {
     "name": "stderr",
     "output_type": "stream",
     "text": [
      " 92%|█████████▏| 92/100 [25:26<02:14, 16.76s/it]"
     ]
    },
    {
     "name": "stdout",
     "output_type": "stream",
     "text": [
      "Start:  92\n",
      "92  -  tr_loss: 0.1787394421256107 val_loss: 0.2779516602555911\n"
     ]
    },
    {
     "name": "stderr",
     "output_type": "stream",
     "text": [
      " 93%|█████████▎| 93/100 [25:43<01:57, 16.80s/it]"
     ]
    },
    {
     "name": "stdout",
     "output_type": "stream",
     "text": [
      "Start:  93\n",
      "93  -  tr_loss: 0.18197256132312442 val_loss: 0.2890217912693818\n"
     ]
    },
    {
     "name": "stderr",
     "output_type": "stream",
     "text": [
      " 94%|█████████▍| 94/100 [25:59<01:40, 16.75s/it]"
     ]
    },
    {
     "name": "stdout",
     "output_type": "stream",
     "text": [
      "Start:  94\n",
      "94  -  tr_loss: 0.1805202776323194 val_loss: 0.2793464461962382\n"
     ]
    },
    {
     "name": "stderr",
     "output_type": "stream",
     "text": [
      " 95%|█████████▌| 95/100 [26:16<01:24, 16.89s/it]"
     ]
    },
    {
     "name": "stdout",
     "output_type": "stream",
     "text": [
      "Start:  95\n",
      "95  -  tr_loss: 0.17849408802778824 val_loss: 0.27423616250356037\n"
     ]
    },
    {
     "name": "stderr",
     "output_type": "stream",
     "text": [
      " 96%|█████████▌| 96/100 [26:33<01:06, 16.73s/it]"
     ]
    },
    {
     "name": "stdout",
     "output_type": "stream",
     "text": [
      "Start:  96\n",
      "96  -  tr_loss: 0.18199096976414972 val_loss: 0.2862689917286237\n"
     ]
    },
    {
     "name": "stderr",
     "output_type": "stream",
     "text": [
      " 97%|█████████▋| 97/100 [26:49<00:49, 16.63s/it]"
     ]
    },
    {
     "name": "stdout",
     "output_type": "stream",
     "text": [
      "Start:  97\n",
      "97  -  tr_loss: 0.1767853777045789 val_loss: 0.27503835906585056\n"
     ]
    },
    {
     "name": "stderr",
     "output_type": "stream",
     "text": [
      " 98%|█████████▊| 98/100 [27:06<00:33, 16.69s/it]"
     ]
    },
    {
     "name": "stdout",
     "output_type": "stream",
     "text": [
      "Start:  98\n",
      "98  -  tr_loss: 0.17406071268993875 val_loss: 0.2770899000267188\n"
     ]
    },
    {
     "name": "stderr",
     "output_type": "stream",
     "text": [
      " 99%|█████████▉| 99/100 [27:23<00:16, 16.73s/it]"
     ]
    },
    {
     "name": "stdout",
     "output_type": "stream",
     "text": [
      "Start:  99\n",
      "99  -  tr_loss: 0.17169411091700845 val_loss: 0.287008136510849\n"
     ]
    },
    {
     "name": "stderr",
     "output_type": "stream",
     "text": [
      "100%|██████████| 100/100 [27:41<00:00, 16.61s/it]\n"
     ]
    }
   ],
   "source": [
    "config = {'lr': 0.001}\n",
    "\n",
    "res = train_unet(config, train_dataset, val_dataset, 100, return_flag=True, apply_scheduler=True)"
   ]
  },
  {
   "cell_type": "code",
   "execution_count": 15,
   "id": "bf60e8ce-b2d9-426d-ab04-d52be27efb28",
   "metadata": {},
   "outputs": [],
   "source": [
    "val_losses = res['val_losses']\n",
    "tr_losses = res['train_losses']\n",
    "model = res['model']"
   ]
  },
  {
   "cell_type": "code",
   "execution_count": 16,
   "id": "8288c851-9e5b-491d-9867-f970307503cc",
   "metadata": {},
   "outputs": [
    {
     "data": {
      "image/png": "[encoded data removed]",
      "text/plain": [
       "<Figure size 640x480 with 1 Axes>"
      ]
     },
     "metadata": {},
     "output_type": "display_data"
    }
   ],
   "source": [
    "plt.plot(tr_losses)\n",
    "plt.plot(pd.Series(val_losses).rolling(10).mean(), color='g')\n",
    "plt.plot(val_losses, 'k+', alpha=0.3)\n",
    "plt.show()"
   ]
  },
  {
   "cell_type": "markdown",
   "id": "53ee403c-c0a8-40b5-94b9-dba1c1ec32b4",
   "metadata": {},
   "source": [
    "---"
   ]
  },
  {
   "cell_type": "markdown",
   "id": "0d383881-bd65-499e-9bd4-2a2cdfc76f57",
   "metadata": {},
   "source": [
    "#### Evaluation"
   ]
  },
  {
   "cell_type": "code",
   "execution_count": 18,
   "id": "7ce30622-ea40-4b68-b31d-2fa7d4676558",
   "metadata": {},
   "outputs": [],
   "source": [
    "torch.save(model, '../../res/checkpoints/unet_pets_full.pt')\n",
    "torch.save(model.state_dict(), '../../res/checkpoints/unet_pets.pt')"
   ]
  },
  {
   "cell_type": "code",
   "execution_count": 7,
   "id": "6db281e3-b8b5-4ad3-ada7-bce6954c9386",
   "metadata": {},
   "outputs": [],
   "source": [
    "def load_checkpoint(path: Path, model: torch.nn.Module) -> torch.nn.Module:\n",
    "    \"\"\"\n",
    "    Helper method to load a model from a checkpoint\n",
    "    :param path: path to checkpoint\n",
    "    :param model: model which should use the checkpoint\n",
    "    :return: loaded model\n",
    "    \"\"\"\n",
    "    device: torch.device = torch.device('cuda:0' if torch.cuda.is_available() else 'cpu')\n",
    "\n",
    "    checkpoint = torch.load(path, map_location=device, weights_only=True)\n",
    "    model.load_state_dict(checkpoint)\n",
    "    return model"
   ]
  },
  {
   "cell_type": "code",
   "execution_count": 8,
   "id": "96e918bf-c8ed-4bb1-8b70-21e8be6d472a",
   "metadata": {},
   "outputs": [],
   "source": [
    "test_dataloader = DataLoader(test_dataset, batch_size=64, shuffle=False)\n",
    "device: torch.device = torch.device('cuda:0' if torch.cuda.is_available() else 'cpu')\n",
    "net = UNet(3, 3).to(device)\n",
    "\n",
    "net = load_checkpoint(Path('../../res/checkpoints/unet_pets.pt'), net)"
   ]
  },
  {
   "cell_type": "code",
   "execution_count": 9,
   "id": "f713e85d-0f58-4b53-95e2-a359f50440d4",
   "metadata": {},
   "outputs": [],
   "source": [
    "def evaluate_model(model: torch.nn.Module, data_loader: DataLoader, device) -> None:\n",
    "    \"\"\"\n",
    "    Evaluate the pixel accuracy and the Intersection over Union (IoU) for the model\n",
    "    :param model: neural network\n",
    "    :param data_loader: torch DataLoader\n",
    "    :param device: device on which to perform the evaluation\n",
    "    :return: None\n",
    "    \"\"\"\n",
    "    model.eval()\n",
    "\n",
    "    iou_scores = []\n",
    "    pixel_acc_scores = []\n",
    "    with torch.no_grad():\n",
    "        for inputs, targets in tqdm(data_loader):\n",
    "            inputs, targets = inputs.to(device), targets.to(device)\n",
    "\n",
    "            outputs = model(inputs)\n",
    "            pred = nn.Softmax(dim=1)(outputs)\n",
    "            pred = pred.argmax(dim=1)\n",
    "            pred = pred.unsqueeze(1).long().to(device)\n",
    "\n",
    "            iou = TM.classification.MulticlassJaccardIndex(35, average='macro').to(device)\n",
    "            iou_score = iou(pred, targets)\n",
    "            iou_scores.append(iou_score.item())\n",
    "\n",
    "            pixel_metric = TM.classification.MulticlassAccuracy(35, average='macro').to(device)\n",
    "            pixel_acc_score = pixel_metric(pred, targets)\n",
    "            pixel_acc_scores.append(pixel_acc_score.item())\n",
    "\n",
    "        iou_tensor = torch.FloatTensor(iou_scores)\n",
    "        pixel_tensor = torch.FloatTensor(pixel_acc_scores)\n",
    "        print(f\"Iou: {iou_tensor.mean()}\")\n",
    "        print(f'Pixel Accuracy: {pixel_tensor.mean()}')\n"
   ]
  },
  {
   "cell_type": "code",
   "execution_count": 10,
   "id": "de0d02cd-af44-4ef7-b855-4a61a01df548",
   "metadata": {},
   "outputs": [
    {
     "name": "stderr",
     "output_type": "stream",
     "text": [
      "100%|██████████| 58/58 [16:37<00:00, 17.20s/it]"
     ]
    },
    {
     "name": "stdout",
     "output_type": "stream",
     "text": [
      "Iou: 0.7058774828910828\n",
      "Pixel Accuracy: 0.8299434185028076\n"
     ]
    },
    {
     "name": "stderr",
     "output_type": "stream",
     "text": [
      "\n"
     ]
    }
   ],
   "source": [
    "evaluate_model(net, test_dataloader, device)"
   ]
  }
 ],
 "metadata": {
  "kernelspec": {
   "display_name": "Python 3 (ipykernel)",
   "language": "python",
   "name": "python3"
  },
  "language_info": {
   "codemirror_mode": {
    "name": "ipython",
    "version": 3
   },
   "file_extension": ".py",
   "mimetype": "text/x-python",
   "name": "python",
   "nbconvert_exporter": "python",
   "pygments_lexer": "ipython3",
   "version": "3.11.0rc1"
  }
 },
 "nbformat": 4,
 "nbformat_minor": 5
}
