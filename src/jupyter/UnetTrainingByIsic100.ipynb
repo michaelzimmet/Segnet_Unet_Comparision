{
 "cells": [
  {
   "cell_type": "markdown",
   "id": "18338e13-c042-4a91-beec-be1d3143cd17",
   "metadata": {},
   "source": [
    "# Studienarbeit ComputerVision 2\n",
    "## Differences and Limitations of Unet and SegNet"
   ]
  },
  {
   "cell_type": "markdown",
   "id": "cc15572b-beff-4590-ad84-64e791fee61f",
   "metadata": {},
   "source": [
    "---"
   ]
  },
  {
   "cell_type": "code",
   "execution_count": 1,
   "id": "cc96a8bf-5a95-4bb7-8033-eb1be2df2ac8",
   "metadata": {},
   "outputs": [],
   "source": [
    "# relevant imports\n",
    "import os\n",
    "from torch import nn, optim\n",
    "from torchsummary import summary\n",
    "from datasets import load_dataset\n",
    "from torchvision.transforms import transforms\n",
    "from PIL import Image\n",
    "from torch.utils.data import Dataset\n",
    "import numpy as np\n",
    "from ray import tune\n",
    "from functools import partial\n",
    "from ray.air import session\n",
    "from ray.train import Checkpoint\n",
    "from monai.losses import DiceLoss\n",
    "from torch.optim.lr_scheduler import ExponentialLR\n",
    "from torch.utils.data import DataLoader\n",
    "from torchvision import datasets\n",
    "from tqdm import tqdm\n",
    "from typing import List\n",
    "from matplotlib import pyplot as plt\n",
    "import pandas as pd\n",
    "from pathlib import Path\n",
    "import torch\n",
    "from monai.metrics import MeanIoU\n",
    "from monai.transforms import Activations, AsDiscrete\n"
   ]
  },
  {
   "cell_type": "markdown",
   "id": "6491ebfb-7bdf-44f3-812f-881d2599ca2d",
   "metadata": {},
   "source": [
    "#### Modelarchitecture\n",
    "![unet_brain_mri.png](https://pytorch.org/assets/images/unet_brain_mri.png)"
   ]
  },
  {
   "cell_type": "code",
   "execution_count": 19,
   "id": "ee66d611-9175-4104-bbc9-eab04204a4c6",
   "metadata": {},
   "outputs": [],
   "source": [
    "class UNet(nn.Module):\n",
    "    def __init__(self, input_size, output_size):\n",
    "        super(UNet, self).__init__()\n",
    "\n",
    "        # Encoder Blocks\n",
    "        self.encoder_block_1 = UNet._conv_block(input_size, 32)\n",
    "        self.max_pool_1 = nn.MaxPool2d(kernel_size=2, stride=2)\n",
    "\n",
    "        self.encoder_block_2 = UNet._conv_block(32, 64)\n",
    "        self.max_pool_2 = nn.MaxPool2d(kernel_size=2, stride=2)\n",
    "\n",
    "        self.encoder_block_3 = UNet._conv_block(64, 128)\n",
    "        self.max_pool_3 = nn.MaxPool2d(kernel_size=2, stride=2)\n",
    "\n",
    "        self.encoder_block_4 = UNet._conv_block(128, 256)\n",
    "        self.max_pool_4 = nn.MaxPool2d(kernel_size=2, stride=2)\n",
    "\n",
    "        # Bottleneck\n",
    "        self.bottle_neck_block = UNet._conv_block(256, 512)\n",
    "\n",
    "        # Decoder Blocks\n",
    "        self.upconv_block_4 = UNet._upconv_block(512, 256)\n",
    "        self.decoder_block_4 = UNet._conv_block(512, 256)\n",
    "\n",
    "        self.upconv_block_3 = UNet._upconv_block(256, 128)\n",
    "        self.decoder_block_3 = UNet._conv_block(256, 128)\n",
    "\n",
    "        self.upconv_block_2 = UNet._upconv_block(128, 64)\n",
    "        self.decoder_block_2 = UNet._conv_block(128, 64)\n",
    "\n",
    "        self.upconv_block_1 = UNet._upconv_block(64, 32)\n",
    "        self.decoder_block_1 = UNet._conv_block(64, 32)\n",
    "\n",
    "        # Output convolution\n",
    "        self.fc = nn.Conv2d(32, output_size, kernel_size=1)\n",
    "\n",
    "    def forward(self, x):\n",
    "        e1 = self.encoder_block_1(x)\n",
    "        e2 = self.encoder_block_2(self.max_pool_1(e1))\n",
    "        e3 = self.encoder_block_3(self.max_pool_2(e2))\n",
    "        e4 = self.encoder_block_4(self.max_pool_3(e3))\n",
    "\n",
    "        b = self.bottle_neck_block(self.max_pool_4(e4))\n",
    "\n",
    "        d4 = self.upconv_block_4(b)\n",
    "        d4 = self.decoder_block_4(torch.cat((d4, e4), dim=1))\n",
    "        d3 = self.upconv_block_3(d4)\n",
    "        d3 = self.decoder_block_3(torch.cat((d3, e3), dim=1))\n",
    "        d2 = self.upconv_block_2(d3)\n",
    "        d2 = self.decoder_block_2(torch.cat((d2, e2), dim=1))\n",
    "        d1 = self.upconv_block_1(d2)\n",
    "        d1 = self.decoder_block_1(torch.cat((d1, e1), dim=1))\n",
    "\n",
    "        return self.fc(d1)\n",
    "\n",
    "    @staticmethod\n",
    "    def _conv_block(input_size, output_size):\n",
    "        return nn.Sequential(\n",
    "            nn.Conv2d(input_size, output_size, kernel_size=3, padding=1, bias=False),\n",
    "            nn.BatchNorm2d(output_size),\n",
    "            nn.ReLU(inplace=True),\n",
    "            nn.Conv2d(output_size, output_size, kernel_size=3, padding=1, bias=False),\n",
    "            nn.BatchNorm2d(output_size),\n",
    "            nn.ReLU(inplace=True))\n",
    "\n",
    "    @staticmethod\n",
    "    def _upconv_block(input_size, output_size):\n",
    "        return nn.ConvTranspose2d(input_size, output_size, kernel_size=2, stride=2)"
   ]
  },
  {
   "cell_type": "code",
   "execution_count": 65,
   "id": "ac61e8b9-c1d6-4442-ab9f-f96a5a8a05c4",
   "metadata": {},
   "outputs": [
    {
     "name": "stdout",
     "output_type": "stream",
     "text": [
      "----------------------------------------------------------------\n",
      "        Layer (type)               Output Shape         Param #\n",
      "================================================================\n",
      "            Conv2d-1         [-1, 32, 256, 256]             864\n",
      "       BatchNorm2d-2         [-1, 32, 256, 256]              64\n",
      "              ReLU-3         [-1, 32, 256, 256]               0\n",
      "            Conv2d-4         [-1, 32, 256, 256]           9,216\n",
      "       BatchNorm2d-5         [-1, 32, 256, 256]              64\n",
      "              ReLU-6         [-1, 32, 256, 256]               0\n",
      "         MaxPool2d-7         [-1, 32, 128, 128]               0\n",
      "            Conv2d-8         [-1, 64, 128, 128]          18,432\n",
      "       BatchNorm2d-9         [-1, 64, 128, 128]             128\n",
      "             ReLU-10         [-1, 64, 128, 128]               0\n",
      "           Conv2d-11         [-1, 64, 128, 128]          36,864\n",
      "      BatchNorm2d-12         [-1, 64, 128, 128]             128\n",
      "             ReLU-13         [-1, 64, 128, 128]               0\n",
      "        MaxPool2d-14           [-1, 64, 64, 64]               0\n",
      "           Conv2d-15          [-1, 128, 64, 64]          73,728\n",
      "      BatchNorm2d-16          [-1, 128, 64, 64]             256\n",
      "             ReLU-17          [-1, 128, 64, 64]               0\n",
      "           Conv2d-18          [-1, 128, 64, 64]         147,456\n",
      "      BatchNorm2d-19          [-1, 128, 64, 64]             256\n",
      "             ReLU-20          [-1, 128, 64, 64]               0\n",
      "        MaxPool2d-21          [-1, 128, 32, 32]               0\n",
      "           Conv2d-22          [-1, 256, 32, 32]         294,912\n",
      "      BatchNorm2d-23          [-1, 256, 32, 32]             512\n",
      "             ReLU-24          [-1, 256, 32, 32]               0\n",
      "           Conv2d-25          [-1, 256, 32, 32]         589,824\n",
      "      BatchNorm2d-26          [-1, 256, 32, 32]             512\n",
      "             ReLU-27          [-1, 256, 32, 32]               0\n",
      "        MaxPool2d-28          [-1, 256, 16, 16]               0\n",
      "           Conv2d-29          [-1, 512, 16, 16]       1,179,648\n",
      "      BatchNorm2d-30          [-1, 512, 16, 16]           1,024\n",
      "             ReLU-31          [-1, 512, 16, 16]               0\n",
      "           Conv2d-32          [-1, 512, 16, 16]       2,359,296\n",
      "      BatchNorm2d-33          [-1, 512, 16, 16]           1,024\n",
      "             ReLU-34          [-1, 512, 16, 16]               0\n",
      "  ConvTranspose2d-35          [-1, 256, 32, 32]         524,544\n",
      "           Conv2d-36          [-1, 256, 32, 32]       1,179,648\n",
      "      BatchNorm2d-37          [-1, 256, 32, 32]             512\n",
      "             ReLU-38          [-1, 256, 32, 32]               0\n",
      "           Conv2d-39          [-1, 256, 32, 32]         589,824\n",
      "      BatchNorm2d-40          [-1, 256, 32, 32]             512\n",
      "             ReLU-41          [-1, 256, 32, 32]               0\n",
      "  ConvTranspose2d-42          [-1, 128, 64, 64]         131,200\n",
      "           Conv2d-43          [-1, 128, 64, 64]         294,912\n",
      "      BatchNorm2d-44          [-1, 128, 64, 64]             256\n",
      "             ReLU-45          [-1, 128, 64, 64]               0\n",
      "           Conv2d-46          [-1, 128, 64, 64]         147,456\n",
      "      BatchNorm2d-47          [-1, 128, 64, 64]             256\n",
      "             ReLU-48          [-1, 128, 64, 64]               0\n",
      "  ConvTranspose2d-49         [-1, 64, 128, 128]          32,832\n",
      "           Conv2d-50         [-1, 64, 128, 128]          73,728\n",
      "      BatchNorm2d-51         [-1, 64, 128, 128]             128\n",
      "             ReLU-52         [-1, 64, 128, 128]               0\n",
      "           Conv2d-53         [-1, 64, 128, 128]          36,864\n",
      "      BatchNorm2d-54         [-1, 64, 128, 128]             128\n",
      "             ReLU-55         [-1, 64, 128, 128]               0\n",
      "  ConvTranspose2d-56         [-1, 32, 256, 256]           8,224\n",
      "           Conv2d-57         [-1, 32, 256, 256]          18,432\n",
      "      BatchNorm2d-58         [-1, 32, 256, 256]              64\n",
      "             ReLU-59         [-1, 32, 256, 256]               0\n",
      "           Conv2d-60         [-1, 32, 256, 256]           9,216\n",
      "      BatchNorm2d-61         [-1, 32, 256, 256]              64\n",
      "             ReLU-62         [-1, 32, 256, 256]               0\n",
      "           Conv2d-63          [-1, 1, 256, 256]              33\n",
      "================================================================\n",
      "Total params: 7,763,041\n",
      "Trainable params: 7,763,041\n",
      "Non-trainable params: 0\n",
      "----------------------------------------------------------------\n",
      "Input size (MB): 0.75\n",
      "Forward/backward pass size (MB): 404.00\n",
      "Params size (MB): 29.61\n",
      "Estimated Total Size (MB): 434.36\n",
      "----------------------------------------------------------------\n"
     ]
    }
   ],
   "source": [
    "# Load U-Net\n",
    "unet = UNet(3, 1)\n",
    "unet.cuda()\n",
    "summary(unet, (3, 256, 256))"
   ]
  },
  {
   "cell_type": "markdown",
   "id": "5c548b7e-b95c-45c6-b5d4-c12def25c313",
   "metadata": {},
   "source": [
    "---"
   ]
  },
  {
   "cell_type": "markdown",
   "id": "6ddc493f-c537-44df-8b23-3a6a01d902ff",
   "metadata": {},
   "source": [
    "#### Datapreparation"
   ]
  },
  {
   "cell_type": "code",
   "execution_count": 3,
   "id": "154e111b-4298-4b41-956c-df03cc6b0516",
   "metadata": {},
   "outputs": [
    {
     "data": {
      "application/vnd.jupyter.widget-view+json": {
       "model_id": "c7922de32021411eb9fda4ed8b601d19",
       "version_major": 2,
       "version_minor": 0
      },
      "text/plain": [
       "Resolving data files:   0%|          | 0/50 [00:00<?, ?it/s]"
      ]
     },
     "metadata": {},
     "output_type": "display_data"
    },
    {
     "data": {
      "application/vnd.jupyter.widget-view+json": {
       "model_id": "98451c8126044a8b820bbe1f63733a30",
       "version_major": 2,
       "version_minor": 0
      },
      "text/plain": [
       "Resolving data files:   0%|          | 0/50 [00:00<?, ?it/s]"
      ]
     },
     "metadata": {},
     "output_type": "display_data"
    },
    {
     "data": {
      "application/vnd.jupyter.widget-view+json": {
       "model_id": "31186f3491de4a758f22353460d2344d",
       "version_major": 2,
       "version_minor": 0
      },
      "text/plain": [
       "Resolving data files:   0%|          | 0/50 [00:00<?, ?it/s]"
      ]
     },
     "metadata": {},
     "output_type": "display_data"
    },
    {
     "data": {
      "application/vnd.jupyter.widget-view+json": {
       "model_id": "9cf87966a20b405981966395bf54ef78",
       "version_major": 2,
       "version_minor": 0
      },
      "text/plain": [
       "Resolving data files:   0%|          | 0/50 [00:00<?, ?it/s]"
      ]
     },
     "metadata": {},
     "output_type": "display_data"
    },
    {
     "data": {
      "application/vnd.jupyter.widget-view+json": {
       "model_id": "94837a16b5a649ba8ceca69f5c95537e",
       "version_major": 2,
       "version_minor": 0
      },
      "text/plain": [
       "Resolving data files:   0%|          | 0/50 [00:00<?, ?it/s]"
      ]
     },
     "metadata": {},
     "output_type": "display_data"
    },
    {
     "data": {
      "application/vnd.jupyter.widget-view+json": {
       "model_id": "3c5083d5260c4f7cbd071d0be9f11589",
       "version_major": 2,
       "version_minor": 0
      },
      "text/plain": [
       "Resolving data files:   0%|          | 0/50 [00:00<?, ?it/s]"
      ]
     },
     "metadata": {},
     "output_type": "display_data"
    },
    {
     "data": {
      "text/plain": [
       "DatasetDict({\n",
       "    train: Dataset({\n",
       "        features: ['image', 'label'],\n",
       "        num_rows: 2594\n",
       "    })\n",
       "    validation: Dataset({\n",
       "        features: ['image', 'label'],\n",
       "        num_rows: 100\n",
       "    })\n",
       "    test: Dataset({\n",
       "        features: ['image', 'label'],\n",
       "        num_rows: 1000\n",
       "    })\n",
       "})"
      ]
     },
     "execution_count": 3,
     "metadata": {},
     "output_type": "execute_result"
    }
   ],
   "source": [
    "isic18_dataset = load_dataset(\"surajbijjahalli/ISIC2018\")\n",
    "isic18_dataset"
   ]
  },
  {
   "cell_type": "code",
   "execution_count": 4,
   "id": "93561660-5944-4bcc-9357-7ca9dbf3e0e9",
   "metadata": {},
   "outputs": [],
   "source": [
    "class ISICDataset(Dataset):\n",
    "    def __init__(self, dataset, transform_image=None, transform_mask=None):\n",
    "        self.dataset = dataset\n",
    "        self.transform_image = transform_image\n",
    "        self.transform_mask = transform_mask\n",
    "\n",
    "    def __len__(self):\n",
    "        return len(self.dataset)\n",
    "\n",
    "    def __getitem__(self, idx):\n",
    "        example = self.dataset[idx]\n",
    "\n",
    "        image = example['image']\n",
    "        mask = example['label']\n",
    "        mask = mask.convert('L')\n",
    "        mask = np.array(mask)\n",
    "        mask[mask > 0] = 255\n",
    "        mask[mask == 0] = 0\n",
    "        mask = Image.fromarray(mask)\n",
    "\n",
    "        if self.transform_image:\n",
    "            image = self.transform_image(image)\n",
    "        if self.transform_mask:\n",
    "            mask = self.transform_mask(mask)\n",
    "\n",
    "        return image, mask"
   ]
  },
  {
   "cell_type": "code",
   "execution_count": 5,
   "id": "6ba1f437-3b0c-4570-aafa-5c0f009fd8cd",
   "metadata": {},
   "outputs": [],
   "source": [
    "transform_image = transforms.Compose([\n",
    "    transforms.Resize((256, 256), interpolation=Image.BILINEAR),\n",
    "    transforms.ToTensor(),\n",
    "    transforms.Normalize([.5, .5, .5], [.5, .5, .5])])\n",
    "\n",
    "transform_mask = transforms.Compose([\n",
    "    transforms.Resize((256, 256), interpolation=Image.NEAREST),\n",
    "    transforms.ToTensor()])\n",
    "\n",
    "isic18_train_dataset = ISICDataset(isic18_dataset['train'].select(range(100)), transform_image, transform_mask)\n",
    "isic18_val_dataset = ISICDataset(isic18_dataset['validation'], transform_image, transform_mask)\n",
    "isic18_test_dataset = ISICDataset(isic18_dataset['test'], transform_image, transform_mask)"
   ]
  },
  {
   "cell_type": "markdown",
   "id": "1cc86325-1dcc-4ca1-b063-b0332062d4ad",
   "metadata": {},
   "source": [
    "---"
   ]
  },
  {
   "cell_type": "markdown",
   "id": "5ee32fc8-ec51-4b6d-8b12-09e16f57fefe",
   "metadata": {},
   "source": [
    "#### Training"
   ]
  },
  {
   "cell_type": "code",
   "execution_count": 15,
   "id": "13b3c0cf-008e-44b6-a2d8-9c719e78577c",
   "metadata": {},
   "outputs": [],
   "source": [
    "def validation_loop(model: nn.Module, validation_dataloader: DataLoader, loss_fn, device) -> float:\n",
    "    \"\"\"\n",
    "    Validation loop for the CNN\n",
    "    :param model: neural network\n",
    "    :param validation_dataloader: dataloader for the validation set\n",
    "    :param loss_fn: loss function\n",
    "    :param device: device on which to perform the validation\n",
    "    :return: validation loss\n",
    "    \"\"\"\n",
    "    running_val_loss: float = 0.\n",
    "    model.eval()\n",
    "    with torch.no_grad():\n",
    "        for i, vdata in enumerate(validation_dataloader):\n",
    "            inputs, targets = vdata\n",
    "            inputs, targets = inputs.to(device), targets.to(device)\n",
    "\n",
    "            vloss = loss_fn(model(inputs), targets)\n",
    "            running_val_loss += vloss.item()\n",
    "        running_val_loss /= (i + 1)\n",
    "\n",
    "    return running_val_loss\n"
   ]
  },
  {
   "cell_type": "code",
   "execution_count": 16,
   "id": "8a4ae8ab-2170-4da2-87c7-51a5e15e74bb",
   "metadata": {},
   "outputs": [],
   "source": [
    "def train_loop(model: nn.Module, train_dataloader: DataLoader, loss_fn, optimizer, device) -> float:\n",
    "    \"\"\"\n",
    "    Main minibatch train loop for the CNN\n",
    "    :param model: neural network\n",
    "    :param train_dataloader: dataloader for the train set\n",
    "    :param loss_fn: loss function\n",
    "    :param optimizer: optimizer\n",
    "    :param device: device on which to perform the training\n",
    "    :return: train loss\n",
    "    \"\"\"\n",
    "    running_tr_loss: float = 0.\n",
    "    for i, data in enumerate(train_dataloader):\n",
    "        inputs, targets = data\n",
    "        inputs, targets = inputs.to(device), targets.to(device)\n",
    "\n",
    "        yhats = model(inputs)\n",
    "        optimizer.zero_grad()\n",
    "        tloss = loss_fn(yhats, targets)\n",
    "\n",
    "        tloss.backward()\n",
    "        optimizer.step()\n",
    "\n",
    "        running_tr_loss += tloss.item()\n",
    "    running_tr_loss /= (i + 1)\n",
    "\n",
    "    return running_tr_loss\n"
   ]
  },
  {
   "cell_type": "code",
   "execution_count": 17,
   "id": "973f3307-8463-441d-a3cd-bda25cc6f84d",
   "metadata": {},
   "outputs": [],
   "source": [
    "def train_unet(\n",
    "        config: dict,\n",
    "        train_dataset: datasets,\n",
    "        validation_dataset: datasets,\n",
    "        epochs: int,\n",
    "        apply_scheduler: bool = True,\n",
    "        return_flag: bool = False) -> dict | None:\n",
    "    \"\"\"\n",
    "    Prepared train loop for ray parameter tuning.\n",
    "    Training components:\n",
    "        - model: CNN\n",
    "        - loss function: CrossEntropyLoss\n",
    "        - optimizer: Adam\n",
    "        - scheduler: ExponentialLR (optional)\n",
    "\n",
    "    :param config: dict of hyperparameters\n",
    "    :param train_dataset:\n",
    "    :param validation_dataset:\n",
    "    :param epochs: number of epochs to train\n",
    "    :param apply_scheduler: weather scheduler should be used or not\n",
    "    :param return_flag: weather to return the model and losses or not\n",
    "    :return: training results\n",
    "    \"\"\"\n",
    "\n",
    "    device: torch.device = torch.device('cuda:6' if torch.cuda.is_available() else 'cpu')\n",
    "    print(device)\n",
    "    model: nn.Module = UNet(3, 1).to(device)\n",
    "\n",
    "    loss_fn = DiceLoss(sigmoid=True)\n",
    "\n",
    "    optim_params: dict = {\n",
    "        'lr': config[\"lr\"]\n",
    "    }\n",
    "    optimizer: optim.Adam = optim.Adam(model.parameters(), **optim_params)\n",
    "\n",
    "    scheduler_params: dict = {\n",
    "        'gamma': config['gamma'],\n",
    "        'verbose': False\n",
    "    }\n",
    "    scheduler: ExponentialLR = ExponentialLR(optimizer, **scheduler_params)\n",
    "\n",
    "    train_dataloader: DataLoader = DataLoader(train_dataset, batch_size=64, shuffle=True, num_workers=4)\n",
    "    validation_dataloader: DataLoader = DataLoader(validation_dataset, batch_size=64, shuffle=False, num_workers=4)\n",
    "\n",
    "    train_losses: List[float] = []\n",
    "    val_losses: List[float] = []\n",
    "\n",
    "    print('Start training...')\n",
    "    for epoch in tqdm(range(epochs)):\n",
    "        print('Start: ', epoch)\n",
    "        model.train()\n",
    "\n",
    "        # Train loop to iterate over the dataloader batches\n",
    "        running_tr_loss: float = train_loop(model, train_dataloader, loss_fn, optimizer, device)\n",
    "        if apply_scheduler:\n",
    "            scheduler.step()\n",
    "\n",
    "        # Validation loop\n",
    "        running_val_loss: float = validation_loop(model, validation_dataloader, loss_fn, device)\n",
    "\n",
    "        print(epoch, \" - \", 'tr_loss:', running_tr_loss, 'val_loss:', running_val_loss)\n",
    "        train_losses.append(running_tr_loss)\n",
    "        val_losses.append(running_val_loss)\n",
    "\n",
    "        # Save a checkpoint from the model\n",
    "        os.makedirs(\"res/model\", exist_ok=True)\n",
    "        torch.save(\n",
    "            (model.state_dict(), optimizer.state_dict()), \"res/model/checkpoint1.pt\")\n",
    "        checkpoint: Checkpoint = Checkpoint.from_directory(\"res/model\")\n",
    "        session.report({\"val_loss\": running_val_loss,\n",
    "                        \"train_loss\": running_tr_loss}, checkpoint=checkpoint)\n",
    "\n",
    "    if return_flag:\n",
    "        return {\"train_losses\": train_losses,\n",
    "                \"val_losses\": val_losses,\n",
    "                \"model\": model}"
   ]
  },
  {
   "cell_type": "markdown",
   "id": "56603fe9-185e-4b35-9922-6686524b05ed",
   "metadata": {},
   "source": [
    "---"
   ]
  },
  {
   "metadata": {},
   "cell_type": "markdown",
   "source": "#### Parametertuning",
   "id": "c667a491-588c-418e-8e77-b2dc3def8877"
  },
  {
   "metadata": {},
   "cell_type": "code",
   "outputs": [],
   "execution_count": null,
   "source": [
    "EPOCHS = 20\n",
    "partial_model_train = partial(train_unet, epochs=EPOCHS)\n",
    "\n",
    "config = {\n",
    "    \"lr\": tune.loguniform(1e-4, 1e0),\n",
    "    \"gamma\": tune.uniform(0.9, 0.99999),\n",
    "}\n",
    "\n",
    "\n",
    "tuner = tune.Tuner(\n",
    "        tune.with_resources(\n",
    "            tune.with_parameters(partial_model_train,\n",
    "                                 train_dataset=isic18_train_dataset,\n",
    "                                 validation_dataset=isic18_val_dataset),\n",
    "            resources={\"GPU\": 1}),\n",
    "\n",
    "        tune_config=tune.TuneConfig(metric=\"val_loss\",\n",
    "                                    mode=\"min\",\n",
    "                                    num_samples=5),\n",
    "\n",
    "        param_space=config)"
   ],
   "id": "afc0d7cd-6bda-450b-9c6e-9e83abf359d3"
  },
  {
   "cell_type": "code",
   "execution_count": null,
   "id": "6a8e87ea-cf6a-4ef2-a1c7-371a7c9ced60",
   "metadata": {},
   "outputs": [],
   "source": [
    "results = tuner.fit()"
   ]
  },
  {
   "cell_type": "markdown",
   "id": "0cde87a9-69ba-43e9-b035-924b43d5baef",
   "metadata": {},
   "source": [
    "---"
   ]
  },
  {
   "cell_type": "markdown",
   "id": "ccfe60a6-bb9f-4e82-94a7-f325b1133023",
   "metadata": {},
   "source": [
    "#### Training with Parameter"
   ]
  },
  {
   "cell_type": "code",
   "execution_count": null,
   "id": "0639f000-9d1a-4150-8104-5c124faffbb5",
   "metadata": {},
   "outputs": [],
   "source": [
    "best_trial = results.get_best_result(\"val_loss\", \"min\", \"last\")\n",
    "best_trial.config"
   ]
  },
  {
   "cell_type": "code",
   "execution_count": 18,
   "id": "cf1f99ea-dab7-483e-abfc-a117fad6fefe",
   "metadata": {},
   "outputs": [
    {
     "name": "stdout",
     "output_type": "stream",
     "text": [
      "cuda:6\n"
     ]
    },
    {
     "name": "stderr",
     "output_type": "stream",
     "text": [
      "/home/jovyan/.local/lib/python3.11/site-packages/torch/optim/lr_scheduler.py:62: UserWarning: The verbose parameter is deprecated. Please use get_last_lr() to access the learning rate.\n",
      "  warnings.warn(\n"
     ]
    },
    {
     "name": "stdout",
     "output_type": "stream",
     "text": [
      "Start training...\n"
     ]
    },
    {
     "name": "stderr",
     "output_type": "stream",
     "text": [
      "  0%|          | 0/50 [00:00<?, ?it/s]"
     ]
    },
    {
     "name": "stdout",
     "output_type": "stream",
     "text": [
      "Start:  0\n"
     ]
    },
    {
     "name": "stderr",
     "output_type": "stream",
     "text": [
      "  0%|          | 0/50 [00:02<?, ?it/s]\n"
     ]
    },
    {
     "ename": "AttributeError",
     "evalue": "'UNet' object has no attribute 'upconv_block_4'",
     "output_type": "error",
     "traceback": [
      "\u001B[0;31m---------------------------------------------------------------------------\u001B[0m",
      "\u001B[0;31mAttributeError\u001B[0m                            Traceback (most recent call last)",
      "Cell \u001B[0;32mIn[18], line 3\u001B[0m\n\u001B[1;32m      1\u001B[0m config \u001B[38;5;241m=\u001B[39m {\u001B[38;5;124m'\u001B[39m\u001B[38;5;124mlr\u001B[39m\u001B[38;5;124m'\u001B[39m: \u001B[38;5;241m0.0011075820407299578\u001B[39m, \u001B[38;5;124m'\u001B[39m\u001B[38;5;124mgamma\u001B[39m\u001B[38;5;124m'\u001B[39m: \u001B[38;5;241m0.9596539000640568\u001B[39m}\n\u001B[0;32m----> 3\u001B[0m res \u001B[38;5;241m=\u001B[39m \u001B[43mtrain_unet\u001B[49m\u001B[43m(\u001B[49m\u001B[43mconfig\u001B[49m\u001B[43m,\u001B[49m\u001B[43m \u001B[49m\u001B[43misic18_train_dataset\u001B[49m\u001B[43m,\u001B[49m\u001B[43m \u001B[49m\u001B[43misic18_val_dataset\u001B[49m\u001B[43m,\u001B[49m\u001B[43m \u001B[49m\u001B[38;5;241;43m50\u001B[39;49m\u001B[43m,\u001B[49m\u001B[43m \u001B[49m\u001B[43mreturn_flag\u001B[49m\u001B[38;5;241;43m=\u001B[39;49m\u001B[38;5;28;43;01mTrue\u001B[39;49;00m\u001B[43m,\u001B[49m\u001B[43m \u001B[49m\u001B[43mapply_scheduler\u001B[49m\u001B[38;5;241;43m=\u001B[39;49m\u001B[38;5;28;43;01mTrue\u001B[39;49;00m\u001B[43m)\u001B[49m\n",
      "Cell \u001B[0;32mIn[17], line 54\u001B[0m, in \u001B[0;36mtrain_unet\u001B[0;34m(config, train_dataset, validation_dataset, epochs, apply_scheduler, return_flag)\u001B[0m\n\u001B[1;32m     51\u001B[0m model\u001B[38;5;241m.\u001B[39mtrain()\n\u001B[1;32m     53\u001B[0m \u001B[38;5;66;03m# Train loop to iterate over the dataloader batches\u001B[39;00m\n\u001B[0;32m---> 54\u001B[0m running_tr_loss: \u001B[38;5;28mfloat\u001B[39m \u001B[38;5;241m=\u001B[39m \u001B[43mtrain_loop\u001B[49m\u001B[43m(\u001B[49m\u001B[43mmodel\u001B[49m\u001B[43m,\u001B[49m\u001B[43m \u001B[49m\u001B[43mtrain_dataloader\u001B[49m\u001B[43m,\u001B[49m\u001B[43m \u001B[49m\u001B[43mloss_fn\u001B[49m\u001B[43m,\u001B[49m\u001B[43m \u001B[49m\u001B[43moptimizer\u001B[49m\u001B[43m,\u001B[49m\u001B[43m \u001B[49m\u001B[43mdevice\u001B[49m\u001B[43m)\u001B[49m\n\u001B[1;32m     55\u001B[0m \u001B[38;5;28;01mif\u001B[39;00m apply_scheduler:\n\u001B[1;32m     56\u001B[0m     scheduler\u001B[38;5;241m.\u001B[39mstep()\n",
      "Cell \u001B[0;32mIn[16], line 16\u001B[0m, in \u001B[0;36mtrain_loop\u001B[0;34m(model, train_dataloader, loss_fn, optimizer, device)\u001B[0m\n\u001B[1;32m     13\u001B[0m inputs, targets \u001B[38;5;241m=\u001B[39m data\n\u001B[1;32m     14\u001B[0m inputs, targets \u001B[38;5;241m=\u001B[39m inputs\u001B[38;5;241m.\u001B[39mto(device), targets\u001B[38;5;241m.\u001B[39mto(device)\n\u001B[0;32m---> 16\u001B[0m yhats \u001B[38;5;241m=\u001B[39m \u001B[43mmodel\u001B[49m\u001B[43m(\u001B[49m\u001B[43minputs\u001B[49m\u001B[43m)\u001B[49m\n\u001B[1;32m     17\u001B[0m optimizer\u001B[38;5;241m.\u001B[39mzero_grad()\n\u001B[1;32m     18\u001B[0m tloss \u001B[38;5;241m=\u001B[39m loss_fn(yhats, targets)\n",
      "File \u001B[0;32m~/.local/lib/python3.11/site-packages/torch/nn/modules/module.py:1736\u001B[0m, in \u001B[0;36mModule._wrapped_call_impl\u001B[0;34m(self, *args, **kwargs)\u001B[0m\n\u001B[1;32m   1734\u001B[0m     \u001B[38;5;28;01mreturn\u001B[39;00m \u001B[38;5;28mself\u001B[39m\u001B[38;5;241m.\u001B[39m_compiled_call_impl(\u001B[38;5;241m*\u001B[39margs, \u001B[38;5;241m*\u001B[39m\u001B[38;5;241m*\u001B[39mkwargs)  \u001B[38;5;66;03m# type: ignore[misc]\u001B[39;00m\n\u001B[1;32m   1735\u001B[0m \u001B[38;5;28;01melse\u001B[39;00m:\n\u001B[0;32m-> 1736\u001B[0m     \u001B[38;5;28;01mreturn\u001B[39;00m \u001B[38;5;28;43mself\u001B[39;49m\u001B[38;5;241;43m.\u001B[39;49m\u001B[43m_call_impl\u001B[49m\u001B[43m(\u001B[49m\u001B[38;5;241;43m*\u001B[39;49m\u001B[43margs\u001B[49m\u001B[43m,\u001B[49m\u001B[43m \u001B[49m\u001B[38;5;241;43m*\u001B[39;49m\u001B[38;5;241;43m*\u001B[39;49m\u001B[43mkwargs\u001B[49m\u001B[43m)\u001B[49m\n",
      "File \u001B[0;32m~/.local/lib/python3.11/site-packages/torch/nn/modules/module.py:1747\u001B[0m, in \u001B[0;36mModule._call_impl\u001B[0;34m(self, *args, **kwargs)\u001B[0m\n\u001B[1;32m   1742\u001B[0m \u001B[38;5;66;03m# If we don't have any hooks, we want to skip the rest of the logic in\u001B[39;00m\n\u001B[1;32m   1743\u001B[0m \u001B[38;5;66;03m# this function, and just call forward.\u001B[39;00m\n\u001B[1;32m   1744\u001B[0m \u001B[38;5;28;01mif\u001B[39;00m \u001B[38;5;129;01mnot\u001B[39;00m (\u001B[38;5;28mself\u001B[39m\u001B[38;5;241m.\u001B[39m_backward_hooks \u001B[38;5;129;01mor\u001B[39;00m \u001B[38;5;28mself\u001B[39m\u001B[38;5;241m.\u001B[39m_backward_pre_hooks \u001B[38;5;129;01mor\u001B[39;00m \u001B[38;5;28mself\u001B[39m\u001B[38;5;241m.\u001B[39m_forward_hooks \u001B[38;5;129;01mor\u001B[39;00m \u001B[38;5;28mself\u001B[39m\u001B[38;5;241m.\u001B[39m_forward_pre_hooks\n\u001B[1;32m   1745\u001B[0m         \u001B[38;5;129;01mor\u001B[39;00m _global_backward_pre_hooks \u001B[38;5;129;01mor\u001B[39;00m _global_backward_hooks\n\u001B[1;32m   1746\u001B[0m         \u001B[38;5;129;01mor\u001B[39;00m _global_forward_hooks \u001B[38;5;129;01mor\u001B[39;00m _global_forward_pre_hooks):\n\u001B[0;32m-> 1747\u001B[0m     \u001B[38;5;28;01mreturn\u001B[39;00m \u001B[43mforward_call\u001B[49m\u001B[43m(\u001B[49m\u001B[38;5;241;43m*\u001B[39;49m\u001B[43margs\u001B[49m\u001B[43m,\u001B[49m\u001B[43m \u001B[49m\u001B[38;5;241;43m*\u001B[39;49m\u001B[38;5;241;43m*\u001B[39;49m\u001B[43mkwargs\u001B[49m\u001B[43m)\u001B[49m\n\u001B[1;32m   1749\u001B[0m result \u001B[38;5;241m=\u001B[39m \u001B[38;5;28;01mNone\u001B[39;00m\n\u001B[1;32m   1750\u001B[0m called_always_called_hooks \u001B[38;5;241m=\u001B[39m \u001B[38;5;28mset\u001B[39m()\n",
      "Cell \u001B[0;32mIn[2], line 45\u001B[0m, in \u001B[0;36mUNet.forward\u001B[0;34m(self, x)\u001B[0m\n\u001B[1;32m     41\u001B[0m e4 \u001B[38;5;241m=\u001B[39m \u001B[38;5;28mself\u001B[39m\u001B[38;5;241m.\u001B[39mencoder_block_4(\u001B[38;5;28mself\u001B[39m\u001B[38;5;241m.\u001B[39mmax_pool_3(e3))\n\u001B[1;32m     43\u001B[0m b \u001B[38;5;241m=\u001B[39m \u001B[38;5;28mself\u001B[39m\u001B[38;5;241m.\u001B[39mbottle_neck_block(\u001B[38;5;28mself\u001B[39m\u001B[38;5;241m.\u001B[39mmax_pool_4(e4))\n\u001B[0;32m---> 45\u001B[0m d4 \u001B[38;5;241m=\u001B[39m \u001B[38;5;28;43mself\u001B[39;49m\u001B[38;5;241;43m.\u001B[39;49m\u001B[43mupconv_block_4\u001B[49m(b)\n\u001B[1;32m     46\u001B[0m d4 \u001B[38;5;241m=\u001B[39m \u001B[38;5;28mself\u001B[39m\u001B[38;5;241m.\u001B[39mdecoder_block_4(torch\u001B[38;5;241m.\u001B[39mcat((d4, e4), dim\u001B[38;5;241m=\u001B[39m\u001B[38;5;241m1\u001B[39m))\n\u001B[1;32m     47\u001B[0m d3 \u001B[38;5;241m=\u001B[39m \u001B[38;5;28mself\u001B[39m\u001B[38;5;241m.\u001B[39mupconv_block_3(d4)\n",
      "File \u001B[0;32m~/.local/lib/python3.11/site-packages/torch/nn/modules/module.py:1931\u001B[0m, in \u001B[0;36mModule.__getattr__\u001B[0;34m(self, name)\u001B[0m\n\u001B[1;32m   1929\u001B[0m     \u001B[38;5;28;01mif\u001B[39;00m name \u001B[38;5;129;01min\u001B[39;00m modules:\n\u001B[1;32m   1930\u001B[0m         \u001B[38;5;28;01mreturn\u001B[39;00m modules[name]\n\u001B[0;32m-> 1931\u001B[0m \u001B[38;5;28;01mraise\u001B[39;00m \u001B[38;5;167;01mAttributeError\u001B[39;00m(\n\u001B[1;32m   1932\u001B[0m     \u001B[38;5;124mf\u001B[39m\u001B[38;5;124m\"\u001B[39m\u001B[38;5;124m'\u001B[39m\u001B[38;5;132;01m{\u001B[39;00m\u001B[38;5;28mtype\u001B[39m(\u001B[38;5;28mself\u001B[39m)\u001B[38;5;241m.\u001B[39m\u001B[38;5;18m__name__\u001B[39m\u001B[38;5;132;01m}\u001B[39;00m\u001B[38;5;124m'\u001B[39m\u001B[38;5;124m object has no attribute \u001B[39m\u001B[38;5;124m'\u001B[39m\u001B[38;5;132;01m{\u001B[39;00mname\u001B[38;5;132;01m}\u001B[39;00m\u001B[38;5;124m'\u001B[39m\u001B[38;5;124m\"\u001B[39m\n\u001B[1;32m   1933\u001B[0m )\n",
      "\u001B[0;31mAttributeError\u001B[0m: 'UNet' object has no attribute 'upconv_block_4'"
     ]
    }
   ],
   "source": [
    "config = {'lr': 0.0011075820407299578, 'gamma': 0.9596539000640568}\n",
    "\n",
    "res = train_unet(config, isic18_train_dataset, isic18_val_dataset, 50, return_flag=True, apply_scheduler=True)"
   ]
  },
  {
   "cell_type": "code",
   "execution_count": 97,
   "id": "05d56dd7-0dd2-4a2e-bd4e-fdb655429bb1",
   "metadata": {},
   "outputs": [],
   "source": [
    "val_losses = res['val_losses']\n",
    "tr_losses = res['train_losses']\n",
    "model = res['model']"
   ]
  },
  {
   "cell_type": "code",
   "execution_count": 98,
   "id": "ef4191c5-b3c6-4d5c-8b59-d8b4dac59302",
   "metadata": {},
   "outputs": [
    {
     "data": {
      "image/png": "[encoded data removed]",
      "text/plain": [
       "<Figure size 640x480 with 1 Axes>"
      ]
     },
     "metadata": {},
     "output_type": "display_data"
    }
   ],
   "source": [
    "plt.plot(tr_losses)\n",
    "plt.plot(pd.Series(val_losses).rolling(10).mean(), color='g')\n",
    "plt.plot(val_losses, 'k+', alpha=0.3)\n",
    "plt.show()"
   ]
  },
  {
   "cell_type": "markdown",
   "id": "0319825f-bede-42fb-8bfa-d832a9888a23",
   "metadata": {},
   "source": [
    "---"
   ]
  },
  {
   "cell_type": "markdown",
   "id": "88f6793b-ddea-4668-88e4-aa5c41b57791",
   "metadata": {},
   "source": [
    "#### Evaluation"
   ]
  },
  {
   "cell_type": "code",
   "execution_count": 99,
   "id": "f9b826c0-c753-46b0-8f1a-3bcd72b2b355",
   "metadata": {},
   "outputs": [],
   "source": [
    "torch.save(model, '../../res/checkpoints/unet_isic18_500_full.pt')\n",
    "torch.save(model.state_dict(), '../../res/checkpoints/unet_isic18_100.pt')"
   ]
  },
  {
   "cell_type": "code",
   "execution_count": 20,
   "id": "8c82e596-f612-43a1-90e6-281f01295f21",
   "metadata": {},
   "outputs": [],
   "source": [
    "def load_checkpoint(path: Path, model: torch.nn.Module) -> torch.nn.Module:\n",
    "    \"\"\"\n",
    "    Helper method to load a model from a checkpoint\n",
    "    :param path: path to checkpoint\n",
    "    :param model: model which should use the checkpoint\n",
    "    :return: loaded model\n",
    "    \"\"\"\n",
    "    device: torch.device = torch.device('cuda:0' if torch.cuda.is_available() else 'cpu')\n",
    "\n",
    "    checkpoint = torch.load(path, map_location=device, weights_only=True)\n",
    "    model.load_state_dict(checkpoint)\n",
    "    return model"
   ]
  },
  {
   "cell_type": "code",
   "execution_count": 21,
   "id": "e74a5d2a-d317-405c-8d2b-24579ad695b0",
   "metadata": {},
   "outputs": [],
   "source": [
    "test_dataloader = DataLoader(isic18_test_dataset, batch_size=64, shuffle=False)\n",
    "device: torch.device = torch.device('cuda:0' if torch.cuda.is_available() else 'cpu')\n",
    "net = UNet(3, 1).to(device)\n",
    "\n",
    "net = load_checkpoint(Path('../../res/checkpoints/unet_isic18_500.pt'), net)"
   ]
  },
  {
   "cell_type": "code",
   "execution_count": 22,
   "id": "5f4804d4-8051-49be-b622-8b5be9973d54",
   "metadata": {},
   "outputs": [],
   "source": [
    "def evaluate_model(model: torch.nn.Module, data_loader: DataLoader, device) -> None:\n",
    "    \"\"\"\n",
    "    Evaluate the pixel accuracy for binary segmentation.\n",
    "    :param model: neural network\n",
    "    :param data_loader: torch Dataloader\n",
    "    :param device: device on which to perform the evaluation\n",
    "    :return: None\n",
    "    \"\"\"\n",
    "    total_correct_pixels = 0\n",
    "    total_pixels = 0\n",
    "\n",
    "    model.eval()\n",
    "\n",
    "    with torch.no_grad():\n",
    "        for inputs, targets in tqdm(data_loader):\n",
    "            inputs = inputs.to(device)\n",
    "\n",
    "            outputs = model(inputs)\n",
    "            preds = torch.sigmoid(outputs)\n",
    "            preds = (preds > 0.5).cpu().numpy()\n",
    "\n",
    "            targets = targets.numpy().flatten()\n",
    "            preds = preds.flatten()\n",
    "\n",
    "            correct_pixels = np.sum(preds == targets)\n",
    "            total_pixels += targets.size\n",
    "            total_correct_pixels += correct_pixels\n",
    "\n",
    "    pixel_accuracy = total_correct_pixels / total_pixels\n",
    "    print('Pixel Accuracy: ', pixel_accuracy)"
   ]
  },
  {
   "cell_type": "code",
   "execution_count": 23,
   "id": "c3000892-81c6-4dac-b7fa-c7ae105b59d7",
   "metadata": {},
   "outputs": [
    {
     "name": "stderr",
     "output_type": "stream",
     "text": [
      "100%|██████████| 16/16 [02:37<00:00,  9.82s/it]"
     ]
    },
    {
     "name": "stdout",
     "output_type": "stream",
     "text": [
      "Pixel Accuracy:  0.7298862915039063\n"
     ]
    },
    {
     "name": "stderr",
     "output_type": "stream",
     "text": [
      "\n"
     ]
    }
   ],
   "source": [
    "evaluate_model(net, test_dataloader, device)"
   ]
  },
  {
   "cell_type": "code",
   "execution_count": 24,
   "id": "9a58f376-b584-4deb-aeef-752bca64680f",
   "metadata": {},
   "outputs": [],
   "source": [
    "def evaluate_binary_mean_iou(model, dataloader, device) -> float:\n",
    "    \"\"\"\n",
    "    Evaluate the Mean IoU for binary segmentation.\n",
    "    :param model: neural network\n",
    "    :param dataloader: Torch Dataloader\n",
    "    :param device: device on which to perform the evaluation\n",
    "    :return: mean IoU\n",
    "    \"\"\"\n",
    "    mean_iou_metric = MeanIoU(include_background=True, reduction=\"mean\")\n",
    "    activation = Activations(sigmoid=True)\n",
    "    discretize = AsDiscrete(threshold=0.5)\n",
    "\n",
    "    model.eval()\n",
    "    with torch.no_grad():\n",
    "        for inputs, targets in tqdm(dataloader):\n",
    "            inputs, targets = inputs.to(device), targets.to(device)\n",
    "\n",
    "            outputs = model(inputs)\n",
    "            preds = activation(outputs)\n",
    "            preds = discretize(preds)\n",
    "\n",
    "            mean_iou_metric(y_pred=preds, y=targets)\n",
    "\n",
    "    mean_iou = mean_iou_metric.aggregate().item()\n",
    "    print(f\"Mean IoU: {mean_iou}\")\n",
    "    return mean_iou\n"
   ]
  },
  {
   "cell_type": "code",
   "execution_count": 25,
   "id": "61ac7973-cbe6-4afa-99ef-5048f91fa5af",
   "metadata": {},
   "outputs": [
    {
     "name": "stderr",
     "output_type": "stream",
     "text": [
      "100%|██████████| 16/16 [01:51<00:00,  6.96s/it]"
     ]
    },
    {
     "name": "stdout",
     "output_type": "stream",
     "text": [
      "Mean IoU: 0.5403781533241272\n"
     ]
    },
    {
     "name": "stderr",
     "output_type": "stream",
     "text": [
      "\n"
     ]
    },
    {
     "data": {
      "text/plain": [
       "0.5403781533241272"
      ]
     },
     "execution_count": 25,
     "metadata": {},
     "output_type": "execute_result"
    }
   ],
   "source": [
    "evaluate_binary_mean_iou(net, test_dataloader, device)"
   ]
  }
 ],
 "metadata": {
  "kernelspec": {
   "display_name": "Python 3 (ipykernel)",
   "language": "python",
   "name": "python3"
  },
  "language_info": {
   "codemirror_mode": {
    "name": "ipython",
    "version": 3
   },
   "file_extension": ".py",
   "mimetype": "text/x-python",
   "name": "python",
   "nbconvert_exporter": "python",
   "pygments_lexer": "ipython3",
   "version": "3.11.0rc1"
  }
 },
 "nbformat": 4,
 "nbformat_minor": 5
}
