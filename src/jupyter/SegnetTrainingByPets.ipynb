{
 "cells": [
  {
   "cell_type": "markdown",
   "id": "b6bd52cc-d948-4322-ba2a-b739b10e7376",
   "metadata": {},
   "source": [
    "# Studienarbeit ComputerVision 2\n",
    "## Differences and Limitations of Unet and SegNet"
   ]
  },
  {
   "cell_type": "markdown",
   "id": "191df47b-5a2f-4ff0-a252-ab381b5c3bef",
   "metadata": {},
   "source": [
    "---"
   ]
  },
  {
   "cell_type": "code",
   "execution_count": 16,
   "id": "7ab76b26-1ad6-4340-b2c4-4282a398fa79",
   "metadata": {},
   "outputs": [],
   "source": [
    "# relevant imports\n",
    "from torch import nn, optim\n",
    "from torchsummary import summary\n",
    "from torchvision.transforms import transforms\n",
    "from PIL import Image\n",
    "from ray.train import Checkpoint\n",
    "from torch.optim.lr_scheduler import OneCycleLR\n",
    "from tqdm import tqdm\n",
    "from typing import List\n",
    "from matplotlib import pyplot as plt\n",
    "import pandas as pd\n",
    "from ray.air import session\n",
    "from pathlib import Path\n",
    "from torch.utils.data import random_split\n",
    "from torchvision.datasets import OxfordIIITPet\n",
    "import torchvision.transforms.functional as F\n",
    "import torch\n",
    "import torchmetrics as TM\n",
    "from torch.utils.data import DataLoader\n",
    "import os"
   ]
  },
  {
   "cell_type": "markdown",
   "id": "5ec33212-8e8b-49fb-9437-051e5432f500",
   "metadata": {},
   "source": [
    "#### Modelarchitecture\n",
    "![segnet_graph.png](https://production-media.paperswithcode.com/methods/segnet_Vorazx7.png)\n"
   ]
  },
  {
   "cell_type": "code",
   "execution_count": 17,
   "id": "3cc53f0d-2c01-4073-9627-be207eeb048b",
   "metadata": {},
   "outputs": [],
   "source": [
    "class SegNet(nn.Module):\n",
    "    def __init__(self, input_size, output_size):\n",
    "        super(SegNet, self).__init__()\n",
    "\n",
    "        # Encoder Blocks\n",
    "        self.encoder_block_1 = SegNet._conv_block(input_size, 32)\n",
    "        self.max_pool_1 = nn.MaxPool2d(kernel_size=2, stride=2, return_indices=True)\n",
    "\n",
    "        self.encoder_block_2 = SegNet._conv_block(32, 64)\n",
    "        self.max_pool_2 = nn.MaxPool2d(kernel_size=2, stride=2, return_indices=True)\n",
    "\n",
    "        self.encoder_block_3 = SegNet._conv_block(64, 128)\n",
    "        self.max_pool_3 = nn.MaxPool2d(kernel_size=2, stride=2, return_indices=True)\n",
    "\n",
    "        self.encoder_block_4 = SegNet._conv_block(128, 256)\n",
    "        self.max_pool_4 = nn.MaxPool2d(kernel_size=2, stride=2, return_indices=True)\n",
    "\n",
    "        # Bottleneck\n",
    "        self.bottle_neck_block_1 = SegNet._conv_block(256, 512)\n",
    "        self.max_pool_5 = nn.MaxPool2d(kernel_size=2, stride=2, return_indices=True)\n",
    "        self.max_unpool = nn.MaxUnpool2d(kernel_size=2, stride=2)\n",
    "\n",
    "        # Decoder Blocks\n",
    "        self.decoder_block_5 = SegNet._conv_block(512, 256)\n",
    "\n",
    "        self.unpool_block_4 = nn.MaxUnpool2d(kernel_size=2, stride=2)\n",
    "        self.decoder_block_4 = SegNet._conv_block(256, 128)\n",
    "\n",
    "        self.unpool_block_3 = nn.MaxUnpool2d(kernel_size=2, stride=2)\n",
    "        self.decoder_block_3 = SegNet._conv_block(128, 64)\n",
    "\n",
    "        self.unpool_block_2 = nn.MaxUnpool2d(kernel_size=2, stride=2)\n",
    "        self.decoder_block_2 = SegNet._conv_block(64, 32)\n",
    "\n",
    "        self.unpool_block_1 = nn.MaxUnpool2d(kernel_size=2, stride=2)\n",
    "        self.decoder_block_1 = SegNet._conv_block(32, 32)\n",
    "\n",
    "        self.fc = nn.Conv2d(32, output_size, kernel_size=1)\n",
    "\n",
    "    def forward(self, x):\n",
    "        e1 = self.encoder_block_1(x)\n",
    "        e1_1, i1 = self.max_pool_1(e1)\n",
    "\n",
    "        e2 = self.encoder_block_2(e1_1)\n",
    "        e2_1, i2 = self.max_pool_2(e2)\n",
    "\n",
    "        e3 = self.encoder_block_3(e2_1)\n",
    "        e3_1, i3 = self.max_pool_3(e3)\n",
    "\n",
    "        e4 = self.encoder_block_4(e3_1)\n",
    "        e4_1, i4 = self.max_pool_4(e4)\n",
    "\n",
    "        b = self.bottle_neck_block_1(e4_1)\n",
    "        b, i5 = self.max_pool_5(b)\n",
    "        b_unpool = self.max_unpool(b, i5)\n",
    "        b = self.decoder_block_5(b_unpool)\n",
    "\n",
    "        d4 = self.unpool_block_4(b, i4)\n",
    "        d4 = self.decoder_block_4(d4)\n",
    "\n",
    "        d3 = self.unpool_block_3(d4, i3)\n",
    "        d3 = self.decoder_block_3(d3)\n",
    "\n",
    "        d2 = self.unpool_block_2(d3, i2)\n",
    "        d2 = self.decoder_block_2(d2)\n",
    "\n",
    "        d1 = self.unpool_block_1(d2, i1)\n",
    "        d1 = self.decoder_block_1(d1)\n",
    "\n",
    "        return self.fc(d1)\n",
    "\n",
    "\n",
    "    @staticmethod\n",
    "    def _conv_block(input_size, output_size):\n",
    "        return nn.Sequential(\n",
    "            nn.Conv2d(input_size, output_size, kernel_size=3, padding=1, bias=False),\n",
    "            nn.BatchNorm2d(output_size),\n",
    "            nn.ReLU(inplace=True),\n",
    "            nn.Conv2d(output_size, output_size, kernel_size=3, padding=1, bias=False),\n",
    "            nn.BatchNorm2d(output_size),\n",
    "            nn.ReLU(inplace=True))"
   ]
  },
  {
   "cell_type": "code",
   "execution_count": 3,
   "id": "8444eb7e-d2f9-4fa7-8cb7-14e4d7b3f48f",
   "metadata": {},
   "outputs": [
    {
     "name": "stdout",
     "output_type": "stream",
     "text": [
      "----------------------------------------------------------------\n",
      "        Layer (type)               Output Shape         Param #\n",
      "================================================================\n",
      "            Conv2d-1         [-1, 32, 256, 256]             864\n",
      "       BatchNorm2d-2         [-1, 32, 256, 256]              64\n",
      "              ReLU-3         [-1, 32, 256, 256]               0\n",
      "            Conv2d-4         [-1, 32, 256, 256]           9,216\n",
      "       BatchNorm2d-5         [-1, 32, 256, 256]              64\n",
      "              ReLU-6         [-1, 32, 256, 256]               0\n",
      "         MaxPool2d-7  [[-1, 32, 128, 128], [-1, 32, 128, 128]]               0\n",
      "            Conv2d-8         [-1, 64, 128, 128]          18,432\n",
      "       BatchNorm2d-9         [-1, 64, 128, 128]             128\n",
      "             ReLU-10         [-1, 64, 128, 128]               0\n",
      "           Conv2d-11         [-1, 64, 128, 128]          36,864\n",
      "      BatchNorm2d-12         [-1, 64, 128, 128]             128\n",
      "             ReLU-13         [-1, 64, 128, 128]               0\n",
      "        MaxPool2d-14  [[-1, 64, 64, 64], [-1, 64, 64, 64]]               0\n",
      "           Conv2d-15          [-1, 128, 64, 64]          73,728\n",
      "      BatchNorm2d-16          [-1, 128, 64, 64]             256\n",
      "             ReLU-17          [-1, 128, 64, 64]               0\n",
      "           Conv2d-18          [-1, 128, 64, 64]         147,456\n",
      "      BatchNorm2d-19          [-1, 128, 64, 64]             256\n",
      "             ReLU-20          [-1, 128, 64, 64]               0\n",
      "        MaxPool2d-21  [[-1, 128, 32, 32], [-1, 128, 32, 32]]               0\n",
      "           Conv2d-22          [-1, 256, 32, 32]         294,912\n",
      "      BatchNorm2d-23          [-1, 256, 32, 32]             512\n",
      "             ReLU-24          [-1, 256, 32, 32]               0\n",
      "           Conv2d-25          [-1, 256, 32, 32]         589,824\n",
      "      BatchNorm2d-26          [-1, 256, 32, 32]             512\n",
      "             ReLU-27          [-1, 256, 32, 32]               0\n",
      "        MaxPool2d-28  [[-1, 256, 16, 16], [-1, 256, 16, 16]]               0\n",
      "           Conv2d-29          [-1, 512, 16, 16]       1,179,648\n",
      "      BatchNorm2d-30          [-1, 512, 16, 16]           1,024\n",
      "             ReLU-31          [-1, 512, 16, 16]               0\n",
      "           Conv2d-32          [-1, 512, 16, 16]       2,359,296\n",
      "      BatchNorm2d-33          [-1, 512, 16, 16]           1,024\n",
      "             ReLU-34          [-1, 512, 16, 16]               0\n",
      "        MaxPool2d-35  [[-1, 512, 8, 8], [-1, 512, 8, 8]]               0\n",
      "      MaxUnpool2d-36          [-1, 512, 16, 16]               0\n",
      "           Conv2d-37          [-1, 256, 16, 16]       1,179,648\n",
      "      BatchNorm2d-38          [-1, 256, 16, 16]             512\n",
      "             ReLU-39          [-1, 256, 16, 16]               0\n",
      "           Conv2d-40          [-1, 256, 16, 16]         589,824\n",
      "      BatchNorm2d-41          [-1, 256, 16, 16]             512\n",
      "             ReLU-42          [-1, 256, 16, 16]               0\n",
      "      MaxUnpool2d-43          [-1, 256, 32, 32]               0\n",
      "           Conv2d-44          [-1, 128, 32, 32]         294,912\n",
      "      BatchNorm2d-45          [-1, 128, 32, 32]             256\n",
      "             ReLU-46          [-1, 128, 32, 32]               0\n",
      "           Conv2d-47          [-1, 128, 32, 32]         147,456\n",
      "      BatchNorm2d-48          [-1, 128, 32, 32]             256\n",
      "             ReLU-49          [-1, 128, 32, 32]               0\n",
      "      MaxUnpool2d-50          [-1, 128, 64, 64]               0\n",
      "           Conv2d-51           [-1, 64, 64, 64]          73,728\n",
      "      BatchNorm2d-52           [-1, 64, 64, 64]             128\n",
      "             ReLU-53           [-1, 64, 64, 64]               0\n",
      "           Conv2d-54           [-1, 64, 64, 64]          36,864\n",
      "      BatchNorm2d-55           [-1, 64, 64, 64]             128\n",
      "             ReLU-56           [-1, 64, 64, 64]               0\n",
      "      MaxUnpool2d-57         [-1, 64, 128, 128]               0\n",
      "           Conv2d-58         [-1, 32, 128, 128]          18,432\n",
      "      BatchNorm2d-59         [-1, 32, 128, 128]              64\n",
      "             ReLU-60         [-1, 32, 128, 128]               0\n",
      "           Conv2d-61         [-1, 32, 128, 128]           9,216\n",
      "      BatchNorm2d-62         [-1, 32, 128, 128]              64\n",
      "             ReLU-63         [-1, 32, 128, 128]               0\n",
      "      MaxUnpool2d-64         [-1, 32, 256, 256]               0\n",
      "           Conv2d-65         [-1, 32, 256, 256]           9,216\n",
      "      BatchNorm2d-66         [-1, 32, 256, 256]              64\n",
      "             ReLU-67         [-1, 32, 256, 256]               0\n",
      "           Conv2d-68         [-1, 32, 256, 256]           9,216\n",
      "      BatchNorm2d-69         [-1, 32, 256, 256]              64\n",
      "             ReLU-70         [-1, 32, 256, 256]               0\n",
      "           Conv2d-71          [-1, 1, 256, 256]              33\n",
      "================================================================\n",
      "Total params: 7,084,801\n",
      "Trainable params: 7,084,801\n",
      "Non-trainable params: 0\n",
      "----------------------------------------------------------------\n",
      "Input size (MB): 0.75\n",
      "Forward/backward pass size (MB): 2793113.50\n",
      "Params size (MB): 27.03\n",
      "Estimated Total Size (MB): 2793141.28\n",
      "----------------------------------------------------------------\n"
     ]
    }
   ],
   "source": [
    "segnet = SegNet(3, 1)\n",
    "segnet.cuda()\n",
    "summary(segnet, (3, 256, 256))"
   ]
  },
  {
   "cell_type": "markdown",
   "id": "05b15f52-370d-49b7-9a67-cc5bee169d28",
   "metadata": {},
   "source": [
    "---"
   ]
  },
  {
   "cell_type": "markdown",
   "id": "aa78f9fd-82ed-4643-b4f8-bff1806878e7",
   "metadata": {},
   "source": [
    "#### Datapreparation"
   ]
  },
  {
   "cell_type": "code",
   "execution_count": 18,
   "id": "125ee591-1274-47e2-a764-06a241474253",
   "metadata": {},
   "outputs": [],
   "source": [
    "transform_image = transforms.Compose([\n",
    "    transforms.Resize((256, 256), interpolation=Image.BILINEAR),\n",
    "    transforms.ToTensor(),\n",
    "    transforms.Normalize([.5, .5, .5], [.5, .5, .5]),\n",
    "])\n",
    "\n",
    "transform_mask = transforms.Compose([\n",
    "    transforms.Resize((256, 256), interpolation=Image.NEAREST),\n",
    "    transforms.PILToTensor(),\n",
    "    transforms.Lambda(lambda mask: mask - 1),\n",
    "])\n",
    "\n",
    "class SynchronizedOxfordIIITPet(OxfordIIITPet):\n",
    "    def __init__(self, **kwargs):\n",
    "        super().__init__(**kwargs)\n",
    "        \n",
    "    def __getitem__(self, index):\n",
    "        image, mask = super().__getitem__(index)\n",
    "\n",
    "        if torch.rand(1) < .5:\n",
    "            i, j, h, w = transforms.RandomResizedCrop.get_params(image, (.8, 1.0), (3.0 / 4.0, 4.0 / 3.0))\n",
    "            image, mask = F.resized_crop(image, i, j, h, w, (256, 256)), F.resized_crop(mask, i, j, h, w, (256, 256), Image.NEAREST)\n",
    "        if torch.rand(1) < .5:\n",
    "            image, mask = F.hflip(image), F.hflip(mask)\n",
    "        if torch.rand(1) < .5:\n",
    "            image, mask = F.vflip(image), F.vflip(mask)\n",
    "\n",
    "        return image, mask"
   ]
  },
  {
   "cell_type": "code",
   "execution_count": 19,
   "id": "ca235cf0-fdbf-4265-a821-fb7c58e3f6e8",
   "metadata": {},
   "outputs": [],
   "source": [
    "dataset = SynchronizedOxfordIIITPet(\n",
    "    root=\"~/res\",\n",
    "    split=\"trainval\",\n",
    "    target_types=[\"segmentation\"],\n",
    "    download=True,\n",
    "    transform=transform_image,\n",
    "    target_transform=transform_mask\n",
    ")\n",
    "\n",
    "train_size = int(0.8 * len(dataset))\n",
    "val_size = len(dataset) - train_size\n",
    "\n",
    "torch.manual_seed(42)\n",
    "train_dataset, val_dataset = random_split(dataset, [train_size, val_size])\n",
    "\n",
    "test_dataset = OxfordIIITPet(\n",
    "    root=\"~/res\",\n",
    "    split=\"test\",\n",
    "    target_types=[\"segmentation\"],\n",
    "    download=True,\n",
    "    transform=transform_image,\n",
    "    target_transform=transform_mask\n",
    ")"
   ]
  },
  {
   "cell_type": "code",
   "execution_count": 37,
   "id": "34731bb0-54ed-44c7-9fa6-babe3bd69502",
   "metadata": {},
   "outputs": [
    {
     "name": "stderr",
     "output_type": "stream",
     "text": [
      "Clipping input data to the valid range for imshow with RGB data ([0..1] for floats or [0..255] for integers). Got range [-0.8595948..1.0].\n"
     ]
    },
    {
     "data": {
      "image/png": "[encoded data removed]",
      "text/plain": [
       "<Figure size 640x480 with 1 Axes>"
      ]
     },
     "metadata": {},
     "output_type": "display_data"
    },
    {
     "data": {
      "text/plain": [
       "<matplotlib.image.AxesImage at 0x7f8c5ceb1ad0>"
      ]
     },
     "execution_count": 37,
     "metadata": {},
     "output_type": "execute_result"
    },
    {
     "data": {
      "image/png": "[encoded data removed]",
      "text/plain": [
       "<Figure size 640x480 with 1 Axes>"
      ]
     },
     "metadata": {},
     "output_type": "display_data"
    }
   ],
   "source": [
    "i, m = train_dataset[1]\n",
    "plt.imshow(i.permute(1,2,0))\n",
    "plt.show()\n",
    "plt.imshow(m[0])"
   ]
  },
  {
   "cell_type": "code",
   "execution_count": 52,
   "id": "5d6f5cd2-5fdc-4d2b-9440-e64ababe5f2e",
   "metadata": {},
   "outputs": [
    {
     "data": {
      "text/plain": [
       "['Abyssinian',\n",
       " 'American Bulldog',\n",
       " 'American Pit Bull Terrier',\n",
       " 'Basset Hound',\n",
       " 'Beagle',\n",
       " 'Bengal',\n",
       " 'Birman',\n",
       " 'Bombay',\n",
       " 'Boxer',\n",
       " 'British Shorthair',\n",
       " 'Chihuahua',\n",
       " 'Egyptian Mau',\n",
       " 'English Cocker Spaniel',\n",
       " 'English Setter',\n",
       " 'German Shorthaired',\n",
       " 'Great Pyrenees',\n",
       " 'Havanese',\n",
       " 'Japanese Chin',\n",
       " 'Keeshond',\n",
       " 'Leonberger',\n",
       " 'Maine Coon',\n",
       " 'Miniature Pinscher',\n",
       " 'Newfoundland',\n",
       " 'Persian',\n",
       " 'Pomeranian',\n",
       " 'Pug',\n",
       " 'Ragdoll',\n",
       " 'Russian Blue',\n",
       " 'Saint Bernard',\n",
       " 'Samoyed',\n",
       " 'Scottish Terrier',\n",
       " 'Shiba Inu',\n",
       " 'Siamese',\n",
       " 'Sphynx',\n",
       " 'Staffordshire Bull Terrier',\n",
       " 'Wheaten Terrier',\n",
       " 'Yorkshire Terrier']"
      ]
     },
     "execution_count": 52,
     "metadata": {},
     "output_type": "execute_result"
    }
   ],
   "source": [
    "dataset.classes"
   ]
  },
  {
   "cell_type": "markdown",
   "id": "4eabf307-9f11-4041-99c0-a433f2b16cac",
   "metadata": {},
   "source": [
    "---"
   ]
  },
  {
   "cell_type": "markdown",
   "id": "66e43d57-1110-43c9-bfeb-97714207c59e",
   "metadata": {},
   "source": [
    "#### Training"
   ]
  },
  {
   "cell_type": "code",
   "execution_count": 38,
   "id": "667017bc-d091-4eb2-b1f3-b7537eb77382",
   "metadata": {},
   "outputs": [],
   "source": [
    "def validation_loop(model: nn.Module, validation_dataloader: DataLoader, loss_fn, device) -> float:\n",
    "    \"\"\"\n",
    "    Validation loop for the CNN\n",
    "    :param model: neural network\n",
    "    :param validation_dataloader: dataloader for the validation set\n",
    "    :param loss_fn: loss function\n",
    "    :param device: device on which to perform the validation\n",
    "    :return: validation loss\n",
    "    \"\"\"\n",
    "    running_val_loss: float = 0.\n",
    "    model.eval()\n",
    "    with torch.no_grad():\n",
    "        for i, vdata in enumerate(validation_dataloader):\n",
    "            inputs, targets = vdata\n",
    "            inputs, targets = inputs.to(device), targets.squeeze(1).long().to(device)\n",
    "\n",
    "            vloss = loss_fn(model(inputs), targets)\n",
    "            running_val_loss += vloss.item()\n",
    "        running_val_loss /= (i + 1)\n",
    "\n",
    "    return running_val_loss"
   ]
  },
  {
   "cell_type": "code",
   "execution_count": 39,
   "id": "ea8e017f-6315-4e31-bf0f-9000bf612b30",
   "metadata": {},
   "outputs": [],
   "source": [
    "def train_loop(model: nn.Module, train_dataloader: DataLoader, loss_fn, optimizer, device) -> float:\n",
    "    \"\"\"\n",
    "    Main minibatch train loop for the CNN\n",
    "    :param model: neural network\n",
    "    :param train_dataloader: dataloader for the train set\n",
    "    :param loss_fn: loss function\n",
    "    :param optimizer: optimizer\n",
    "    :param device: device on which to perform the training\n",
    "    :return: train loss\n",
    "    \"\"\"\n",
    "    running_tr_loss: float = 0.\n",
    "    for i, data in enumerate(train_dataloader):\n",
    "        inputs, targets = data\n",
    "        inputs, targets = inputs.to(device), targets.squeeze(1).long().to(device)\n",
    "\n",
    "        yhats = model(inputs)\n",
    "        optimizer.zero_grad()\n",
    "        tloss = loss_fn(yhats, targets)\n",
    "\n",
    "        tloss.backward()\n",
    "        optimizer.step()\n",
    "\n",
    "        running_tr_loss += tloss.item()\n",
    "    running_tr_loss /= (i + 1)\n",
    "\n",
    "    return running_tr_loss"
   ]
  },
  {
   "cell_type": "code",
   "execution_count": 40,
   "id": "628a98f2-f4ab-49da-8faa-dd3d6d1086c1",
   "metadata": {},
   "outputs": [],
   "source": [
    "def train_segnet(\n",
    "        config: dict,\n",
    "        train_dataset,\n",
    "        validation_dataset,\n",
    "        epochs: int,\n",
    "        apply_scheduler: bool = True,\n",
    "        return_flag: bool = False) -> dict | None:\n",
    "    \"\"\"\n",
    "    Prepared train loop for ray parameter tuning.\n",
    "    Training components:\n",
    "        - model: CNN\n",
    "        - loss function: CrossEntropyLoss\n",
    "        - optimizer: Adam\n",
    "        - scheduler: ExponentialLR (optional)\n",
    "\n",
    "    :param config: dict of hyperparameters\n",
    "    :param train_dataset:\n",
    "    :param validation_dataset:\n",
    "    :param epochs: number of epochs to train\n",
    "    :param apply_scheduler: weather scheduler should be used or not\n",
    "    :param return_flag: weather to return the model and losses or not\n",
    "    :return: training results\n",
    "    \"\"\"\n",
    "\n",
    "    device: torch.device = torch.device('cuda:6' if torch.cuda.is_available() else 'cpu')\n",
    "    print(device)\n",
    "    model: nn.Module = SegNet(3, 3).to(device)\n",
    "\n",
    "    loss_fn = nn.CrossEntropyLoss()\n",
    "\n",
    "    optim_params: dict = {\n",
    "        'lr': config[\"lr\"],\n",
    "    }\n",
    "    optimizer: optim.Adam = optim.Adam(model.parameters(), **optim_params)\n",
    "\n",
    "        \n",
    "    train_dataloader: DataLoader = DataLoader(train_dataset, batch_size=64, shuffle=True, num_workers=4)\n",
    "    validation_dataloader: DataLoader = DataLoader(validation_dataset, batch_size=64, shuffle=False, num_workers=4)\n",
    "    \n",
    "    scheduler = OneCycleLR(optimizer, max_lr=0.1, steps_per_epoch=len(train_dataloader), epochs=epochs, pct_start=0.3)\n",
    "\n",
    "    train_losses: List[float] = []\n",
    "    val_losses: List[float] = []\n",
    "\n",
    "    print('Start training...')\n",
    "    for epoch in tqdm(range(epochs)):\n",
    "        print('Start: ', epoch)\n",
    "        model.train()\n",
    "\n",
    "        # Train loop to iterate over the dataloader batches\n",
    "        running_tr_loss: float = train_loop(model, train_dataloader, loss_fn, optimizer, device)\n",
    "        if apply_scheduler:\n",
    "            scheduler.step()\n",
    "\n",
    "        # Validation loop\n",
    "        running_val_loss: float = validation_loop(model, validation_dataloader, loss_fn, device)\n",
    "\n",
    "        print(epoch, \" - \", 'tr_loss:', running_tr_loss, 'val_loss:', running_val_loss)\n",
    "        train_losses.append(running_tr_loss)\n",
    "        val_losses.append(running_val_loss)\n",
    "\n",
    "        # Save a checkpoint from the model\n",
    "        os.makedirs(\"res/model\", exist_ok=True)\n",
    "        torch.save(\n",
    "            (model.state_dict(), optimizer.state_dict()), \"res/model/checkpoint.pt\")\n",
    "        checkpoint: Checkpoint = Checkpoint.from_directory(\"res/model\")\n",
    "        session.report({\"val_loss\": running_val_loss,\n",
    "                        \"train_loss\": running_tr_loss}, checkpoint=checkpoint)\n",
    "\n",
    "    if return_flag:\n",
    "        return {\"train_losses\": train_losses,\n",
    "                \"val_losses\": val_losses,\n",
    "                \"model\": model}"
   ]
  },
  {
   "cell_type": "markdown",
   "id": "243e5f7f-1aaf-410b-92a6-b9c4a109154f",
   "metadata": {},
   "source": [
    "---"
   ]
  },
  {
   "cell_type": "markdown",
   "id": "3bf4ed1b-eb81-44b8-a03c-f72477b9cd37",
   "metadata": {},
   "source": [
    "#### Training with parameter"
   ]
  },
  {
   "cell_type": "code",
   "execution_count": 41,
   "id": "3492bacb-749a-44b1-be87-f434939cd06a",
   "metadata": {
    "scrolled": true
   },
   "outputs": [
    {
     "name": "stdout",
     "output_type": "stream",
     "text": [
      "cuda:6\n",
      "Start training...\n"
     ]
    },
    {
     "name": "stderr",
     "output_type": "stream",
     "text": [
      "  0%|          | 0/100 [00:00<?, ?it/s]"
     ]
    },
    {
     "name": "stdout",
     "output_type": "stream",
     "text": [
      "Start:  0\n",
      "0  -  tr_loss: 0.8587791012681049 val_loss: 1.1598797142505646\n"
     ]
    },
    {
     "name": "stderr",
     "output_type": "stream",
     "text": [
      "  1%|          | 1/100 [00:14<24:41, 14.96s/it]"
     ]
    },
    {
     "name": "stdout",
     "output_type": "stream",
     "text": [
      "Start:  1\n",
      "1  -  tr_loss: 0.7185405738975691 val_loss: 0.9319819758335749\n"
     ]
    },
    {
     "name": "stderr",
     "output_type": "stream",
     "text": [
      "  2%|▏         | 2/100 [00:30<24:42, 15.13s/it]"
     ]
    },
    {
     "name": "stdout",
     "output_type": "stream",
     "text": [
      "Start:  2\n",
      "2  -  tr_loss: 0.6775181552638179 val_loss: 0.7139444549878439\n"
     ]
    },
    {
     "name": "stderr",
     "output_type": "stream",
     "text": [
      "  3%|▎         | 3/100 [00:45<24:28, 15.13s/it]"
     ]
    },
    {
     "name": "stdout",
     "output_type": "stream",
     "text": [
      "Start:  3\n",
      "3  -  tr_loss: 0.6521480860917465 val_loss: 0.7105804334084193\n"
     ]
    },
    {
     "name": "stderr",
     "output_type": "stream",
     "text": [
      "  4%|▍         | 4/100 [01:00<24:29, 15.31s/it]"
     ]
    },
    {
     "name": "stdout",
     "output_type": "stream",
     "text": [
      "Start:  4\n",
      "4  -  tr_loss: 0.6284650175467782 val_loss: 0.6784665038188299\n"
     ]
    },
    {
     "name": "stderr",
     "output_type": "stream",
     "text": [
      "  5%|▌         | 5/100 [01:16<24:11, 15.28s/it]"
     ]
    },
    {
     "name": "stdout",
     "output_type": "stream",
     "text": [
      "Start:  5\n",
      "5  -  tr_loss: 0.6056479202664417 val_loss: 0.6201800853013992\n"
     ]
    },
    {
     "name": "stderr",
     "output_type": "stream",
     "text": [
      "  6%|▌         | 6/100 [01:31<23:49, 15.20s/it]"
     ]
    },
    {
     "name": "stdout",
     "output_type": "stream",
     "text": [
      "Start:  6\n",
      "6  -  tr_loss: 0.5830001468243806 val_loss: 0.6014077663421631\n"
     ]
    },
    {
     "name": "stderr",
     "output_type": "stream",
     "text": [
      "  7%|▋         | 7/100 [01:45<23:18, 15.04s/it]"
     ]
    },
    {
     "name": "stdout",
     "output_type": "stream",
     "text": [
      "Start:  7\n",
      "7  -  tr_loss: 0.573460825111555 val_loss: 0.6050353993972143\n"
     ]
    },
    {
     "name": "stderr",
     "output_type": "stream",
     "text": [
      "  8%|▊         | 8/100 [02:00<23:01, 15.01s/it]"
     ]
    },
    {
     "name": "stdout",
     "output_type": "stream",
     "text": [
      "Start:  8\n",
      "8  -  tr_loss: 0.5589977088181869 val_loss: 0.6788757791121801\n"
     ]
    },
    {
     "name": "stderr",
     "output_type": "stream",
     "text": [
      "  9%|▉         | 9/100 [02:15<22:40, 14.96s/it]"
     ]
    },
    {
     "name": "stdout",
     "output_type": "stream",
     "text": [
      "Start:  9\n",
      "9  -  tr_loss: 0.5389710593482723 val_loss: 0.6426186760266622\n"
     ]
    },
    {
     "name": "stderr",
     "output_type": "stream",
     "text": [
      " 10%|█         | 10/100 [02:30<22:21, 14.90s/it]"
     ]
    },
    {
     "name": "stdout",
     "output_type": "stream",
     "text": [
      "Start:  10\n",
      "10  -  tr_loss: 0.5363360319448554 val_loss: 0.5486499220132828\n"
     ]
    },
    {
     "name": "stderr",
     "output_type": "stream",
     "text": [
      " 11%|█         | 11/100 [02:44<21:52, 14.75s/it]"
     ]
    },
    {
     "name": "stdout",
     "output_type": "stream",
     "text": [
      "Start:  11\n",
      "11  -  tr_loss: 0.507449680696363 val_loss: 0.848450298110644\n"
     ]
    },
    {
     "name": "stderr",
     "output_type": "stream",
     "text": [
      " 12%|█▏        | 12/100 [02:59<21:27, 14.63s/it]"
     ]
    },
    {
     "name": "stdout",
     "output_type": "stream",
     "text": [
      "Start:  12\n",
      "12  -  tr_loss: 0.5038481873014699 val_loss: 0.5196961785356203\n"
     ]
    },
    {
     "name": "stderr",
     "output_type": "stream",
     "text": [
      " 13%|█▎        | 13/100 [03:13<20:53, 14.41s/it]"
     ]
    },
    {
     "name": "stdout",
     "output_type": "stream",
     "text": [
      "Start:  13\n",
      "13  -  tr_loss: 0.4866824493460033 val_loss: 0.46858275681734085\n"
     ]
    },
    {
     "name": "stderr",
     "output_type": "stream",
     "text": [
      " 14%|█▍        | 14/100 [03:27<20:41, 14.43s/it]"
     ]
    },
    {
     "name": "stdout",
     "output_type": "stream",
     "text": [
      "Start:  14\n",
      "14  -  tr_loss: 0.4730691734863364 val_loss: 0.4728037466605504\n"
     ]
    },
    {
     "name": "stderr",
     "output_type": "stream",
     "text": [
      " 15%|█▌        | 15/100 [03:42<20:33, 14.51s/it]"
     ]
    },
    {
     "name": "stdout",
     "output_type": "stream",
     "text": [
      "Start:  15\n",
      "15  -  tr_loss: 0.4620537220135979 val_loss: 0.5288968135913213\n"
     ]
    },
    {
     "name": "stderr",
     "output_type": "stream",
     "text": [
      " 16%|█▌        | 16/100 [03:56<20:17, 14.49s/it]"
     ]
    },
    {
     "name": "stdout",
     "output_type": "stream",
     "text": [
      "Start:  16\n",
      "16  -  tr_loss: 0.4593119556489198 val_loss: 0.44406449794769287\n"
     ]
    },
    {
     "name": "stderr",
     "output_type": "stream",
     "text": [
      " 17%|█▋        | 17/100 [04:11<20:11, 14.60s/it]"
     ]
    },
    {
     "name": "stdout",
     "output_type": "stream",
     "text": [
      "Start:  17\n",
      "17  -  tr_loss: 0.43913022655507794 val_loss: 0.4366643726825714\n"
     ]
    },
    {
     "name": "stderr",
     "output_type": "stream",
     "text": [
      " 18%|█▊        | 18/100 [04:25<19:49, 14.50s/it]"
     ]
    },
    {
     "name": "stdout",
     "output_type": "stream",
     "text": [
      "Start:  18\n",
      "18  -  tr_loss: 0.4383913278579712 val_loss: 0.4874069218834241\n"
     ]
    },
    {
     "name": "stderr",
     "output_type": "stream",
     "text": [
      " 19%|█▉        | 19/100 [04:40<19:39, 14.57s/it]"
     ]
    },
    {
     "name": "stdout",
     "output_type": "stream",
     "text": [
      "Start:  19\n",
      "19  -  tr_loss: 0.4366725579552028 val_loss: 0.4646090194582939\n"
     ]
    },
    {
     "name": "stderr",
     "output_type": "stream",
     "text": [
      " 20%|██        | 20/100 [04:55<19:27, 14.60s/it]"
     ]
    },
    {
     "name": "stdout",
     "output_type": "stream",
     "text": [
      "Start:  20\n",
      "20  -  tr_loss: 0.4253041446208954 val_loss: 0.448451725145181\n"
     ]
    },
    {
     "name": "stderr",
     "output_type": "stream",
     "text": [
      " 21%|██        | 21/100 [05:09<19:15, 14.63s/it]"
     ]
    },
    {
     "name": "stdout",
     "output_type": "stream",
     "text": [
      "Start:  21\n",
      "21  -  tr_loss: 0.42524500774300616 val_loss: 0.43756436308224994\n"
     ]
    },
    {
     "name": "stderr",
     "output_type": "stream",
     "text": [
      " 22%|██▏       | 22/100 [05:24<18:54, 14.55s/it]"
     ]
    },
    {
     "name": "stdout",
     "output_type": "stream",
     "text": [
      "Start:  22\n",
      "22  -  tr_loss: 0.4069395616002705 val_loss: 0.41707494109869003\n"
     ]
    },
    {
     "name": "stderr",
     "output_type": "stream",
     "text": [
      " 23%|██▎       | 23/100 [05:38<18:42, 14.58s/it]"
     ]
    },
    {
     "name": "stdout",
     "output_type": "stream",
     "text": [
      "Start:  23\n",
      "23  -  tr_loss: 0.40701265179592633 val_loss: 0.4205951740344365\n"
     ]
    },
    {
     "name": "stderr",
     "output_type": "stream",
     "text": [
      " 24%|██▍       | 24/100 [05:53<18:29, 14.60s/it]"
     ]
    },
    {
     "name": "stdout",
     "output_type": "stream",
     "text": [
      "Start:  24\n",
      "24  -  tr_loss: 0.3981563053701235 val_loss: 0.3992264394958814\n"
     ]
    },
    {
     "name": "stderr",
     "output_type": "stream",
     "text": [
      " 25%|██▌       | 25/100 [06:07<18:07, 14.50s/it]"
     ]
    },
    {
     "name": "stdout",
     "output_type": "stream",
     "text": [
      "Start:  25\n",
      "25  -  tr_loss: 0.3974729413571565 val_loss: 0.41875874251127243\n"
     ]
    },
    {
     "name": "stderr",
     "output_type": "stream",
     "text": [
      " 26%|██▌       | 26/100 [06:22<18:04, 14.66s/it]"
     ]
    },
    {
     "name": "stdout",
     "output_type": "stream",
     "text": [
      "Start:  26\n",
      "26  -  tr_loss: 0.38773684138837067 val_loss: 0.3845818688472112\n"
     ]
    },
    {
     "name": "stderr",
     "output_type": "stream",
     "text": [
      " 27%|██▋       | 27/100 [06:37<17:45, 14.60s/it]"
     ]
    },
    {
     "name": "stdout",
     "output_type": "stream",
     "text": [
      "Start:  27\n",
      "27  -  tr_loss: 0.3768962893797004 val_loss: 0.3914189164837201\n"
     ]
    },
    {
     "name": "stderr",
     "output_type": "stream",
     "text": [
      " 28%|██▊       | 28/100 [06:51<17:26, 14.53s/it]"
     ]
    },
    {
     "name": "stdout",
     "output_type": "stream",
     "text": [
      "Start:  28\n",
      "28  -  tr_loss: 0.36542286237944727 val_loss: 0.3794749801357587\n"
     ]
    },
    {
     "name": "stderr",
     "output_type": "stream",
     "text": [
      " 29%|██▉       | 29/100 [07:06<17:13, 14.55s/it]"
     ]
    },
    {
     "name": "stdout",
     "output_type": "stream",
     "text": [
      "Start:  29\n",
      "29  -  tr_loss: 0.3593159564163374 val_loss: 0.4020423541466395\n"
     ]
    },
    {
     "name": "stderr",
     "output_type": "stream",
     "text": [
      " 30%|███       | 30/100 [07:21<17:08, 14.70s/it]"
     ]
    },
    {
     "name": "stdout",
     "output_type": "stream",
     "text": [
      "Start:  30\n",
      "30  -  tr_loss: 0.3652788588534231 val_loss: 0.37944430361191434\n"
     ]
    },
    {
     "name": "stderr",
     "output_type": "stream",
     "text": [
      " 31%|███       | 31/100 [07:36<16:56, 14.73s/it]"
     ]
    },
    {
     "name": "stdout",
     "output_type": "stream",
     "text": [
      "Start:  31\n",
      "31  -  tr_loss: 0.35983532602372376 val_loss: 0.373761847615242\n"
     ]
    },
    {
     "name": "stderr",
     "output_type": "stream",
     "text": [
      " 32%|███▏      | 32/100 [07:50<16:32, 14.60s/it]"
     ]
    },
    {
     "name": "stdout",
     "output_type": "stream",
     "text": [
      "Start:  32\n",
      "32  -  tr_loss: 0.3509216872246369 val_loss: 0.39294591297705966\n"
     ]
    },
    {
     "name": "stderr",
     "output_type": "stream",
     "text": [
      " 33%|███▎      | 33/100 [08:05<16:21, 14.65s/it]"
     ]
    },
    {
     "name": "stdout",
     "output_type": "stream",
     "text": [
      "Start:  33\n",
      "33  -  tr_loss: 0.348922196937644 val_loss: 0.4344171832005183\n"
     ]
    },
    {
     "name": "stderr",
     "output_type": "stream",
     "text": [
      " 34%|███▍      | 34/100 [08:20<16:11, 14.72s/it]"
     ]
    },
    {
     "name": "stdout",
     "output_type": "stream",
     "text": [
      "Start:  34\n",
      "34  -  tr_loss: 0.3383111163325932 val_loss: 0.37597138931353885\n"
     ]
    },
    {
     "name": "stderr",
     "output_type": "stream",
     "text": [
      " 35%|███▌      | 35/100 [08:34<15:46, 14.57s/it]"
     ]
    },
    {
     "name": "stdout",
     "output_type": "stream",
     "text": [
      "Start:  35\n",
      "35  -  tr_loss: 0.3411283201497534 val_loss: 0.3602490822474162\n"
     ]
    },
    {
     "name": "stderr",
     "output_type": "stream",
     "text": [
      " 36%|███▌      | 36/100 [08:48<15:32, 14.57s/it]"
     ]
    },
    {
     "name": "stdout",
     "output_type": "stream",
     "text": [
      "Start:  36\n",
      "36  -  tr_loss: 0.33055781799813977 val_loss: 0.3534875785311063\n"
     ]
    },
    {
     "name": "stderr",
     "output_type": "stream",
     "text": [
      " 37%|███▋      | 37/100 [09:03<15:16, 14.55s/it]"
     ]
    },
    {
     "name": "stdout",
     "output_type": "stream",
     "text": [
      "Start:  37\n",
      "37  -  tr_loss: 0.3233087859723879 val_loss: 0.3398175736268361\n"
     ]
    },
    {
     "name": "stderr",
     "output_type": "stream",
     "text": [
      " 38%|███▊      | 38/100 [09:18<15:07, 14.63s/it]"
     ]
    },
    {
     "name": "stdout",
     "output_type": "stream",
     "text": [
      "Start:  38\n",
      "38  -  tr_loss: 0.3225814998149872 val_loss: 0.35621345043182373\n"
     ]
    },
    {
     "name": "stderr",
     "output_type": "stream",
     "text": [
      " 39%|███▉      | 39/100 [09:33<14:57, 14.71s/it]"
     ]
    },
    {
     "name": "stdout",
     "output_type": "stream",
     "text": [
      "Start:  39\n",
      "39  -  tr_loss: 0.3247772053531978 val_loss: 0.3656979873776436\n"
     ]
    },
    {
     "name": "stderr",
     "output_type": "stream",
     "text": [
      " 40%|████      | 40/100 [09:48<14:45, 14.77s/it]"
     ]
    },
    {
     "name": "stdout",
     "output_type": "stream",
     "text": [
      "Start:  40\n",
      "40  -  tr_loss: 0.3231613759113395 val_loss: 0.34882285942633945\n"
     ]
    },
    {
     "name": "stderr",
     "output_type": "stream",
     "text": [
      " 41%|████      | 41/100 [10:02<14:26, 14.69s/it]"
     ]
    },
    {
     "name": "stdout",
     "output_type": "stream",
     "text": [
      "Start:  41\n",
      "41  -  tr_loss: 0.3104193307783293 val_loss: 0.32857292393843335\n"
     ]
    },
    {
     "name": "stderr",
     "output_type": "stream",
     "text": [
      " 42%|████▏     | 42/100 [10:17<14:12, 14.70s/it]"
     ]
    },
    {
     "name": "stdout",
     "output_type": "stream",
     "text": [
      "Start:  42\n",
      "42  -  tr_loss: 0.3018132338057394 val_loss: 0.33147916197776794\n"
     ]
    },
    {
     "name": "stderr",
     "output_type": "stream",
     "text": [
      " 43%|████▎     | 43/100 [10:31<13:56, 14.67s/it]"
     ]
    },
    {
     "name": "stdout",
     "output_type": "stream",
     "text": [
      "Start:  43\n",
      "43  -  tr_loss: 0.3026682864064756 val_loss: 0.32744644582271576\n"
     ]
    },
    {
     "name": "stderr",
     "output_type": "stream",
     "text": [
      " 44%|████▍     | 44/100 [10:46<13:39, 14.64s/it]"
     ]
    },
    {
     "name": "stdout",
     "output_type": "stream",
     "text": [
      "Start:  44\n",
      "44  -  tr_loss: 0.2938572732002839 val_loss: 0.32774323721726734\n"
     ]
    },
    {
     "name": "stderr",
     "output_type": "stream",
     "text": [
      " 45%|████▌     | 45/100 [11:01<13:29, 14.72s/it]"
     ]
    },
    {
     "name": "stdout",
     "output_type": "stream",
     "text": [
      "Start:  45\n",
      "45  -  tr_loss: 0.3015565794447194 val_loss: 0.34835410366455716\n"
     ]
    },
    {
     "name": "stderr",
     "output_type": "stream",
     "text": [
      " 46%|████▌     | 46/100 [11:16<13:14, 14.71s/it]"
     ]
    },
    {
     "name": "stdout",
     "output_type": "stream",
     "text": [
      "Start:  46\n",
      "46  -  tr_loss: 0.2959103396405344 val_loss: 0.33582445482412976\n"
     ]
    },
    {
     "name": "stderr",
     "output_type": "stream",
     "text": [
      " 47%|████▋     | 47/100 [11:30<12:55, 14.63s/it]"
     ]
    },
    {
     "name": "stdout",
     "output_type": "stream",
     "text": [
      "Start:  47\n",
      "47  -  tr_loss: 0.2874664946094803 val_loss: 0.3312142292658488\n"
     ]
    },
    {
     "name": "stderr",
     "output_type": "stream",
     "text": [
      " 48%|████▊     | 48/100 [11:45<12:49, 14.80s/it]"
     ]
    },
    {
     "name": "stdout",
     "output_type": "stream",
     "text": [
      "Start:  48\n",
      "48  -  tr_loss: 0.28459327344013297 val_loss: 0.33488108962774277\n"
     ]
    },
    {
     "name": "stderr",
     "output_type": "stream",
     "text": [
      " 49%|████▉     | 49/100 [12:00<12:37, 14.85s/it]"
     ]
    },
    {
     "name": "stdout",
     "output_type": "stream",
     "text": [
      "Start:  49\n",
      "49  -  tr_loss: 0.28436138545689377 val_loss: 0.3368586252133052\n"
     ]
    },
    {
     "name": "stderr",
     "output_type": "stream",
     "text": [
      " 50%|█████     | 50/100 [12:15<12:18, 14.76s/it]"
     ]
    },
    {
     "name": "stdout",
     "output_type": "stream",
     "text": [
      "Start:  50\n",
      "50  -  tr_loss: 0.28094970953205356 val_loss: 0.3524463127056758\n"
     ]
    },
    {
     "name": "stderr",
     "output_type": "stream",
     "text": [
      " 51%|█████     | 51/100 [12:29<12:01, 14.73s/it]"
     ]
    },
    {
     "name": "stdout",
     "output_type": "stream",
     "text": [
      "Start:  51\n",
      "51  -  tr_loss: 0.27905776999566867 val_loss: 0.32862015068531036\n"
     ]
    },
    {
     "name": "stderr",
     "output_type": "stream",
     "text": [
      " 52%|█████▏    | 52/100 [12:44<11:47, 14.73s/it]"
     ]
    },
    {
     "name": "stdout",
     "output_type": "stream",
     "text": [
      "Start:  52\n",
      "52  -  tr_loss: 0.2778379162368567 val_loss: 0.32552200307448703\n"
     ]
    },
    {
     "name": "stderr",
     "output_type": "stream",
     "text": [
      " 53%|█████▎    | 53/100 [12:59<11:32, 14.73s/it]"
     ]
    },
    {
     "name": "stdout",
     "output_type": "stream",
     "text": [
      "Start:  53\n",
      "53  -  tr_loss: 0.2751463641938956 val_loss: 0.3392922133207321\n"
     ]
    },
    {
     "name": "stderr",
     "output_type": "stream",
     "text": [
      " 54%|█████▍    | 54/100 [13:13<11:12, 14.61s/it]"
     ]
    },
    {
     "name": "stdout",
     "output_type": "stream",
     "text": [
      "Start:  54\n",
      "54  -  tr_loss: 0.2803405701466229 val_loss: 0.3227768838405609\n"
     ]
    },
    {
     "name": "stderr",
     "output_type": "stream",
     "text": [
      " 55%|█████▌    | 55/100 [13:27<10:53, 14.52s/it]"
     ]
    },
    {
     "name": "stdout",
     "output_type": "stream",
     "text": [
      "Start:  55\n",
      "55  -  tr_loss: 0.2652922855771106 val_loss: 0.3282250538468361\n"
     ]
    },
    {
     "name": "stderr",
     "output_type": "stream",
     "text": [
      " 56%|█████▌    | 56/100 [13:42<10:37, 14.50s/it]"
     ]
    },
    {
     "name": "stdout",
     "output_type": "stream",
     "text": [
      "Start:  56\n",
      "56  -  tr_loss: 0.26143880285646603 val_loss: 0.32513196518023807\n"
     ]
    },
    {
     "name": "stderr",
     "output_type": "stream",
     "text": [
      " 57%|█████▋    | 57/100 [13:57<10:32, 14.71s/it]"
     ]
    },
    {
     "name": "stdout",
     "output_type": "stream",
     "text": [
      "Start:  57\n",
      "57  -  tr_loss: 0.2650872323176135 val_loss: 0.3182034691174825\n"
     ]
    },
    {
     "name": "stderr",
     "output_type": "stream",
     "text": [
      " 58%|█████▊    | 58/100 [14:11<10:12, 14.59s/it]"
     ]
    },
    {
     "name": "stdout",
     "output_type": "stream",
     "text": [
      "Start:  58\n",
      "58  -  tr_loss: 0.2558027842770452 val_loss: 0.34833811471859616\n"
     ]
    },
    {
     "name": "stderr",
     "output_type": "stream",
     "text": [
      " 59%|█████▉    | 59/100 [14:26<09:56, 14.54s/it]"
     ]
    },
    {
     "name": "stdout",
     "output_type": "stream",
     "text": [
      "Start:  59\n",
      "59  -  tr_loss: 0.2579050880411397 val_loss: 0.31402982771396637\n"
     ]
    },
    {
     "name": "stderr",
     "output_type": "stream",
     "text": [
      " 60%|██████    | 60/100 [14:40<09:40, 14.50s/it]"
     ]
    },
    {
     "name": "stdout",
     "output_type": "stream",
     "text": [
      "Start:  60\n",
      "60  -  tr_loss: 0.25362366988607077 val_loss: 0.3162425756454468\n"
     ]
    },
    {
     "name": "stderr",
     "output_type": "stream",
     "text": [
      " 61%|██████    | 61/100 [14:54<09:20, 14.38s/it]"
     ]
    },
    {
     "name": "stdout",
     "output_type": "stream",
     "text": [
      "Start:  61\n",
      "61  -  tr_loss: 0.2444896247723828 val_loss: 0.3302346542477608\n"
     ]
    },
    {
     "name": "stderr",
     "output_type": "stream",
     "text": [
      " 62%|██████▏   | 62/100 [15:08<09:01, 14.26s/it]"
     ]
    },
    {
     "name": "stdout",
     "output_type": "stream",
     "text": [
      "Start:  62\n",
      "62  -  tr_loss: 0.23980939453062805 val_loss: 0.3204553971687953\n"
     ]
    },
    {
     "name": "stderr",
     "output_type": "stream",
     "text": [
      " 63%|██████▎   | 63/100 [15:23<08:48, 14.29s/it]"
     ]
    },
    {
     "name": "stdout",
     "output_type": "stream",
     "text": [
      "Start:  63\n",
      "63  -  tr_loss: 0.24151961958926657 val_loss: 0.29445432623227435\n"
     ]
    },
    {
     "name": "stderr",
     "output_type": "stream",
     "text": [
      " 64%|██████▍   | 64/100 [15:38<08:45, 14.59s/it]"
     ]
    },
    {
     "name": "stdout",
     "output_type": "stream",
     "text": [
      "Start:  64\n",
      "64  -  tr_loss: 0.24325554785521133 val_loss: 0.2946398506561915\n"
     ]
    },
    {
     "name": "stderr",
     "output_type": "stream",
     "text": [
      " 65%|██████▌   | 65/100 [15:53<08:33, 14.68s/it]"
     ]
    },
    {
     "name": "stdout",
     "output_type": "stream",
     "text": [
      "Start:  65\n",
      "65  -  tr_loss: 0.23867187357467154 val_loss: 0.3077914093931516\n"
     ]
    },
    {
     "name": "stderr",
     "output_type": "stream",
     "text": [
      " 66%|██████▌   | 66/100 [16:08<08:21, 14.76s/it]"
     ]
    },
    {
     "name": "stdout",
     "output_type": "stream",
     "text": [
      "Start:  66\n",
      "66  -  tr_loss: 0.23404793927203055 val_loss: 0.31956922511259717\n"
     ]
    },
    {
     "name": "stderr",
     "output_type": "stream",
     "text": [
      " 67%|██████▋   | 67/100 [16:23<08:10, 14.87s/it]"
     ]
    },
    {
     "name": "stdout",
     "output_type": "stream",
     "text": [
      "Start:  67\n",
      "67  -  tr_loss: 0.23578953483830328 val_loss: 0.3455594554543495\n"
     ]
    },
    {
     "name": "stderr",
     "output_type": "stream",
     "text": [
      " 68%|██████▊   | 68/100 [16:38<07:54, 14.84s/it]"
     ]
    },
    {
     "name": "stdout",
     "output_type": "stream",
     "text": [
      "Start:  68\n",
      "68  -  tr_loss: 0.2306311613191729 val_loss: 0.3247960607210795\n"
     ]
    },
    {
     "name": "stderr",
     "output_type": "stream",
     "text": [
      " 69%|██████▉   | 69/100 [16:52<07:36, 14.72s/it]"
     ]
    },
    {
     "name": "stdout",
     "output_type": "stream",
     "text": [
      "Start:  69\n",
      "69  -  tr_loss: 0.22651336666034616 val_loss: 0.30242271224657696\n"
     ]
    },
    {
     "name": "stderr",
     "output_type": "stream",
     "text": [
      " 70%|███████   | 70/100 [17:07<07:21, 14.73s/it]"
     ]
    },
    {
     "name": "stdout",
     "output_type": "stream",
     "text": [
      "Start:  70\n",
      "70  -  tr_loss: 0.23240237942208414 val_loss: 0.30133060241738957\n"
     ]
    },
    {
     "name": "stderr",
     "output_type": "stream",
     "text": [
      " 71%|███████   | 71/100 [17:21<07:03, 14.59s/it]"
     ]
    },
    {
     "name": "stdout",
     "output_type": "stream",
     "text": [
      "Start:  71\n",
      "71  -  tr_loss: 0.2213237599834152 val_loss: 0.3343251124024391\n"
     ]
    },
    {
     "name": "stderr",
     "output_type": "stream",
     "text": [
      " 72%|███████▏  | 72/100 [17:36<06:49, 14.63s/it]"
     ]
    },
    {
     "name": "stdout",
     "output_type": "stream",
     "text": [
      "Start:  72\n",
      "72  -  tr_loss: 0.21784778619590012 val_loss: 0.3068363169829051\n"
     ]
    },
    {
     "name": "stderr",
     "output_type": "stream",
     "text": [
      " 73%|███████▎  | 73/100 [17:51<06:42, 14.90s/it]"
     ]
    },
    {
     "name": "stdout",
     "output_type": "stream",
     "text": [
      "Start:  73\n",
      "73  -  tr_loss: 0.22150423086207846 val_loss: 0.3333551113804181\n"
     ]
    },
    {
     "name": "stderr",
     "output_type": "stream",
     "text": [
      " 74%|███████▍  | 74/100 [18:06<06:20, 14.65s/it]"
     ]
    },
    {
     "name": "stdout",
     "output_type": "stream",
     "text": [
      "Start:  74\n",
      "74  -  tr_loss: 0.22514026968375497 val_loss: 0.32185723384221393\n"
     ]
    },
    {
     "name": "stderr",
     "output_type": "stream",
     "text": [
      " 75%|███████▌  | 75/100 [18:20<06:07, 14.71s/it]"
     ]
    },
    {
     "name": "stdout",
     "output_type": "stream",
     "text": [
      "Start:  75\n",
      "75  -  tr_loss: 0.21604712339846985 val_loss: 0.30422932902971905\n"
     ]
    },
    {
     "name": "stderr",
     "output_type": "stream",
     "text": [
      " 76%|███████▌  | 76/100 [18:35<05:51, 14.64s/it]"
     ]
    },
    {
     "name": "stdout",
     "output_type": "stream",
     "text": [
      "Start:  76\n",
      "76  -  tr_loss: 0.22170991353366687 val_loss: 0.3200242618719737\n"
     ]
    },
    {
     "name": "stderr",
     "output_type": "stream",
     "text": [
      " 77%|███████▋  | 77/100 [18:50<05:39, 14.75s/it]"
     ]
    },
    {
     "name": "stdout",
     "output_type": "stream",
     "text": [
      "Start:  77\n",
      "77  -  tr_loss: 0.21745204374842023 val_loss: 0.3133889113863309\n"
     ]
    },
    {
     "name": "stderr",
     "output_type": "stream",
     "text": [
      " 78%|███████▊  | 78/100 [19:05<05:24, 14.75s/it]"
     ]
    },
    {
     "name": "stdout",
     "output_type": "stream",
     "text": [
      "Start:  78\n",
      "78  -  tr_loss: 0.21611164704613064 val_loss: 0.32604286322991055\n"
     ]
    },
    {
     "name": "stderr",
     "output_type": "stream",
     "text": [
      " 79%|███████▉  | 79/100 [19:19<05:06, 14.61s/it]"
     ]
    },
    {
     "name": "stdout",
     "output_type": "stream",
     "text": [
      "Start:  79\n",
      "79  -  tr_loss: 0.2159912119741025 val_loss: 0.32906503478686017\n"
     ]
    },
    {
     "name": "stderr",
     "output_type": "stream",
     "text": [
      " 80%|████████  | 80/100 [19:34<04:55, 14.80s/it]"
     ]
    },
    {
     "name": "stdout",
     "output_type": "stream",
     "text": [
      "Start:  80\n",
      "80  -  tr_loss: 0.21002457388069318 val_loss: 0.3262377604842186\n"
     ]
    },
    {
     "name": "stderr",
     "output_type": "stream",
     "text": [
      " 81%|████████  | 81/100 [19:48<04:37, 14.61s/it]"
     ]
    },
    {
     "name": "stdout",
     "output_type": "stream",
     "text": [
      "Start:  81\n",
      "81  -  tr_loss: 0.2041820796287578 val_loss: 0.30397411560018855\n"
     ]
    },
    {
     "name": "stderr",
     "output_type": "stream",
     "text": [
      " 82%|████████▏ | 82/100 [20:03<04:23, 14.63s/it]"
     ]
    },
    {
     "name": "stdout",
     "output_type": "stream",
     "text": [
      "Start:  82\n",
      "82  -  tr_loss: 0.2041374150177707 val_loss: 0.3328278462092082\n"
     ]
    },
    {
     "name": "stderr",
     "output_type": "stream",
     "text": [
      " 83%|████████▎ | 83/100 [20:18<04:12, 14.83s/it]"
     ]
    },
    {
     "name": "stdout",
     "output_type": "stream",
     "text": [
      "Start:  83\n",
      "83  -  tr_loss: 0.20047845853411633 val_loss: 0.3177981774012248\n"
     ]
    },
    {
     "name": "stderr",
     "output_type": "stream",
     "text": [
      " 84%|████████▍ | 84/100 [20:33<03:56, 14.79s/it]"
     ]
    },
    {
     "name": "stdout",
     "output_type": "stream",
     "text": [
      "Start:  84\n",
      "84  -  tr_loss: 0.19884505544019782 val_loss: 0.3133796751499176\n"
     ]
    },
    {
     "name": "stderr",
     "output_type": "stream",
     "text": [
      " 85%|████████▌ | 85/100 [20:48<03:41, 14.76s/it]"
     ]
    },
    {
     "name": "stdout",
     "output_type": "stream",
     "text": [
      "Start:  85\n",
      "85  -  tr_loss: 0.18977223142333652 val_loss: 0.3174045297006766\n"
     ]
    },
    {
     "name": "stderr",
     "output_type": "stream",
     "text": [
      " 86%|████████▌ | 86/100 [21:02<03:26, 14.76s/it]"
     ]
    },
    {
     "name": "stdout",
     "output_type": "stream",
     "text": [
      "Start:  86\n",
      "86  -  tr_loss: 0.18969258212524912 val_loss: 0.31185705463091534\n"
     ]
    },
    {
     "name": "stderr",
     "output_type": "stream",
     "text": [
      " 87%|████████▋ | 87/100 [21:17<03:10, 14.65s/it]"
     ]
    },
    {
     "name": "stdout",
     "output_type": "stream",
     "text": [
      "Start:  87\n",
      "87  -  tr_loss: 0.19183440992365713 val_loss: 0.3081632914642493\n"
     ]
    },
    {
     "name": "stderr",
     "output_type": "stream",
     "text": [
      " 88%|████████▊ | 88/100 [21:31<02:53, 14.49s/it]"
     ]
    },
    {
     "name": "stdout",
     "output_type": "stream",
     "text": [
      "Start:  88\n",
      "88  -  tr_loss: 0.19668934656226117 val_loss: 0.31383446604013443\n"
     ]
    },
    {
     "name": "stderr",
     "output_type": "stream",
     "text": [
      " 89%|████████▉ | 89/100 [21:46<02:40, 14.58s/it]"
     ]
    },
    {
     "name": "stdout",
     "output_type": "stream",
     "text": [
      "Start:  89\n",
      "89  -  tr_loss: 0.1911836664961732 val_loss: 0.30992043515046436\n"
     ]
    },
    {
     "name": "stderr",
     "output_type": "stream",
     "text": [
      " 90%|█████████ | 90/100 [22:00<02:24, 14.42s/it]"
     ]
    },
    {
     "name": "stdout",
     "output_type": "stream",
     "text": [
      "Start:  90\n",
      "90  -  tr_loss: 0.18782884562792984 val_loss: 0.3125678946574529\n"
     ]
    },
    {
     "name": "stderr",
     "output_type": "stream",
     "text": [
      " 91%|█████████ | 91/100 [22:15<02:11, 14.64s/it]"
     ]
    },
    {
     "name": "stdout",
     "output_type": "stream",
     "text": [
      "Start:  91\n",
      "91  -  tr_loss: 0.1827231554881386 val_loss: 0.3183044244845708\n"
     ]
    },
    {
     "name": "stderr",
     "output_type": "stream",
     "text": [
      " 92%|█████████▏| 92/100 [22:30<01:58, 14.75s/it]"
     ]
    },
    {
     "name": "stdout",
     "output_type": "stream",
     "text": [
      "Start:  92\n",
      "92  -  tr_loss: 0.18287715283424957 val_loss: 0.3144788568218549\n"
     ]
    },
    {
     "name": "stderr",
     "output_type": "stream",
     "text": [
      " 93%|█████████▎| 93/100 [22:44<01:42, 14.68s/it]"
     ]
    },
    {
     "name": "stdout",
     "output_type": "stream",
     "text": [
      "Start:  93\n",
      "93  -  tr_loss: 0.18733499685059424 val_loss: 0.31910059601068497\n"
     ]
    },
    {
     "name": "stderr",
     "output_type": "stream",
     "text": [
      " 94%|█████████▍| 94/100 [23:00<01:28, 14.80s/it]"
     ]
    },
    {
     "name": "stdout",
     "output_type": "stream",
     "text": [
      "Start:  94\n",
      "94  -  tr_loss: 0.18816205308489178 val_loss: 0.3376057023803393\n"
     ]
    },
    {
     "name": "stderr",
     "output_type": "stream",
     "text": [
      " 95%|█████████▌| 95/100 [23:14<01:13, 14.63s/it]"
     ]
    },
    {
     "name": "stdout",
     "output_type": "stream",
     "text": [
      "Start:  95\n",
      "95  -  tr_loss: 0.18452290542747662 val_loss: 0.327349287768205\n"
     ]
    },
    {
     "name": "stderr",
     "output_type": "stream",
     "text": [
      " 96%|█████████▌| 96/100 [23:28<00:57, 14.48s/it]"
     ]
    },
    {
     "name": "stdout",
     "output_type": "stream",
     "text": [
      "Start:  96\n",
      "96  -  tr_loss: 0.1817063922467439 val_loss: 0.307787150144577\n"
     ]
    },
    {
     "name": "stderr",
     "output_type": "stream",
     "text": [
      " 97%|█████████▋| 97/100 [23:43<00:43, 14.53s/it]"
     ]
    },
    {
     "name": "stdout",
     "output_type": "stream",
     "text": [
      "Start:  97\n",
      "97  -  tr_loss: 0.17528463381788004 val_loss: 0.32430756092071533\n"
     ]
    },
    {
     "name": "stderr",
     "output_type": "stream",
     "text": [
      " 98%|█████████▊| 98/100 [23:57<00:28, 14.50s/it]"
     ]
    },
    {
     "name": "stdout",
     "output_type": "stream",
     "text": [
      "Start:  98\n",
      "98  -  tr_loss: 0.1735486511303031 val_loss: 0.3100328780710697\n"
     ]
    },
    {
     "name": "stderr",
     "output_type": "stream",
     "text": [
      " 99%|█████████▉| 99/100 [24:12<00:14, 14.57s/it]"
     ]
    },
    {
     "name": "stdout",
     "output_type": "stream",
     "text": [
      "Start:  99\n",
      "99  -  tr_loss: 0.17586711534987326 val_loss: 0.324076883494854\n"
     ]
    },
    {
     "name": "stderr",
     "output_type": "stream",
     "text": [
      "100%|██████████| 100/100 [24:27<00:00, 14.67s/it]\n"
     ]
    }
   ],
   "source": [
    "config = {'lr': 0.001}\n",
    "\n",
    "res = train_segnet(config, train_dataset, val_dataset, 100, return_flag=True, apply_scheduler=True)"
   ]
  },
  {
   "cell_type": "code",
   "execution_count": 42,
   "id": "bf60e8ce-b2d9-426d-ab04-d52be27efb28",
   "metadata": {},
   "outputs": [],
   "source": [
    "val_losses = res['val_losses']\n",
    "tr_losses = res['train_losses']\n",
    "model = res['model']"
   ]
  },
  {
   "cell_type": "code",
   "execution_count": 43,
   "id": "8288c851-9e5b-491d-9867-f970307503cc",
   "metadata": {},
   "outputs": [
    {
     "data": {
      "image/png": "[encoded data removed]",
      "text/plain": [
       "<Figure size 640x480 with 1 Axes>"
      ]
     },
     "metadata": {},
     "output_type": "display_data"
    }
   ],
   "source": [
    "plt.plot(tr_losses)\n",
    "plt.plot(pd.Series(val_losses).rolling(10).mean(), color='g')\n",
    "plt.plot(val_losses, 'k+', alpha=0.3)\n",
    "plt.show()"
   ]
  },
  {
   "cell_type": "markdown",
   "id": "53ee403c-c0a8-40b5-94b9-dba1c1ec32b4",
   "metadata": {},
   "source": [
    "---"
   ]
  },
  {
   "cell_type": "markdown",
   "id": "0d383881-bd65-499e-9bd4-2a2cdfc76f57",
   "metadata": {},
   "source": [
    "#### Evaluation"
   ]
  },
  {
   "cell_type": "code",
   "execution_count": 44,
   "id": "7ce30622-ea40-4b68-b31d-2fa7d4676558",
   "metadata": {},
   "outputs": [],
   "source": [
    "torch.save(model, '../../res/checkpoints/segnet_pets_full.pt')\n",
    "torch.save(model.state_dict(), '../../res/checkpoints/segnet_pets.pt')"
   ]
  },
  {
   "cell_type": "code",
   "execution_count": 20,
   "id": "6db281e3-b8b5-4ad3-ada7-bce6954c9386",
   "metadata": {},
   "outputs": [],
   "source": [
    "def load_checkpoint(path: Path, model: torch.nn.Module) -> torch.nn.Module:\n",
    "    \"\"\"\n",
    "    Helper method to load a model from a checkpoint\n",
    "    :param path: path to checkpoint\n",
    "    :param model: model which should use the checkpoint\n",
    "    :return: loaded model\n",
    "    \"\"\"\n",
    "    device: torch.device = torch.device('cuda:0' if torch.cuda.is_available() else 'cpu')\n",
    "\n",
    "    checkpoint = torch.load(path, map_location=device, weights_only=True)\n",
    "    model.load_state_dict(checkpoint)\n",
    "    return model"
   ]
  },
  {
   "cell_type": "code",
   "execution_count": 21,
   "id": "96e918bf-c8ed-4bb1-8b70-21e8be6d472a",
   "metadata": {},
   "outputs": [],
   "source": [
    "test_dataloader = DataLoader(test_dataset, batch_size=64, shuffle=False)\n",
    "device: torch.device = torch.device('cuda:0' if torch.cuda.is_available() else 'cpu')\n",
    "net = SegNet(3, 3).to(device)\n",
    "\n",
    "net = load_checkpoint(Path('../../res/checkpoints/segnet_pets.pt'), net)"
   ]
  },
  {
   "cell_type": "code",
   "execution_count": 22,
   "id": "f713e85d-0f58-4b53-95e2-a359f50440d4",
   "metadata": {},
   "outputs": [],
   "source": [
    "def evaluate_model(model: torch.nn.Module, data_loader: DataLoader, device) -> None:\n",
    "    \"\"\"\n",
    "    Evaluate the pixel accuracy and the Intersection over Union (IoU) for the model\n",
    "    :param model: neural network\n",
    "    :param data_loader: torch DataLoader\n",
    "    :param device: device on which to perform the evaluation\n",
    "    :return: None\n",
    "    \"\"\"\n",
    "    model.eval()\n",
    "\n",
    "    iou_scores = []\n",
    "    pixel_acc_scores = []\n",
    "    with torch.no_grad():\n",
    "        for inputs, targets in tqdm(data_loader):\n",
    "            inputs, targets = inputs.to(device), targets.to(device)\n",
    "\n",
    "            outputs = model(inputs)\n",
    "            pred = nn.Softmax(dim=1)(outputs)\n",
    "            pred = pred.argmax(dim=1)\n",
    "            pred = pred.unsqueeze(1).long().to(device)\n",
    "\n",
    "            iou = TM.classification.MulticlassJaccardIndex(35, average='macro').to(device)\n",
    "            iou_score = iou(pred, targets)\n",
    "            iou_scores.append(iou_score.item())\n",
    "\n",
    "            pixel_metric = TM.classification.MulticlassAccuracy(35, average='macro').to(device)\n",
    "            pixel_acc_score = pixel_metric(pred, targets)\n",
    "            pixel_acc_scores.append(pixel_acc_score.item())\n",
    "\n",
    "        iou_tensor = torch.FloatTensor(iou_scores)\n",
    "        pixel_tensor = torch.FloatTensor(pixel_acc_scores)\n",
    "        print(f\"Iou: {iou_tensor.mean()}\")\n",
    "        print(f'Pixel Accuracy: {pixel_tensor.mean()}')\n"
   ]
  },
  {
   "cell_type": "code",
   "execution_count": 23,
   "id": "de0d02cd-af44-4ef7-b855-4a61a01df548",
   "metadata": {},
   "outputs": [
    {
     "name": "stderr",
     "output_type": "stream",
     "text": [
      "100%|██████████| 58/58 [17:26<00:00, 18.05s/it]"
     ]
    },
    {
     "name": "stdout",
     "output_type": "stream",
     "text": [
      "Iou: 0.6738843321800232\n",
      "Pixel Accuracy: 0.8097475171089172\n"
     ]
    },
    {
     "name": "stderr",
     "output_type": "stream",
     "text": [
      "\n"
     ]
    }
   ],
   "source": [
    "evaluate_model(net, test_dataloader, device)"
   ]
  }
 ],
 "metadata": {
  "kernelspec": {
   "display_name": "Python 3 (ipykernel)",
   "language": "python",
   "name": "python3"
  },
  "language_info": {
   "codemirror_mode": {
    "name": "ipython",
    "version": 3
   },
   "file_extension": ".py",
   "mimetype": "text/x-python",
   "name": "python",
   "nbconvert_exporter": "python",
   "pygments_lexer": "ipython3",
   "version": "3.11.0rc1"
  }
 },
 "nbformat": 4,
 "nbformat_minor": 5
}
